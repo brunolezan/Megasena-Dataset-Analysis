{
 "cells": [
  {
   "cell_type": "markdown",
   "metadata": {},
   "source": [
    "## <span style=\"color:#191970\">1. Introdução sobre os dados</span>\n",
    "\n",
    "Ao longo desse notebook iremos analisar alguns dados da Mega-Sena que vão do primeiro concurso em 1"
   ]
  },
  {
   "cell_type": "markdown",
   "metadata": {},
   "source": [
    "Antes de começarmos a trabalhar com os dados, é importante fazer a importação das bibliotecas necessárias:"
   ]
  },
  {
   "cell_type": "code",
   "execution_count": 4,
   "metadata": {},
   "outputs": [],
   "source": [
    "import pandas as pd\n",
    "import matplotlib.pyplot as plt"
   ]
  },
  {
   "cell_type": "code",
   "execution_count": 5,
   "metadata": {},
   "outputs": [],
   "source": [
    "# Atribuir o nome da planilha para a variável \"arquivo\"\n",
    "arquivo = 'basedados.xlsx'\n",
    "# Carregar a base de dados para um objeto pandas.io.excel.ExcelFile\n",
    "excel = pd.ExcelFile(arquivo)\n",
    "# Carregar a planilha excel para um objeto dataframe\n",
    "data = excel.parse(0)"
   ]
  },
  {
   "cell_type": "markdown",
   "metadata": {},
   "source": [
    "## <span style=\"color:#191970\">2. Existe um jeito mais vantajoso de escolher os números?</span>\n",
    "\n",
    "Quando jogamos na Mega-sena, existem diversos critérios que podem ser tomados na escolha dos números. Algumas pessoas optam por colocar a data de aniversário dos familiares, outras colocam os números que consideram ser o \"seu número da sorte\", outras que simplesmente jogam números aleatórios...Mas existem também indivíduos que preferem desenvolver o seu jogo de uma maneira mais \"matemática\" e para isso criam cáculos baseados nos números sorteados anteriormente para decidir quais números irão jogar. A grande questão que iremos discutir é: Será que esses cálculos podem ser relevantes de alguma forma, ou são uma grande perda de tempo?  \n",
    "\n",
    "Para fazer essa análise, ao longo desse notebook, desenvolveremos um método próprio e não muito complexo para a escolha de 4 números da Mega-Sena e então verificaremos o quão eficiente ele teria sido se tivessemos aplicado ele para os jogos do dataset.\n",
    "\n",
    "<span style=\"color:##191970\">**A nossa hipótese é:** </span>\n",
    "- <span style=\"color:#CD950C\">**Se existe um número que aparece muitas vezes, mas que está há muito tempo sem aparecer, ele provavelmente irá aparecer em breve.**</span> Então, propomos o seguinte: se montarmos um jogo e nele colocarmos **4 números**que estejam entre os que **mais saíram nos concursos anteriores** e que também estão entre os números que **estão há mais rodadas seguidas sem sair**, as chances de acertamos o jogo é maior. Isso porque, acreditamos que **pelo menos 1 desses 4 números será sorteado**. \n",
    "\n",
    "<span style=\"color:##191970\">**Para escolher os quatro números, devemos:**</span> \n",
    "- <span style=\"background-color:##E8E8E8; \">  Primeira Etapa:</span>  Montar uma **tabela com os números foram mais sorteados nos concursos anteriores**, na qual o primeiro elemento é o número que mais saiu.\n",
    "- <span style=\"background-color:##E8E8E8; \">  Segunda Etapa:</span>  Montar uma segunda **tabela com os números que estão a mais tempo sem ser sorteado até aquele concurso**, na qual o primeiro elemento é aquele que está a mais rodadas sem ser sorteado.\n",
    "- <span style=\"background-color:##E8E8E8; \">  Terceira Etapa:</span>  Depois criaremos uma terceira **tabela onde iremos levar em consideração a soma:** <span style=\"color:#CD950C\">**posição do número na primeira tabela + a posição do número na segunda tabela**</span>. Nesta tabela, o primeiro elemento será aquele que a soma deu o menor valor, ou seja, aquele que está numa posição relativamente mais acima na primeira e na segunda tabela.\n",
    "- <span style=\"background-color:##E8E8E8; \">  Quarta Etapa:</span>  Feito isso, os **4 primeiros números** da terceira tabela serão os números escolhidos para serem jogados no concurso em questão.\n",
    "\n",
    "Para entender melhor a lógica proposta vejamos um exemplo meramente ilustrativo:\n",
    "\n",
    "<img width=\"600\" alt=\"tabela1\" src=\"https://drive.google.com/uc?export=view&id=1d-4Gm_DGPwlZxWQFcsAwOOmvBLdrKYMY\">\n",
    "<img width=\"600\" alt=\"tabela1\" src=\"https://drive.google.com/uc?export=view&id=1vDVRE2ghPGTKI1Pb6Udb5xSuRrwhA-xA\">\n",
    "<img width=\"600\" alt=\"tabela1\" src=\"https://drive.google.com/uc?export=view&id=1twxyhMeDkjy7kn2GOePJ2kQCLSJu8KUe\">\n",
    "\n",
    "\n",
    "<span style=\"color:##191970\">**Para verificar a nossa hipótese vamos fazer o seguinte:** </span>\n",
    "- Para cada concurso, após a escolha dos quatro números, veremos **quantas vezes pelo menos 1 dos 4 números foi, de fato, sorteado**, verificando se o método foi eficiente ou não. E então, calcularemos em **quantos porecento do total de concursos** o objetivo de acertar 1 número foi atingido.Assim, será possível visualizar o quão relevante é esse processo de escolha dos números.\n"
   ]
  },
  {
   "cell_type": "markdown",
   "metadata": {},
   "source": [
    "### <span style=\"color:##191970\">2.1. Construindo a lógica de cada etapa</span>"
   ]
  },
  {
   "cell_type": "markdown",
   "metadata": {},
   "source": [
    "#### <span style=\"color:##191970\">a) Montando a Tabela 1</span>"
   ]
  },
  {
   "cell_type": "markdown",
   "metadata": {
    "collapsed": true
   },
   "source": [
    ">```python\n",
    "n_sorteados=[] #crio uma lista para guardar os valores sorteados\n",
    "c = concurso_x #crio a variável o que vai armazenar o número do concurso\n",
    "colunas = ['Dezena1','Dezena2', 'Dezena3', 'Dezena4' , 'Dezena5', 'Dezena6']\n",
    "for i in range(c): #percorre concursos anteriores\n",
    "    for k in colunas: #percorre cada uma das dezenas\n",
    "        j = data[k].iloc[i] #descobre o valor sorteado naquela dezena \n",
    "        n_sorteados.append(j) #adiciona ao n_sorteados o valor descoberto   \n",
    "aparicoes={} #cria o dicionário para as apariçoes de cada número   \n",
    "for i in set(n_sorteados): #para cada valor sorteado\n",
    "    aparicoes[i] = n_sorteados.count(i) #dizemos quantas vezes ele aparece    \n",
    "chaves = [] #cria uma lista para receber as chaves\n",
    "valores = [] #cria uma lista para receber os valores\n",
    "for i,j in aparicoes.items():#para cada item em aparições\n",
    "    chaves.append(i) #adiciona os valores da lista chave\n",
    "    valores.append(j) #adiviona os valores da lista value\n",
    "B = {'Numero':chaves, 'Repeticoes':valores} #cria um dicionário B com os valores das chavez e dos valores\n",
    "tab1= pd.DataFrame(data = B) #assim é possível criar um dataframe que será a tabela 1 \n",
    "tab1 = tab1.sort_values(by=['Repeticoes'], ascending = False) #ordenamos o DataFrame pelo número de aparições e do maior para o menor\n",
    "```"
   ]
  },
  {
   "cell_type": "markdown",
   "metadata": {},
   "source": [
    "#### <span style=\"color:##191970\">b) Montando a Tabela 2</span>"
   ]
  },
  {
   "cell_type": "markdown",
   "metadata": {
    "collapsed": true
   },
   "source": [
    ">```python\n",
    "ultima_aparicao = {} #crio dicionário para armazenar a última aparição do número\n",
    "for j in set(n_sorteados): #para cada número\n",
    "    for i in range(c): #do primeiro ao ultimo concurso\n",
    "        for k in colunas:\n",
    "            if j == data[k].iloc[i]: # se o i for igual a uma das dezenas sorteadas \n",
    "                ultima_aparicao[j] = data['Data Sorteio'].iloc[i] #colocamos data do concurso no dicionário\n",
    "chaves = [] #cria uma lista para receber as chaves\n",
    "valores = [] #cria uma lista para receber os valores\n",
    "for i,j in ultima_aparicao.items():\n",
    "    chaves.append(i) #adiciona os valores da lista chave\n",
    "    valores.append(j) #adiviona os valores da lista value \n",
    "C = {'Numero':chaves, 'Última Aparição':valores} #cria um dicionário C com os valores das chavez e dos valores\n",
    "tab2 = pd.DataFrame(data=C) #assim é possível criar um dataframe que será a tabela 2 \n",
    "tab2 = tab2.sort_values('Última Aparição') #ordenamos o DataFrame pelo ultima aparição da mais antiga para a mais atual\n",
    "```\n"
   ]
  },
  {
   "cell_type": "markdown",
   "metadata": {},
   "source": [
    "#### <span style=\"color:##191970\">c) Montando a Tabela 3</span>"
   ]
  },
  {
   "cell_type": "markdown",
   "metadata": {
    "collapsed": true
   },
   "source": [
    ">```python\n",
    "soma_posicoes = {} #crio dicionário para armazenar as somas\n",
    "posicao_tab1 = {}#crio dicionário para armazenar as posições da tabela1\n",
    "posicao_tab2 = {}#Crio dicionário para armazenar as posições da tabela2\n",
    "for j in set(n_sorteados):#para cada valor sorteado\n",
    "    index_tab1 = pd.Index(tab1.Numero)\n",
    "    posicao_tab1[j] = index_tab1.get_loc(j)#pego a posição do j na tabela 1    \n",
    "for j in set(n_sorteados):#para cada valor sorteado\n",
    "    index_tab2 = pd.Index(tab2.Numero)\n",
    "    posicao_tab2[j] = index_tab2.get_loc(j)#pego a posição do j na tabela 2\n",
    "for i in set(n_sorteados):    \n",
    "    soma_posicoes[i]= posicao_tab1[i] + posicao_tab2[i] \n",
    "chaves = [] #cria uma lista para receber as chaves\n",
    "valores = [] #cria uma lista para receber os valores\n",
    "for i,j in soma_posicoes.items():\n",
    "    chaves.append(i) #adiciona os valores da lista chave\n",
    "    valores.append(j) #adiviona os valores da lista value    \n",
    "D = {'Numero':chaves, 'Soma das posições':valores} #cria um dicionário D com os valores das chavez e dos valores\n",
    "tab3 = pd.DataFrame(data=D) #assim é possível criar um dataframe que será a tabela 3 \n",
    "tab3 = tab3.sort_values('Soma das posições') #ordenamos o DataFrame pelo número de aparições e do menor para o maior\n",
    "```"
   ]
  },
  {
   "cell_type": "markdown",
   "metadata": {},
   "source": [
    "#### <span style=\"color:##191970\">d) Escolhendo os 4 Números</span>"
   ]
  },
  {
   "cell_type": "markdown",
   "metadata": {
    "collapsed": true,
    "scrolled": true
   },
   "source": [
    ">```python\n",
    "Quatro_numeros= tab3.Numero.iloc[0:4].tolist()#na coluna Numero da tabela 3 , busco os 4 primeiros valores\n",
    "```\n",
    "\n",
    "\n"
   ]
  },
  {
   "cell_type": "markdown",
   "metadata": {},
   "source": [
    "#### <span style=\"color:##191970\">e) Verificando se um dos números foi sorteado</span>"
   ]
  },
  {
   "cell_type": "markdown",
   "metadata": {
    "collapsed": true
   },
   "source": [
    ">```python\n",
    "for i in colunas:#para cada dezena\n",
    "    for j in Quatro_numeros: #para cada palpite\n",
    "        if j == data[i].loc[c]: # verifica se naquele concurso o palpite foi certo\n",
    "            data['Acertos Palpite'][c]+=1\n",
    "```\n"
   ]
  },
  {
   "cell_type": "markdown",
   "metadata": {},
   "source": [
    "### <span style=\"color:##191970\">2.2 Aplicando em todos os concursos</span>\n",
    "\n",
    "Agora que já temos a lógica para a construção de cada uma das etapas iremos junta-las numa única célula para podermos aplicar o método a cad um dos concursos."
   ]
  },
  {
   "cell_type": "code",
   "execution_count": 12,
   "metadata": {},
   "outputs": [
    {
     "name": "stderr",
     "output_type": "stream",
     "text": [
      "/srv/venv/lib/python3.6/site-packages/ipykernel_launcher.py:73: SettingWithCopyWarning: \n",
      "A value is trying to be set on a copy of a slice from a DataFrame\n",
      "\n",
      "See the caveats in the documentation: http://pandas.pydata.org/pandas-docs/stable/indexing.html#indexing-view-versus-copy\n"
     ]
    }
   ],
   "source": [
    "for i in data:\n",
    "    data['Acertos Palpite']= 0 #Adiciona a coluna ao dataset, com todos os valore iguais a 0\n",
    "    \n",
    "for x in range(2025):\n",
    "    n_sorteados=[]\n",
    "    c = x\n",
    "    a = c-10 # Quero Utilizar apenas os 10 valores anteriores\n",
    "    if a <0:\n",
    "        a=0\n",
    "        \n",
    "    #Código para descobrir a tabela 1\n",
    "    colunas = ['Dezena1','Dezena2', 'Dezena3', 'Dezena4' , 'Dezena5', 'Dezena6']\n",
    "    for i in range(a,c): \n",
    "        for k in colunas:\n",
    "            j = data[k].iloc[i] \n",
    "            n_sorteados.append(j) \n",
    "    aparicoes={}  \n",
    "    for i in set(n_sorteados): \n",
    "        aparicoes[i] = n_sorteados.count(i)   \n",
    "    chaves = [] \n",
    "    valores = [] \n",
    "    for i,j in aparicoes.items():\n",
    "        chaves.append(i)\n",
    "        valores.append(j) \n",
    "    B = {'Numero':chaves, 'Repeticoes':valores} \n",
    "    tab1= pd.DataFrame(data = B) \n",
    "    tab1 = tab1.sort_values(by=['Repeticoes'], ascending = False) \n",
    "    \n",
    "    #Código para descobrir a tabela 2\n",
    "    ultima_aparicao = {}\n",
    "    for j in set(n_sorteados): \n",
    "        for i in range(a,c):\n",
    "            for k in colunas:\n",
    "                if j == data[k].iloc[i]:  \n",
    "                    ultima_aparicao[j] = data['Data Sorteio'].iloc[i]\n",
    "    chaves = [] \n",
    "    valores = [] \n",
    "    for i,j in ultima_aparicao.items():\n",
    "        chaves.append(i) \n",
    "        valores.append(j)\n",
    "    C = {'Numero':chaves, 'Última Aparição':valores} \n",
    "    tab2 = pd.DataFrame(data=C) \n",
    "    tab2 = tab2.sort_values('Última Aparição') \n",
    "    \n",
    "    #Código para descobrir tabela 3\n",
    "    soma_posicoes = {}\n",
    "    posicao_tab1 = {}\n",
    "    posicao_tab2 = {}\n",
    "    for j in set(n_sorteados): \n",
    "        index_tab1 = pd.Index(tab1.Numero)\n",
    "        posicao_tab1[j] = index_tab1.get_loc(j) \n",
    "    for j in set(n_sorteados):\n",
    "        index_tab2 = pd.Index(tab2.Numero)\n",
    "        posicao_tab2[j] = index_tab2.get_loc(j)\n",
    "    for i in set(n_sorteados):    \n",
    "        soma_posicoes[i]= posicao_tab1[i] + posicao_tab2[i]\n",
    "    chaves = [] \n",
    "    valores = []\n",
    "    for i,j in soma_posicoes.items():\n",
    "        chaves.append(i) \n",
    "        valores.append(j)\n",
    "    D = {'Numero':chaves, 'Soma das posições':valores}\n",
    "    tab3 = pd.DataFrame(data=D)\n",
    "    tab3 = tab3.sort_values('Soma das posições')\n",
    "    \n",
    "    #Escolhe os 4 Números\n",
    "    Quatro_numeros= tab3.Numero.iloc[0:4].tolist()\n",
    "    \n",
    "    #Verifica e coloca na coluna Acertos Palpite\n",
    "    for i in colunas:\n",
    "        for j in Quatro_numeros:\n",
    "            if j == data[i].loc[c]:\n",
    "                data['Acertos Palpite'][c]+=1\n",
    "    \n",
    " \n",
    "    "
   ]
  },
  {
   "cell_type": "markdown",
   "metadata": {},
   "source": [
    "### <span style=\"color:##191970\">2.3 Vendo a Eficiência do Método</span>"
   ]
  },
  {
   "cell_type": "code",
   "execution_count": 37,
   "metadata": {
    "scrolled": true
   },
   "outputs": [
    {
     "data": {
      "text/html": [
       "<div>\n",
       "<style scoped>\n",
       "    .dataframe tbody tr th:only-of-type {\n",
       "        vertical-align: middle;\n",
       "    }\n",
       "\n",
       "    .dataframe tbody tr th {\n",
       "        vertical-align: top;\n",
       "    }\n",
       "\n",
       "    .dataframe thead th {\n",
       "        text-align: right;\n",
       "    }\n",
       "</style>\n",
       "<table border=\"1\" class=\"dataframe\">\n",
       "  <thead>\n",
       "    <tr style=\"text-align: right;\">\n",
       "      <th></th>\n",
       "      <th>Porcentagem</th>\n",
       "    </tr>\n",
       "    <tr>\n",
       "      <th>Acertos Palpite</th>\n",
       "      <th></th>\n",
       "    </tr>\n",
       "  </thead>\n",
       "  <tbody>\n",
       "    <tr>\n",
       "      <th>0</th>\n",
       "      <td>64.098765</td>\n",
       "    </tr>\n",
       "    <tr>\n",
       "      <th>1</th>\n",
       "      <td>31.407407</td>\n",
       "    </tr>\n",
       "    <tr>\n",
       "      <th>2</th>\n",
       "      <td>4.345679</td>\n",
       "    </tr>\n",
       "    <tr>\n",
       "      <th>3</th>\n",
       "      <td>0.148148</td>\n",
       "    </tr>\n",
       "  </tbody>\n",
       "</table>\n",
       "</div>"
      ],
      "text/plain": [
       "                 Porcentagem\n",
       "Acertos Palpite             \n",
       "0                  64.098765\n",
       "1                  31.407407\n",
       "2                   4.345679\n",
       "3                   0.148148"
      ]
     },
     "execution_count": 37,
     "metadata": {},
     "output_type": "execute_result"
    }
   ],
   "source": [
    "#criar uma pivot table \n",
    "tab_eficiencia = data.pivot_table(index=\"Acertos Palpite\",\n",
    "                 values = \"Concurso\",\n",
    "                 aggfunc=lambda x: 100*(len(x)/len(data))) \n",
    "#Calcula em quantos porcento do total o método acertou 0, 1, 2 ou 3 números\n",
    "\n",
    "tab_eficiencia.rename(columns={'Concurso':'Porcentagem'}, inplace=True)\n",
    "\n",
    "tab_eficiencia"
   ]
  },
  {
   "cell_type": "markdown",
   "metadata": {},
   "source": [
    "analiseeeee"
   ]
  },
  {
   "cell_type": "code",
   "execution_count": 52,
   "metadata": {},
   "outputs": [
    {
     "ename": "KeyError",
     "evalue": "'Acertos Palpite'",
     "output_type": "error",
     "traceback": [
      "\u001b[0;31m---------------------------------------------------------------------------\u001b[0m",
      "\u001b[0;31mKeyError\u001b[0m                                  Traceback (most recent call last)",
      "\u001b[0;32m/srv/venv/lib/python3.6/site-packages/pandas/core/indexes/base.py\u001b[0m in \u001b[0;36mget_loc\u001b[0;34m(self, key, method, tolerance)\u001b[0m\n\u001b[1;32m   2524\u001b[0m             \u001b[0;32mtry\u001b[0m\u001b[0;34m:\u001b[0m\u001b[0;34m\u001b[0m\u001b[0m\n\u001b[0;32m-> 2525\u001b[0;31m                 \u001b[0;32mreturn\u001b[0m \u001b[0mself\u001b[0m\u001b[0;34m.\u001b[0m\u001b[0m_engine\u001b[0m\u001b[0;34m.\u001b[0m\u001b[0mget_loc\u001b[0m\u001b[0;34m(\u001b[0m\u001b[0mkey\u001b[0m\u001b[0;34m)\u001b[0m\u001b[0;34m\u001b[0m\u001b[0m\n\u001b[0m\u001b[1;32m   2526\u001b[0m             \u001b[0;32mexcept\u001b[0m \u001b[0mKeyError\u001b[0m\u001b[0;34m:\u001b[0m\u001b[0;34m\u001b[0m\u001b[0m\n",
      "\u001b[0;32mpandas/_libs/index.pyx\u001b[0m in \u001b[0;36mpandas._libs.index.IndexEngine.get_loc\u001b[0;34m()\u001b[0m\n",
      "\u001b[0;32mpandas/_libs/index.pyx\u001b[0m in \u001b[0;36mpandas._libs.index.IndexEngine.get_loc\u001b[0;34m()\u001b[0m\n",
      "\u001b[0;32mpandas/_libs/hashtable_class_helper.pxi\u001b[0m in \u001b[0;36mpandas._libs.hashtable.PyObjectHashTable.get_item\u001b[0;34m()\u001b[0m\n",
      "\u001b[0;32mpandas/_libs/hashtable_class_helper.pxi\u001b[0m in \u001b[0;36mpandas._libs.hashtable.PyObjectHashTable.get_item\u001b[0;34m()\u001b[0m\n",
      "\u001b[0;31mKeyError\u001b[0m: 'Acertos Palpite'",
      "\nDuring handling of the above exception, another exception occurred:\n",
      "\u001b[0;31mKeyError\u001b[0m                                  Traceback (most recent call last)",
      "\u001b[0;32m<ipython-input-52-09f4e528ad01>\u001b[0m in \u001b[0;36m<module>\u001b[0;34m()\u001b[0m\n\u001b[1;32m      1\u001b[0m \u001b[0mfig\u001b[0m\u001b[0;34m,\u001b[0m \u001b[0maxes\u001b[0m \u001b[0;34m=\u001b[0m \u001b[0mplt\u001b[0m\u001b[0;34m.\u001b[0m\u001b[0msubplots\u001b[0m\u001b[0;34m(\u001b[0m\u001b[0mnrows\u001b[0m\u001b[0;34m=\u001b[0m\u001b[0;36m1\u001b[0m\u001b[0;34m,\u001b[0m \u001b[0mncols\u001b[0m\u001b[0;34m=\u001b[0m\u001b[0;36m1\u001b[0m\u001b[0;34m,\u001b[0m \u001b[0mfigsize\u001b[0m\u001b[0;34m=\u001b[0m\u001b[0;34m(\u001b[0m\u001b[0;36m5\u001b[0m\u001b[0;34m,\u001b[0m\u001b[0;36m5\u001b[0m\u001b[0;34m)\u001b[0m\u001b[0;34m)\u001b[0m\u001b[0;34m\u001b[0m\u001b[0m\n\u001b[1;32m      2\u001b[0m \u001b[0;34m\u001b[0m\u001b[0m\n\u001b[0;32m----> 3\u001b[0;31m \u001b[0mvalor_x\u001b[0m \u001b[0;34m=\u001b[0m \u001b[0mtab_eficiencia\u001b[0m\u001b[0;34m[\u001b[0m\u001b[0;34m'Acertos Palpite'\u001b[0m\u001b[0;34m]\u001b[0m\u001b[0;34m.\u001b[0m\u001b[0mtolist\u001b[0m\u001b[0;34m(\u001b[0m\u001b[0;34m)\u001b[0m\u001b[0;34m\u001b[0m\u001b[0m\n\u001b[0m\u001b[1;32m      4\u001b[0m \u001b[0mvalor_y\u001b[0m \u001b[0;34m=\u001b[0m \u001b[0mtab_eficiencia\u001b[0m\u001b[0;34m.\u001b[0m\u001b[0mPorcentagem\u001b[0m\u001b[0;34m.\u001b[0m\u001b[0mtolist\u001b[0m\u001b[0;34m(\u001b[0m\u001b[0;34m)\u001b[0m\u001b[0;34m\u001b[0m\u001b[0m\n\u001b[1;32m      5\u001b[0m \u001b[0;34m\u001b[0m\u001b[0m\n",
      "\u001b[0;32m/srv/venv/lib/python3.6/site-packages/pandas/core/frame.py\u001b[0m in \u001b[0;36m__getitem__\u001b[0;34m(self, key)\u001b[0m\n\u001b[1;32m   2137\u001b[0m             \u001b[0;32mreturn\u001b[0m \u001b[0mself\u001b[0m\u001b[0;34m.\u001b[0m\u001b[0m_getitem_multilevel\u001b[0m\u001b[0;34m(\u001b[0m\u001b[0mkey\u001b[0m\u001b[0;34m)\u001b[0m\u001b[0;34m\u001b[0m\u001b[0m\n\u001b[1;32m   2138\u001b[0m         \u001b[0;32melse\u001b[0m\u001b[0;34m:\u001b[0m\u001b[0;34m\u001b[0m\u001b[0m\n\u001b[0;32m-> 2139\u001b[0;31m             \u001b[0;32mreturn\u001b[0m \u001b[0mself\u001b[0m\u001b[0;34m.\u001b[0m\u001b[0m_getitem_column\u001b[0m\u001b[0;34m(\u001b[0m\u001b[0mkey\u001b[0m\u001b[0;34m)\u001b[0m\u001b[0;34m\u001b[0m\u001b[0m\n\u001b[0m\u001b[1;32m   2140\u001b[0m \u001b[0;34m\u001b[0m\u001b[0m\n\u001b[1;32m   2141\u001b[0m     \u001b[0;32mdef\u001b[0m \u001b[0m_getitem_column\u001b[0m\u001b[0;34m(\u001b[0m\u001b[0mself\u001b[0m\u001b[0;34m,\u001b[0m \u001b[0mkey\u001b[0m\u001b[0;34m)\u001b[0m\u001b[0;34m:\u001b[0m\u001b[0;34m\u001b[0m\u001b[0m\n",
      "\u001b[0;32m/srv/venv/lib/python3.6/site-packages/pandas/core/frame.py\u001b[0m in \u001b[0;36m_getitem_column\u001b[0;34m(self, key)\u001b[0m\n\u001b[1;32m   2144\u001b[0m         \u001b[0;31m# get column\u001b[0m\u001b[0;34m\u001b[0m\u001b[0;34m\u001b[0m\u001b[0m\n\u001b[1;32m   2145\u001b[0m         \u001b[0;32mif\u001b[0m \u001b[0mself\u001b[0m\u001b[0;34m.\u001b[0m\u001b[0mcolumns\u001b[0m\u001b[0;34m.\u001b[0m\u001b[0mis_unique\u001b[0m\u001b[0;34m:\u001b[0m\u001b[0;34m\u001b[0m\u001b[0m\n\u001b[0;32m-> 2146\u001b[0;31m             \u001b[0;32mreturn\u001b[0m \u001b[0mself\u001b[0m\u001b[0;34m.\u001b[0m\u001b[0m_get_item_cache\u001b[0m\u001b[0;34m(\u001b[0m\u001b[0mkey\u001b[0m\u001b[0;34m)\u001b[0m\u001b[0;34m\u001b[0m\u001b[0m\n\u001b[0m\u001b[1;32m   2147\u001b[0m \u001b[0;34m\u001b[0m\u001b[0m\n\u001b[1;32m   2148\u001b[0m         \u001b[0;31m# duplicate columns & possible reduce dimensionality\u001b[0m\u001b[0;34m\u001b[0m\u001b[0;34m\u001b[0m\u001b[0m\n",
      "\u001b[0;32m/srv/venv/lib/python3.6/site-packages/pandas/core/generic.py\u001b[0m in \u001b[0;36m_get_item_cache\u001b[0;34m(self, item)\u001b[0m\n\u001b[1;32m   1840\u001b[0m         \u001b[0mres\u001b[0m \u001b[0;34m=\u001b[0m \u001b[0mcache\u001b[0m\u001b[0;34m.\u001b[0m\u001b[0mget\u001b[0m\u001b[0;34m(\u001b[0m\u001b[0mitem\u001b[0m\u001b[0;34m)\u001b[0m\u001b[0;34m\u001b[0m\u001b[0m\n\u001b[1;32m   1841\u001b[0m         \u001b[0;32mif\u001b[0m \u001b[0mres\u001b[0m \u001b[0;32mis\u001b[0m \u001b[0;32mNone\u001b[0m\u001b[0;34m:\u001b[0m\u001b[0;34m\u001b[0m\u001b[0m\n\u001b[0;32m-> 1842\u001b[0;31m             \u001b[0mvalues\u001b[0m \u001b[0;34m=\u001b[0m \u001b[0mself\u001b[0m\u001b[0;34m.\u001b[0m\u001b[0m_data\u001b[0m\u001b[0;34m.\u001b[0m\u001b[0mget\u001b[0m\u001b[0;34m(\u001b[0m\u001b[0mitem\u001b[0m\u001b[0;34m)\u001b[0m\u001b[0;34m\u001b[0m\u001b[0m\n\u001b[0m\u001b[1;32m   1843\u001b[0m             \u001b[0mres\u001b[0m \u001b[0;34m=\u001b[0m \u001b[0mself\u001b[0m\u001b[0;34m.\u001b[0m\u001b[0m_box_item_values\u001b[0m\u001b[0;34m(\u001b[0m\u001b[0mitem\u001b[0m\u001b[0;34m,\u001b[0m \u001b[0mvalues\u001b[0m\u001b[0;34m)\u001b[0m\u001b[0;34m\u001b[0m\u001b[0m\n\u001b[1;32m   1844\u001b[0m             \u001b[0mcache\u001b[0m\u001b[0;34m[\u001b[0m\u001b[0mitem\u001b[0m\u001b[0;34m]\u001b[0m \u001b[0;34m=\u001b[0m \u001b[0mres\u001b[0m\u001b[0;34m\u001b[0m\u001b[0m\n",
      "\u001b[0;32m/srv/venv/lib/python3.6/site-packages/pandas/core/internals.py\u001b[0m in \u001b[0;36mget\u001b[0;34m(self, item, fastpath)\u001b[0m\n\u001b[1;32m   3841\u001b[0m \u001b[0;34m\u001b[0m\u001b[0m\n\u001b[1;32m   3842\u001b[0m             \u001b[0;32mif\u001b[0m \u001b[0;32mnot\u001b[0m \u001b[0misna\u001b[0m\u001b[0;34m(\u001b[0m\u001b[0mitem\u001b[0m\u001b[0;34m)\u001b[0m\u001b[0;34m:\u001b[0m\u001b[0;34m\u001b[0m\u001b[0m\n\u001b[0;32m-> 3843\u001b[0;31m                 \u001b[0mloc\u001b[0m \u001b[0;34m=\u001b[0m \u001b[0mself\u001b[0m\u001b[0;34m.\u001b[0m\u001b[0mitems\u001b[0m\u001b[0;34m.\u001b[0m\u001b[0mget_loc\u001b[0m\u001b[0;34m(\u001b[0m\u001b[0mitem\u001b[0m\u001b[0;34m)\u001b[0m\u001b[0;34m\u001b[0m\u001b[0m\n\u001b[0m\u001b[1;32m   3844\u001b[0m             \u001b[0;32melse\u001b[0m\u001b[0;34m:\u001b[0m\u001b[0;34m\u001b[0m\u001b[0m\n\u001b[1;32m   3845\u001b[0m                 \u001b[0mindexer\u001b[0m \u001b[0;34m=\u001b[0m \u001b[0mnp\u001b[0m\u001b[0;34m.\u001b[0m\u001b[0marange\u001b[0m\u001b[0;34m(\u001b[0m\u001b[0mlen\u001b[0m\u001b[0;34m(\u001b[0m\u001b[0mself\u001b[0m\u001b[0;34m.\u001b[0m\u001b[0mitems\u001b[0m\u001b[0;34m)\u001b[0m\u001b[0;34m)\u001b[0m\u001b[0;34m[\u001b[0m\u001b[0misna\u001b[0m\u001b[0;34m(\u001b[0m\u001b[0mself\u001b[0m\u001b[0;34m.\u001b[0m\u001b[0mitems\u001b[0m\u001b[0;34m)\u001b[0m\u001b[0;34m]\u001b[0m\u001b[0;34m\u001b[0m\u001b[0m\n",
      "\u001b[0;32m/srv/venv/lib/python3.6/site-packages/pandas/core/indexes/base.py\u001b[0m in \u001b[0;36mget_loc\u001b[0;34m(self, key, method, tolerance)\u001b[0m\n\u001b[1;32m   2525\u001b[0m                 \u001b[0;32mreturn\u001b[0m \u001b[0mself\u001b[0m\u001b[0;34m.\u001b[0m\u001b[0m_engine\u001b[0m\u001b[0;34m.\u001b[0m\u001b[0mget_loc\u001b[0m\u001b[0;34m(\u001b[0m\u001b[0mkey\u001b[0m\u001b[0;34m)\u001b[0m\u001b[0;34m\u001b[0m\u001b[0m\n\u001b[1;32m   2526\u001b[0m             \u001b[0;32mexcept\u001b[0m \u001b[0mKeyError\u001b[0m\u001b[0;34m:\u001b[0m\u001b[0;34m\u001b[0m\u001b[0m\n\u001b[0;32m-> 2527\u001b[0;31m                 \u001b[0;32mreturn\u001b[0m \u001b[0mself\u001b[0m\u001b[0;34m.\u001b[0m\u001b[0m_engine\u001b[0m\u001b[0;34m.\u001b[0m\u001b[0mget_loc\u001b[0m\u001b[0;34m(\u001b[0m\u001b[0mself\u001b[0m\u001b[0;34m.\u001b[0m\u001b[0m_maybe_cast_indexer\u001b[0m\u001b[0;34m(\u001b[0m\u001b[0mkey\u001b[0m\u001b[0;34m)\u001b[0m\u001b[0;34m)\u001b[0m\u001b[0;34m\u001b[0m\u001b[0m\n\u001b[0m\u001b[1;32m   2528\u001b[0m \u001b[0;34m\u001b[0m\u001b[0m\n\u001b[1;32m   2529\u001b[0m         \u001b[0mindexer\u001b[0m \u001b[0;34m=\u001b[0m \u001b[0mself\u001b[0m\u001b[0;34m.\u001b[0m\u001b[0mget_indexer\u001b[0m\u001b[0;34m(\u001b[0m\u001b[0;34m[\u001b[0m\u001b[0mkey\u001b[0m\u001b[0;34m]\u001b[0m\u001b[0;34m,\u001b[0m \u001b[0mmethod\u001b[0m\u001b[0;34m=\u001b[0m\u001b[0mmethod\u001b[0m\u001b[0;34m,\u001b[0m \u001b[0mtolerance\u001b[0m\u001b[0;34m=\u001b[0m\u001b[0mtolerance\u001b[0m\u001b[0;34m)\u001b[0m\u001b[0;34m\u001b[0m\u001b[0m\n",
      "\u001b[0;32mpandas/_libs/index.pyx\u001b[0m in \u001b[0;36mpandas._libs.index.IndexEngine.get_loc\u001b[0;34m()\u001b[0m\n",
      "\u001b[0;32mpandas/_libs/index.pyx\u001b[0m in \u001b[0;36mpandas._libs.index.IndexEngine.get_loc\u001b[0;34m()\u001b[0m\n",
      "\u001b[0;32mpandas/_libs/hashtable_class_helper.pxi\u001b[0m in \u001b[0;36mpandas._libs.hashtable.PyObjectHashTable.get_item\u001b[0;34m()\u001b[0m\n",
      "\u001b[0;32mpandas/_libs/hashtable_class_helper.pxi\u001b[0m in \u001b[0;36mpandas._libs.hashtable.PyObjectHashTable.get_item\u001b[0;34m()\u001b[0m\n",
      "\u001b[0;31mKeyError\u001b[0m: 'Acertos Palpite'"
     ]
    },
    {
     "data": {
      "image/png": "[encoded data removed]",
      "text/plain": [
       "<Figure size 360x360 with 1 Axes>"
      ]
     },
     "metadata": {},
     "output_type": "display_data"
    }
   ],
   "source": [
    "fig, axes = plt.subplots(nrows=1, ncols=1, figsize=(5,5))\n",
    "\n",
    "valor_x = tab_eficiencia['Acertos Palpite'].tolist()\n",
    "valor_y = tab_eficiencia.Porcentagem.tolist()\n",
    "\n",
    "\n",
    "for i in range(0,4):\n",
    "    ax=data.plot(kind='bar',x=valor_x[i], y = valor_y[i],\n",
    "                   title= 'Eficiência do Método',\n",
    "                   color=['blue','yellow'], legend=False,\n",
    "                   ax=axes[i//2, i%2])\n",
    "for key, spine in ax.spines.items():\n",
    "    spine.set_visible(False)\n",
    "    ax.legend(loc='best',labels=['Porcentagens','Acertos'])\n",
    "\n"
   ]
  },
  {
   "cell_type": "markdown",
   "metadata": {},
   "source": [
    "## <span style=\"color:##191970\">3. Conclusão</span>\n",
    "\n",
    "Como a Mega-Sena se trata de um jogo de azar, infelizmente, afirmar que existe um método de escolha que **é** mais vantajoso ou afirmar que podemos **prever** os números que serão sorteados não é algo que podemos fazer. No entanto, diante das análises que foram apresentadas ao longo desse notebook, somos capazes de dizer que para os jogos anteriores o método proposto **foi**, sim, vantajoso e que muitos dos números que **prevemos**, de fato, foram sorteados. Sendo assim, é razoável concluir que a aplicação de uma lógica na escolha dos números da Mega-sena nem sempre será algo inútil ou irrelevante como muitos pensam que é, e que é interessante desenvolver um raciocínio de jogo quando se tem tantos dados disponíveis para serem estudados. \n"
   ]
  }
 ],
 "metadata": {
  "kernelspec": {
   "display_name": "Python 3",
   "language": "python",
   "name": "python3"
  },
  "language_info": {
   "codemirror_mode": {
    "name": "ipython",
    "version": 3
   },
   "file_extension": ".py",
   "mimetype": "text/x-python",
   "name": "python",
   "nbconvert_exporter": "python",
   "pygments_lexer": "ipython3",
   "version": "3.6.3"
  }
 },
 "nbformat": 4,
 "nbformat_minor": 2
}

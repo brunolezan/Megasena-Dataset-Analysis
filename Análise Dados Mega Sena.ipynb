{
 "cells": [
  {
   "cell_type": "markdown",
   "metadata": {},
   "source": [
    "## <span style=\"color:#191970\">1. Introdução sobre os dados</span>\n",
    "\n",
    "Ao longo desse notebook iremos analisar alguns dados da Mega-Sena que vão desde o primeiro concurso em 11-03-1996 até o de 24-03-2018, totalizando um conjunto de informações referentes a 2025 concursos. Abaixo temos uma visualização dos dados presentes no dataset:"
   ]
  },
  {
   "cell_type": "code",
   "execution_count": 3,
   "metadata": {
    "scrolled": true
   },
   "outputs": [
    {
     "data": {
      "text/html": [
       "<div>\n",
       "<style scoped>\n",
       "    .dataframe tbody tr th:only-of-type {\n",
       "        vertical-align: middle;\n",
       "    }\n",
       "\n",
       "    .dataframe tbody tr th {\n",
       "        vertical-align: top;\n",
       "    }\n",
       "\n",
       "    .dataframe thead th {\n",
       "        text-align: right;\n",
       "    }\n",
       "</style>\n",
       "<table border=\"1\" class=\"dataframe\">\n",
       "  <thead>\n",
       "    <tr style=\"text-align: right;\">\n",
       "      <th></th>\n",
       "      <th>Concurso</th>\n",
       "      <th>Data Sorteio</th>\n",
       "      <th>Dezena1</th>\n",
       "      <th>Dezena2</th>\n",
       "      <th>Dezena3</th>\n",
       "      <th>Dezena4</th>\n",
       "      <th>Dezena5</th>\n",
       "      <th>Dezena6</th>\n",
       "      <th>Arrecadacao_Total</th>\n",
       "      <th>Ganhadores_Sena</th>\n",
       "      <th>Rateio_Sena</th>\n",
       "      <th>Ganhadores_Quina</th>\n",
       "      <th>Rateio_Quina</th>\n",
       "      <th>Ganhadores_Quadra</th>\n",
       "      <th>Rateio_Quadra</th>\n",
       "      <th>Acumulado</th>\n",
       "      <th>Valor_Acumulado</th>\n",
       "      <th>Estimativa_Prêmio</th>\n",
       "    </tr>\n",
       "  </thead>\n",
       "  <tbody>\n",
       "    <tr>\n",
       "      <th>0</th>\n",
       "      <td>1</td>\n",
       "      <td>1996-03-11</td>\n",
       "      <td>41</td>\n",
       "      <td>5</td>\n",
       "      <td>4</td>\n",
       "      <td>52</td>\n",
       "      <td>30</td>\n",
       "      <td>33</td>\n",
       "      <td>0.0</td>\n",
       "      <td>0</td>\n",
       "      <td>0.00</td>\n",
       "      <td>17</td>\n",
       "      <td>39158.92</td>\n",
       "      <td>2016</td>\n",
       "      <td>330.21</td>\n",
       "      <td>SIM</td>\n",
       "      <td>1714650.23</td>\n",
       "      <td>0</td>\n",
       "    </tr>\n",
       "    <tr>\n",
       "      <th>1</th>\n",
       "      <td>2</td>\n",
       "      <td>1996-03-18</td>\n",
       "      <td>9</td>\n",
       "      <td>39</td>\n",
       "      <td>37</td>\n",
       "      <td>49</td>\n",
       "      <td>43</td>\n",
       "      <td>41</td>\n",
       "      <td>0.0</td>\n",
       "      <td>1</td>\n",
       "      <td>2307162.23</td>\n",
       "      <td>65</td>\n",
       "      <td>14424.02</td>\n",
       "      <td>4488</td>\n",
       "      <td>208.91</td>\n",
       "      <td>NÃO</td>\n",
       "      <td>0.00</td>\n",
       "      <td>0</td>\n",
       "    </tr>\n",
       "    <tr>\n",
       "      <th>2</th>\n",
       "      <td>3</td>\n",
       "      <td>1996-03-25</td>\n",
       "      <td>36</td>\n",
       "      <td>30</td>\n",
       "      <td>10</td>\n",
       "      <td>11</td>\n",
       "      <td>29</td>\n",
       "      <td>47</td>\n",
       "      <td>0.0</td>\n",
       "      <td>2</td>\n",
       "      <td>391192.51</td>\n",
       "      <td>62</td>\n",
       "      <td>10515.93</td>\n",
       "      <td>4261</td>\n",
       "      <td>153.01</td>\n",
       "      <td>NÃO</td>\n",
       "      <td>0.00</td>\n",
       "      <td>0</td>\n",
       "    </tr>\n",
       "    <tr>\n",
       "      <th>3</th>\n",
       "      <td>4</td>\n",
       "      <td>1996-04-01</td>\n",
       "      <td>6</td>\n",
       "      <td>59</td>\n",
       "      <td>42</td>\n",
       "      <td>27</td>\n",
       "      <td>1</td>\n",
       "      <td>5</td>\n",
       "      <td>0.0</td>\n",
       "      <td>0</td>\n",
       "      <td>0.00</td>\n",
       "      <td>39</td>\n",
       "      <td>15322.24</td>\n",
       "      <td>3311</td>\n",
       "      <td>180.48</td>\n",
       "      <td>SIM</td>\n",
       "      <td>717080.75</td>\n",
       "      <td>0</td>\n",
       "    </tr>\n",
       "    <tr>\n",
       "      <th>4</th>\n",
       "      <td>5</td>\n",
       "      <td>1996-04-08</td>\n",
       "      <td>1</td>\n",
       "      <td>19</td>\n",
       "      <td>46</td>\n",
       "      <td>6</td>\n",
       "      <td>16</td>\n",
       "      <td>2</td>\n",
       "      <td>0.0</td>\n",
       "      <td>0</td>\n",
       "      <td>0.00</td>\n",
       "      <td>98</td>\n",
       "      <td>5318.10</td>\n",
       "      <td>5399</td>\n",
       "      <td>96.53</td>\n",
       "      <td>SIM</td>\n",
       "      <td>1342488.85</td>\n",
       "      <td>0</td>\n",
       "    </tr>\n",
       "  </tbody>\n",
       "</table>\n",
       "</div>"
      ],
      "text/plain": [
       "   Concurso Data Sorteio  Dezena1  Dezena2  Dezena3  Dezena4  Dezena5  \\\n",
       "0         1   1996-03-11       41        5        4       52       30   \n",
       "1         2   1996-03-18        9       39       37       49       43   \n",
       "2         3   1996-03-25       36       30       10       11       29   \n",
       "3         4   1996-04-01        6       59       42       27        1   \n",
       "4         5   1996-04-08        1       19       46        6       16   \n",
       "\n",
       "   Dezena6  Arrecadacao_Total  Ganhadores_Sena  Rateio_Sena  Ganhadores_Quina  \\\n",
       "0       33                0.0                0         0.00                17   \n",
       "1       41                0.0                1   2307162.23                65   \n",
       "2       47                0.0                2    391192.51                62   \n",
       "3        5                0.0                0         0.00                39   \n",
       "4        2                0.0                0         0.00                98   \n",
       "\n",
       "   Rateio_Quina  Ganhadores_Quadra  Rateio_Quadra Acumulado  Valor_Acumulado  \\\n",
       "0      39158.92               2016         330.21       SIM       1714650.23   \n",
       "1      14424.02               4488         208.91       NÃO             0.00   \n",
       "2      10515.93               4261         153.01       NÃO             0.00   \n",
       "3      15322.24               3311         180.48       SIM        717080.75   \n",
       "4       5318.10               5399          96.53       SIM       1342488.85   \n",
       "\n",
       "   Estimativa_Prêmio  \n",
       "0                  0  \n",
       "1                  0  \n",
       "2                  0  \n",
       "3                  0  \n",
       "4                  0  "
      ]
     },
     "execution_count": 3,
     "metadata": {},
     "output_type": "execute_result"
    }
   ],
   "source": [
    "data.head()"
   ]
  },
  {
   "cell_type": "markdown",
   "metadata": {},
   "source": [
    "Mas, antes de começarmos a trabalhar com os dados, é importante fazer as importações das bibliotecas para auxiliar nas nossas análises:"
   ]
  },
  {
   "cell_type": "code",
   "execution_count": 1,
   "metadata": {},
   "outputs": [],
   "source": [
    "import pandas as pd\n",
    "import matplotlib.pyplot as plt"
   ]
  },
  {
   "cell_type": "markdown",
   "metadata": {},
   "source": [
    "E precisamos também fazer a leitura devida do arquivo, como podemos vero no código baixo:"
   ]
  },
  {
   "cell_type": "code",
   "execution_count": 2,
   "metadata": {},
   "outputs": [],
   "source": [
    "#atribuir o nome da planilha para a variável \"arquivo\"\n",
    "arquivo = 'basedados.xlsx'\n",
    "\n",
    "#carregar a base de dados para um objeto pandas.io.excel.ExcelFile\n",
    "excel = pd.ExcelFile(arquivo)\n",
    "\n",
    "#carregar a planilha excel para um objeto dataframe\n",
    "data = excel.parse(0)"
   ]
  },
  {
   "cell_type": "markdown",
   "metadata": {},
   "source": [
    "## <span style=\"color:#191970\">2. Existe um jeito mais vantajoso de escolher os números?</span>\n",
    "\n",
    "Quando jogamos na Mega-Sena, existem diversos critérios que podem ser considerados na escolha dos números. Algumas pessoas optam por colocar a data de aniversário dos familiares, outras colocam os números que consideram ser o \"seu número da sorte\", outras simplesmente jogam números aleatórios...Mas existem também indivíduos que preferem desenvolver o seu jogo de uma maneira mais \"matemática\" e para isso criam **cálculos que se baseiam nos sorteios anteriores** para decidir quais números irão jogar. A grande questão que iremos discutir é: Será que esses cálculos podem ser relevantes de alguma forma? \n",
    "\n",
    "E para fazer essa análise, ao longo desse notebook, desenvolveremos um **método próprio** para a escolha de **4 números da Mega-Sena** e depois veremos se ele tem alguma relevância ou não, dependendo do quão eficiente ele teria sido nos jogos anteriores. \n",
    "\n",
    "<span style=\"color:##191970\">**A hipótese do método é:** </span>\n",
    "- <span style=\"color:#CD950C\">**Se existe um número que aparece muitas vezes, mas que está há muito tempo sem aparecer, ele provavelmente irá aparecer em breve.**</span> Então, propomos o seguinte: se montarmos um jogo e nele colocarmos **4 números**que estejam entre os que **mais saíram nos concursos anteriores** e que também estão entre os números que **estão há mais rodadas seguidas sem sair, pelo menos 1 desses 4 números será sorteado**. \n",
    "\n",
    "<span style=\"color:##191970\">**Para saber quais são os quatro números, devemos:**</span> \n",
    "- <span style=\"background-color:##E8E8E8; \">  Primeira Etapa:</span>  Montar uma **tabela com os números foram mais sorteados nos 10 concursos anteriores**, na qual o primeiro elemento é o número que mais saiu.\n",
    "- <span style=\"background-color:##E8E8E8; \">  Segunda Etapa:</span>  Montar uma segunda **tabela com os números que estão a mais tempo sem ser sorteado até aquele concurso**, na qual o primeiro elemento é aquele que está a mais rodadas sem ser sorteado.\n",
    "- <span style=\"background-color:##E8E8E8; \">  Terceira Etapa:</span>  Depois criaremos uma terceira **tabela onde iremos levar em consideração a soma:** <span style=\"color:#CD950C\">**posição do número na primeira tabela + a posição do número na segunda tabela**</span>. Nesta tabela, o primeiro elemento será aquele que a soma deu o menor valor, ou seja, aquele que está numa posição relativamente mais acima na primeira e na segunda tabela.\n",
    "- <span style=\"background-color:##E8E8E8; \">  Quarta Etapa:</span>  Feito isso, os **4 primeiros números** da terceira tabela serão os números escolhidos para serem jogados no concurso em questão.\n",
    "\n",
    "Para entender melhor a lógica proposta vejamos um exemplo meramente ilustrativo:\n",
    "\n",
    "<img width=\"600\" alt=\"tabela1\" src=\"https://drive.google.com/uc?export=view&id=1d-4Gm_DGPwlZxWQFcsAwOOmvBLdrKYMY\">\n",
    "<img width=\"600\" alt=\"tabela1\" src=\"https://drive.google.com/uc?export=view&id=1vDVRE2ghPGTKI1Pb6Udb5xSuRrwhA-xA\">\n",
    "<img width=\"600\" alt=\"tabela1\" src=\"https://drive.google.com/uc?export=view&id=1twxyhMeDkjy7kn2GOePJ2kQCLSJu8KUe\">\n",
    "\n",
    "\n",
    "<span style=\"color:##191970\">**Para verificar a nossa hipótese vamos fazer o seguinte:** </span>\n",
    "- Para cada concurso, após a escolha dos quatro números, veremos **quantas vezes pelo menos 1 dos 4 números foi, de fato, sorteado**, verificando se o método foi eficiente ou não. E então, calcularemos em **quantos porecento do total de concursos** o objetivo de acertar 1 número foi atingido. Assim, será possível visualizar o quão relevante esse processo de fato seria na escolha dos números da Mega-Sena.\n"
   ]
  },
  {
   "cell_type": "markdown",
   "metadata": {},
   "source": [
    "### <span style=\"color:##191970\">2.1. Construindo a lógica de cada etapa</span>"
   ]
  },
  {
   "cell_type": "markdown",
   "metadata": {},
   "source": [
    "#### <span style=\"color:##191970\">a) Montando a Tabela 1</span>"
   ]
  },
  {
   "cell_type": "markdown",
   "metadata": {
    "collapsed": true
   },
   "source": [
    ">```python\n",
    "#criar uma lista para guardar os valores sorteados\n",
    "n_sorteados=[]\n",
    "#criar a variável o que vai armazenar o número do concurso\n",
    "c = concurso_i\n",
    "#atribuir a 'colunas' as colunas que contém os números sorteados em cada concurso\n",
    "colunas = ['Dezena1','Dezena2', 'Dezena3', 'Dezena4' , 'Dezena5', 'Dezena6']\n",
    "#como iremos utilizar apenas os 10 valores anteriores\n",
    "#atribuir para 'a' o número do décimo concurso anterior ao que estamos avaliando\n",
    "a = c-10 \n",
    "if a < 0: #caso a seja menor que 0\n",
    "    a = 0 #o concurso analisado é um dos primeiros, logo devo zerar o valor de a\n",
    "#percorrer concursos anteriores    \n",
    "for i in range(a,c): \n",
    "    for k in colunas: #percorrer cada uma das colunas das dezenas\n",
    "      j = data[k].iloc[i] #descobrir o valor sorteado naquela dezena \n",
    "        n_sorteados.append(j) #adicionar ao n_sorteados o valor descoberto \n",
    "#criar o dicionário para as apariçoes de cada número         \n",
    "aparicoes={}   \n",
    "#para cada valor sorteado\n",
    "for i in set(n_sorteados):\n",
    "    aparicoes[i] = n_sorteados.count(i) #dizer quantas vezes ele aparece    \n",
    "chaves = [] #criar uma lista para receber as chaves\n",
    "valores = [] #criar uma lista para receber os valores\n",
    "#para cada item em aparições\n",
    "for i,j in aparicoes.items():\n",
    "    chaves.append(i) #adicionar os valores da lista chave\n",
    "    valores.append(j) #adivionar os valores da lista value\n",
    "#criar um dicionário B com os valores das chavez e dos valores\n",
    "B = {'Numero':chaves, 'Repeticoes':valores} \n",
    "#criar um dataframe que será a tabela 1 \n",
    "tab1= pd.DataFrame(data = B) \n",
    "#ordenar o DataFrame pelo número de aparições e do maior para o menor\n",
    "tab1 = tab1.sort_values(by=['Repeticoes'], ascending = False)\n",
    "```"
   ]
  },
  {
   "cell_type": "markdown",
   "metadata": {},
   "source": [
    "#### <span style=\"color:##191970\">b) Montando a Tabela 2</span>"
   ]
  },
  {
   "cell_type": "markdown",
   "metadata": {
    "collapsed": true
   },
   "source": [
    ">```python\n",
    "#criar dicionário para armazenar a última aparição do número\n",
    "ultima_aparicao = {} \n",
    "#para cada número\n",
    "for j in set(n_sorteados): \n",
    "    for i in range(c): #do primeiro ao ultimo concurso\n",
    "        for k in colunas: #para cada dezena\n",
    "            if j == data[k].iloc[i]: #se o i for igual a uma das dezenas sorteadas \n",
    "                ultima_aparicao[j] = data['Data Sorteio'].iloc[i] #colocar data do concurso no dicionário\n",
    "#criar uma lista para receber as chaves\n",
    "chaves = [] \n",
    "#criar uma lista para receber os valores\n",
    "valores = [] \n",
    "#para cada item do dicionário\n",
    "for i,j in ultima_aparicao.items():\n",
    "    chaves.append(i) #adicionar as keys na lista chave\n",
    "    valores.append(j) #adivionar os values na lista value \n",
    "#criar um dicionário C com os valores das chavez e dos valores\n",
    "C = {'Numero':chaves, 'Última Aparição':valores} \n",
    "#criar um dataframe que será a tabela 2\n",
    "tab2 = pd.DataFrame(data=C) \n",
    "#ordenar o DataFrame pelo ultima aparição da mais antiga para a mais atual\n",
    "tab2 = tab2.sort_values('Última Aparição') \n",
    "```\n"
   ]
  },
  {
   "cell_type": "markdown",
   "metadata": {},
   "source": [
    "#### <span style=\"color:##191970\">c) Montando a Tabela 3</span>"
   ]
  },
  {
   "cell_type": "markdown",
   "metadata": {
    "collapsed": true
   },
   "source": [
    ">```python\n",
    "soma_posicoes = {} #criar dicionário para armazenar as somas\n",
    "posicao_tab1 = {} #criar dicionário para armazenar as posições da tabela1\n",
    "posicao_tab2 = {} #criar dicionário para armazenar as posições da tabela2\n",
    "#para cada valor sorteado\n",
    "for j in set(n_sorteados):\n",
    "    index_tab1 = pd.Index(tab1.Numero)\n",
    "    posicao_tab1[j] = index_tab1.get_loc(j)#pegar a posição do j na tabela 1    \n",
    "#para cada valor sorteado\n",
    "for j in set(n_sorteados):\n",
    "    index_tab2 = pd.Index(tab2.Numero)\n",
    "    posicao_tab2[j] = index_tab2.get_loc(j)#pegar a posição do j na tabela 2\n",
    "#para cada valor sorteado   \n",
    "for i in set(n_sorteados):    \n",
    "    soma_posicoes[i]= posicao_tab1[i] + posicao_tab2[i] #adicionar a soma da posição nas tabelas \n",
    "#criar uma lista para receber as chaves\n",
    "chaves = [] \n",
    "#criar uma lista para receber os valores\n",
    "valores = [] \n",
    "#para cada item do dicionário\n",
    "for i,j in soma_posicoes.items():\n",
    "    chaves.append(i) #adicionar os valores da lista chave\n",
    "    valores.append(j) #adivionar os valores da lista value    \n",
    "#cria um dicionário D com os valores das chaves e dos valores\n",
    "D = {'Numero':chaves, 'Soma das posições':valores} \n",
    " #criar um dataframe que será a tabela 3\n",
    "tab3 = pd.DataFrame(data=D) \n",
    "#ordenamar o dataframe pelo número de aparições e do menor para o maior\n",
    "tab3 = tab3.sort_values('Soma das posições') \n",
    "```"
   ]
  },
  {
   "cell_type": "markdown",
   "metadata": {},
   "source": [
    "#### <span style=\"color:##191970\">d) Escolhendo os 4 Números</span>"
   ]
  },
  {
   "cell_type": "markdown",
   "metadata": {
    "collapsed": true,
    "scrolled": true
   },
   "source": [
    ">```python\n",
    "#na coluna Numero da tabela 3 , busco os 4 primeiros valores\n",
    "Quatro_numeros= tab3.Numero.iloc[0:4].tolist()\n",
    "```\n",
    "\n",
    "\n"
   ]
  },
  {
   "cell_type": "markdown",
   "metadata": {},
   "source": [
    "#### <span style=\"color:##191970\">e) Verificando se um dos números foi sorteado</span>"
   ]
  },
  {
   "cell_type": "markdown",
   "metadata": {
    "collapsed": true
   },
   "source": [
    ">```python\n",
    "for i in colunas:#para cada dezena\n",
    "    for j in Quatro_numeros: #para cada palpite\n",
    "        if j == data[i].loc[c]: #verificar se naquele concurso o palpite foi certo\n",
    "            data['Acertos Palpite'][c]+=1 #somar na coluna 'Acertos Palpite'\n",
    "```\n"
   ]
  },
  {
   "cell_type": "markdown",
   "metadata": {},
   "source": [
    "### <span style=\"color:##191970\">2.2 Aplicando em todos os concursos</span>\n",
    "\n",
    "Agora que já temos a lógica para a construção de cada uma das etapas iremos junta-las numa única célula para podermos aplicar o método a cada um dos concursos."
   ]
  },
  {
   "cell_type": "code",
   "execution_count": 5,
   "metadata": {},
   "outputs": [
    {
     "name": "stderr",
     "output_type": "stream",
     "text": [
      "C:\\ProgramData\\Anaconda3\\lib\\site-packages\\ipykernel_launcher.py:75: SettingWithCopyWarning: \n",
      "A value is trying to be set on a copy of a slice from a DataFrame\n",
      "\n",
      "See the caveats in the documentation: http://pandas.pydata.org/pandas-docs/stable/indexing.html#indexing-view-versus-copy\n"
     ]
    }
   ],
   "source": [
    "#Adicionar a coluna ao dataset, com todos os valore iguais a 0\n",
    "for i in data:\n",
    "    data['Acertos Palpite']= 0 \n",
    "\n",
    "#percorrer todas as colunas    \n",
    "for x in range(2025):\n",
    "    n_sorteados=[]\n",
    "    c = x\n",
    "    a = c-10 \n",
    "    if a <0:\n",
    "        a=0\n",
    "        \n",
    "    #código para descobrir a tabela 1\n",
    "    colunas = ['Dezena1','Dezena2', 'Dezena3', 'Dezena4' , 'Dezena5', 'Dezena6']\n",
    "    for i in range(a,c): \n",
    "        for k in colunas:\n",
    "            j = data[k].iloc[i] \n",
    "            n_sorteados.append(j) \n",
    "    aparicoes={}  \n",
    "    for i in set(n_sorteados): \n",
    "        aparicoes[i] = n_sorteados.count(i)   \n",
    "    chaves = [] \n",
    "    valores = [] \n",
    "    for i,j in aparicoes.items():\n",
    "        chaves.append(i)\n",
    "        valores.append(j) \n",
    "    B = {'Numero':chaves, 'Repeticoes':valores} \n",
    "    tab1= pd.DataFrame(data = B) \n",
    "    tab1 = tab1.sort_values(by=['Repeticoes'], ascending = False) \n",
    "    \n",
    "    #código para descobrir a tabela 2\n",
    "    ultima_aparicao = {}\n",
    "    for j in set(n_sorteados): \n",
    "        for i in range(a,c):\n",
    "            for k in colunas:\n",
    "                if j == data[k].iloc[i]:  \n",
    "                    ultima_aparicao[j] = data['Data Sorteio'].iloc[i]\n",
    "    chaves = [] \n",
    "    valores = [] \n",
    "    for i,j in ultima_aparicao.items():\n",
    "        chaves.append(i) \n",
    "        valores.append(j)\n",
    "    C = {'Numero':chaves, 'Última Aparição':valores} \n",
    "    tab2 = pd.DataFrame(data=C) \n",
    "    tab2 = tab2.sort_values('Última Aparição') \n",
    "    \n",
    "    #código para descobrir tabela 3\n",
    "    soma_posicoes = {}\n",
    "    posicao_tab1 = {}\n",
    "    posicao_tab2 = {}\n",
    "    for j in set(n_sorteados): \n",
    "        index_tab1 = pd.Index(tab1.Numero)\n",
    "        posicao_tab1[j] = index_tab1.get_loc(j) \n",
    "    for j in set(n_sorteados):\n",
    "        index_tab2 = pd.Index(tab2.Numero)\n",
    "        posicao_tab2[j] = index_tab2.get_loc(j)\n",
    "    for i in set(n_sorteados):    \n",
    "        soma_posicoes[i]= posicao_tab1[i] + posicao_tab2[i]\n",
    "    chaves = [] \n",
    "    valores = []\n",
    "    for i,j in soma_posicoes.items():\n",
    "        chaves.append(i) \n",
    "        valores.append(j)\n",
    "    D = {'Numero':chaves, 'Soma das posições':valores}\n",
    "    tab3 = pd.DataFrame(data=D)\n",
    "    tab3 = tab3.sort_values('Soma das posições')\n",
    "    \n",
    "    #escolher os 4 Números\n",
    "    Quatro_numeros= tab3.Numero.iloc[0:4].tolist()\n",
    "    \n",
    "    #Verificar e colocar na coluna Acertos Palpite\n",
    "    for i in colunas:\n",
    "        for j in Quatro_numeros:\n",
    "            if j == data[i].loc[c]:\n",
    "                data['Acertos Palpite'][c]+=1\n",
    "    \n",
    " \n",
    "    "
   ]
  },
  {
   "cell_type": "markdown",
   "metadata": {},
   "source": [
    "### <span style=\"color:##191970\">2.3 Vendo a Eficiência do Método</span>"
   ]
  },
  {
   "cell_type": "markdown",
   "metadata": {},
   "source": [
    "#### <span style=\"color:##191970\">a) Criando uma nova tabela</span>"
   ]
  },
  {
   "cell_type": "code",
   "execution_count": 6,
   "metadata": {
    "scrolled": true
   },
   "outputs": [
    {
     "data": {
      "text/html": [
       "<div>\n",
       "<style scoped>\n",
       "    .dataframe tbody tr th:only-of-type {\n",
       "        vertical-align: middle;\n",
       "    }\n",
       "\n",
       "    .dataframe tbody tr th {\n",
       "        vertical-align: top;\n",
       "    }\n",
       "\n",
       "    .dataframe thead th {\n",
       "        text-align: right;\n",
       "    }\n",
       "</style>\n",
       "<table border=\"1\" class=\"dataframe\">\n",
       "  <thead>\n",
       "    <tr style=\"text-align: right;\">\n",
       "      <th></th>\n",
       "      <th>Porcentagem</th>\n",
       "    </tr>\n",
       "    <tr>\n",
       "      <th>Acertos Palpite</th>\n",
       "      <th></th>\n",
       "    </tr>\n",
       "  </thead>\n",
       "  <tbody>\n",
       "    <tr>\n",
       "      <th>0</th>\n",
       "      <td>64.098765</td>\n",
       "    </tr>\n",
       "    <tr>\n",
       "      <th>1</th>\n",
       "      <td>31.407407</td>\n",
       "    </tr>\n",
       "    <tr>\n",
       "      <th>2</th>\n",
       "      <td>4.345679</td>\n",
       "    </tr>\n",
       "    <tr>\n",
       "      <th>3</th>\n",
       "      <td>0.148148</td>\n",
       "    </tr>\n",
       "  </tbody>\n",
       "</table>\n",
       "</div>"
      ],
      "text/plain": [
       "                 Porcentagem\n",
       "Acertos Palpite             \n",
       "0                  64.098765\n",
       "1                  31.407407\n",
       "2                   4.345679\n",
       "3                   0.148148"
      ]
     },
     "execution_count": 6,
     "metadata": {},
     "output_type": "execute_result"
    }
   ],
   "source": [
    "#calcular em quantos porcento do total o método acertou 0, 1, 2 ou 3 números\n",
    "tab_eficiencia = data.pivot_table(index=\"Acertos Palpite\", #atribuir o index a Acertos Palpite\n",
    "                 values = \"Concurso\", #Atribuir os valores a concurso\n",
    "                 aggfunc=lambda x: 100*(len(x)/len(data))) #calcular a porcentagem\n",
    "\n",
    "#alterar o nome da coluna Concurso para Porcentagem\n",
    "tab_eficiencia.rename(columns={'Concurso':'Porcentagem'}, inplace=True)\n",
    "tab_eficiencia"
   ]
  },
  {
   "cell_type": "markdown",
   "metadata": {},
   "source": [
    "- Diante da tabela acima,percebemos que o algorítimo na verdade é bem interessante, pois ele teria nos ajudado a acertar pelo menos 1 número em aproximadamente 35% dos concursos. "
   ]
  },
  {
   "cell_type": "markdown",
   "metadata": {},
   "source": [
    "#### <span style=\"color:##191970\">b) Gerando um gráfico</span>"
   ]
  },
  {
   "cell_type": "code",
   "execution_count": 7,
   "metadata": {},
   "outputs": [
    {
     "data": {
      "text/plain": [
       "Text(0,0.5,'Porcentagem do Total')"
      ]
     },
     "execution_count": 7,
     "metadata": {},
     "output_type": "execute_result"
    },
    {
     "data": {
      "image/png": "[encoded data removed]",
      "text/plain": [
       "<matplotlib.figure.Figure at 0x8d2e7b6080>"
      ]
     },
     "metadata": {},
     "output_type": "display_data"
    }
   ],
   "source": [
    "#gerar um subplot\n",
    "fig, ax = plt.subplots() \n",
    "\n",
    "#utilizar arrange para definir o número de barras\n",
    "from numpy import arange\n",
    "bar_posicoes = arange(2) + 1  \n",
    "\n",
    "#atribuir a linhas, as labels que iremos utilizar\n",
    "linhas=['','Nenhum', 'Pelo menos 1', '']\n",
    "\n",
    "#atribir a bar_altura, a porcentagem de 0 e aporcentagem de 1 a 3 acertos\n",
    "bar_altura = [tab_eficiencia['Porcentagem'][0],tab_eficiencia['Porcentagem'][1:3].sum()]#Trazendo o valor da porcentagem\n",
    "\n",
    "#definir quantas posições terá o plot\n",
    "ticks_posicao= range(0,4)\n",
    "\n",
    "#configurar posição, a altura e o espaçamento das barras\n",
    "ax.bar(bar_posicoes, bar_altura, 0.7) \n",
    "\n",
    "#atribuir as labels e as suas posiçoes\n",
    "ax.set_xticklabels(linhas) \n",
    "ax.set_xticks(ticks_posicao) \n",
    "\n",
    "#definir a altura do eixo y\n",
    "ax.set_ylim(0, 100) \n",
    "\n",
    "#Alterar o título e informaçoes do plot\n",
    "plt.title('Eficiência do Método')\n",
    "plt.xlabel('Número de acertos')\n",
    "plt.ylabel('Porcentagem do Total')\n",
    "\n"
   ]
  },
  {
   "cell_type": "markdown",
   "metadata": {},
   "source": [
    "- O gráfico acima reforça de uma maneira mais visual o que já foi apresentado no item anterior:**a diferença entre a porcentagem de nenhum acerto e a porcentagem de pelo menos 1 acerto na aposta do número não é tão grande assim**. E assim verificamos que a aplicação do método, teve, sim, uma certa relevância, pois em uma parcela expressiva dos concursos ele teria nos ajudado a acertar pelo menos  1 dos números."
   ]
  },
  {
   "cell_type": "markdown",
   "metadata": {},
   "source": [
    "## <span style=\"color:##191970\">3. Conclusão</span>\n",
    "\n",
    "Como a Mega-Sena se trata de um jogo de azar, infelizmente, afirmar que existe um método de escolha que **é** mais vantajoso ou afirmar que podemos **prever** os números que serão sorteados não é algo que podemos fazer. No entanto, diante das análises que foram apresentadas ao longo desse notebook, somos capazes de dizer que para os jogos anteriores o método proposto **foi**, de certa forma, vantajoso e que muitos dos números que **prevemos**, de fato foram sorteados. Sendo assim, podemos concluir que a aplicação de uma lógica na escolha dos números da Mega-sena nem sempre será algo inútil ou irrelevante como muitos pensam que é, e que pode ser bem interessante desenvolver um raciocínio para o jogo quando se tem tantos dados disponíveis para serem estudados. \n"
   ]
  }
 ],
 "metadata": {
  "kernelspec": {
   "display_name": "Python 3",
   "language": "python",
   "name": "python3"
  },
  "language_info": {
   "codemirror_mode": {
    "name": "ipython",
    "version": 3
   },
   "file_extension": ".py",
   "mimetype": "text/x-python",
   "name": "python",
   "nbconvert_exporter": "python",
   "pygments_lexer": "ipython3",
   "version": "3.6.4"
  }
 },
 "nbformat": 4,
 "nbformat_minor": 2
}

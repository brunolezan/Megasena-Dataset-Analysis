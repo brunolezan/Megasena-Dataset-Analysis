{
 "cells": [
  {
   "cell_type": "markdown",
   "metadata": {},
   "source": [
    "## <span style=\"color:#191970\">1. Introdução sobre os dados</span>\n",
    "\n",
    "Ao longo desse notebook iremos analisar alguns dados da Mega-Sena que vão desde o primeiro concurso em 11-03-1996 até o de 24-03-2018, totalizando um conjunto de informações referentes a 2025 concursos. Abaixo temos uma visualização dos dados presentes no dataset:"
   ]
  },
  {
   "cell_type": "markdown",
   "metadata": {},
   "source": [
    "Mas, antes de começarmos a trabalhar com os dados, é importante fazer as importações das bibliotecas para auxiliar nas nossas análises:"
   ]
  },
  {
   "cell_type": "code",
   "execution_count": 101,
   "metadata": {},
   "outputs": [
    {
     "name": "stdout",
     "output_type": "stream",
     "text": [
      "Requirement already satisfied: matplotlib in c:\\users\\blbit\\appdata\\local\\programs\\python\\python310\\lib\\site-packages (3.6.0)\n",
      "Requirement already satisfied: python-dateutil>=2.7 in c:\\users\\blbit\\appdata\\local\\programs\\python\\python310\\lib\\site-packages (from matplotlib) (2.8.2)\n",
      "Requirement already satisfied: pyparsing>=2.2.1 in c:\\users\\blbit\\appdata\\roaming\\python\\python310\\site-packages (from matplotlib) (3.0.9)\n",
      "Requirement already satisfied: numpy>=1.19 in c:\\users\\blbit\\appdata\\local\\programs\\python\\python310\\lib\\site-packages (from matplotlib) (1.23.1)\n",
      "Requirement already satisfied: kiwisolver>=1.0.1 in c:\\users\\blbit\\appdata\\local\\programs\\python\\python310\\lib\\site-packages (from matplotlib) (1.4.4)\n",
      "Requirement already satisfied: fonttools>=4.22.0 in c:\\users\\blbit\\appdata\\local\\programs\\python\\python310\\lib\\site-packages (from matplotlib) (4.37.4)\n",
      "Requirement already satisfied: packaging>=20.0 in c:\\users\\blbit\\appdata\\roaming\\python\\python310\\site-packages (from matplotlib) (21.3)\n",
      "Requirement already satisfied: cycler>=0.10 in c:\\users\\blbit\\appdata\\local\\programs\\python\\python310\\lib\\site-packages (from matplotlib) (0.11.0)\n",
      "Requirement already satisfied: contourpy>=1.0.1 in c:\\users\\blbit\\appdata\\local\\programs\\python\\python310\\lib\\site-packages (from matplotlib) (1.0.5)\n",
      "Requirement already satisfied: pillow>=6.2.0 in c:\\users\\blbit\\appdata\\local\\programs\\python\\python310\\lib\\site-packages (from matplotlib) (9.2.0)\n",
      "Requirement already satisfied: six>=1.5 in c:\\users\\blbit\\appdata\\local\\programs\\python\\python310\\lib\\site-packages (from python-dateutil>=2.7->matplotlib) (1.16.0)\n",
      "Note: you may need to restart the kernel to use updated packages.\n"
     ]
    },
    {
     "name": "stderr",
     "output_type": "stream",
     "text": [
      "WARNING: You are using pip version 22.0.4; however, version 22.2.2 is available.\n",
      "You should consider upgrading via the 'c:\\Users\\blbit\\AppData\\Local\\Programs\\Python\\Python310\\python.exe -m pip install --upgrade pip' command.\n"
     ]
    }
   ],
   "source": [
    "pip install matplotlib"
   ]
  },
  {
   "cell_type": "code",
   "execution_count": 102,
   "metadata": {},
   "outputs": [],
   "source": [
    "import pandas as pd\n",
    "import matplotlib.pyplot as plt"
   ]
  },
  {
   "cell_type": "markdown",
   "metadata": {},
   "source": [
    "E precisamos também fazer a leitura devida do arquivo, como podemos vero no código baixo:"
   ]
  },
  {
   "cell_type": "code",
   "execution_count": 103,
   "metadata": {},
   "outputs": [],
   "source": [
    "#pip install openpyxl"
   ]
  },
  {
   "cell_type": "code",
   "execution_count": 104,
   "metadata": {},
   "outputs": [],
   "source": [
    "#atribuir o nome da planilha para a variável \"arquivo\"\n",
    "arquivo = '20220928-basedados_reduzida.xlsx'\n",
    "\n",
    "#carregar a base de dados para um objeto pandas.io.excel.ExcelFile\n",
    "excel = pd.read_excel(arquivo, engine=\"openpyxl\") #, engine=\"openpyxl\"\n",
    "\n",
    "#carregar a planilha excel para um objeto dataframe\n",
    "#data = excel.parse(0)\n",
    "data = pd.DataFrame(excel)"
   ]
  },
  {
   "cell_type": "code",
   "execution_count": 105,
   "metadata": {},
   "outputs": [
    {
     "data": {
      "text/plain": [
       "pandas.core.frame.DataFrame"
      ]
     },
     "execution_count": 105,
     "metadata": {},
     "output_type": "execute_result"
    }
   ],
   "source": [
    "type(data)"
   ]
  },
  {
   "cell_type": "code",
   "execution_count": 106,
   "metadata": {},
   "outputs": [
    {
     "data": {
      "text/html": [
       "<div>\n",
       "<style scoped>\n",
       "    .dataframe tbody tr th:only-of-type {\n",
       "        vertical-align: middle;\n",
       "    }\n",
       "\n",
       "    .dataframe tbody tr th {\n",
       "        vertical-align: top;\n",
       "    }\n",
       "\n",
       "    .dataframe thead th {\n",
       "        text-align: right;\n",
       "    }\n",
       "</style>\n",
       "<table border=\"1\" class=\"dataframe\">\n",
       "  <thead>\n",
       "    <tr style=\"text-align: right;\">\n",
       "      <th></th>\n",
       "      <th>Unnamed: 0</th>\n",
       "      <th>Concurso</th>\n",
       "      <th>Data Sorteio</th>\n",
       "      <th>Dezena1</th>\n",
       "      <th>Dezena2</th>\n",
       "      <th>Dezena3</th>\n",
       "      <th>Dezena4</th>\n",
       "      <th>Dezena5</th>\n",
       "      <th>Dezena6</th>\n",
       "    </tr>\n",
       "  </thead>\n",
       "  <tbody>\n",
       "    <tr>\n",
       "      <th>0</th>\n",
       "      <td>0</td>\n",
       "      <td>1</td>\n",
       "      <td>1996-03-11</td>\n",
       "      <td>41</td>\n",
       "      <td>5</td>\n",
       "      <td>4</td>\n",
       "      <td>52</td>\n",
       "      <td>30</td>\n",
       "      <td>33</td>\n",
       "    </tr>\n",
       "    <tr>\n",
       "      <th>1</th>\n",
       "      <td>1</td>\n",
       "      <td>2</td>\n",
       "      <td>1996-03-18</td>\n",
       "      <td>9</td>\n",
       "      <td>39</td>\n",
       "      <td>37</td>\n",
       "      <td>49</td>\n",
       "      <td>43</td>\n",
       "      <td>41</td>\n",
       "    </tr>\n",
       "    <tr>\n",
       "      <th>2</th>\n",
       "      <td>2</td>\n",
       "      <td>3</td>\n",
       "      <td>1996-03-25</td>\n",
       "      <td>36</td>\n",
       "      <td>30</td>\n",
       "      <td>10</td>\n",
       "      <td>11</td>\n",
       "      <td>29</td>\n",
       "      <td>47</td>\n",
       "    </tr>\n",
       "    <tr>\n",
       "      <th>3</th>\n",
       "      <td>3</td>\n",
       "      <td>4</td>\n",
       "      <td>1996-04-01</td>\n",
       "      <td>6</td>\n",
       "      <td>59</td>\n",
       "      <td>42</td>\n",
       "      <td>27</td>\n",
       "      <td>1</td>\n",
       "      <td>5</td>\n",
       "    </tr>\n",
       "    <tr>\n",
       "      <th>4</th>\n",
       "      <td>4</td>\n",
       "      <td>5</td>\n",
       "      <td>1996-04-08</td>\n",
       "      <td>1</td>\n",
       "      <td>19</td>\n",
       "      <td>46</td>\n",
       "      <td>6</td>\n",
       "      <td>16</td>\n",
       "      <td>2</td>\n",
       "    </tr>\n",
       "  </tbody>\n",
       "</table>\n",
       "</div>"
      ],
      "text/plain": [
       "   Unnamed: 0  Concurso Data Sorteio  Dezena1  Dezena2  Dezena3  Dezena4  \\\n",
       "0           0         1   1996-03-11       41        5        4       52   \n",
       "1           1         2   1996-03-18        9       39       37       49   \n",
       "2           2         3   1996-03-25       36       30       10       11   \n",
       "3           3         4   1996-04-01        6       59       42       27   \n",
       "4           4         5   1996-04-08        1       19       46        6   \n",
       "\n",
       "   Dezena5  Dezena6  \n",
       "0       30       33  \n",
       "1       43       41  \n",
       "2       29       47  \n",
       "3        1        5  \n",
       "4       16        2  "
      ]
     },
     "execution_count": 106,
     "metadata": {},
     "output_type": "execute_result"
    }
   ],
   "source": [
    "data.head()"
   ]
  },
  {
   "cell_type": "code",
   "execution_count": 107,
   "metadata": {},
   "outputs": [
    {
     "data": {
      "text/html": [
       "<div>\n",
       "<style scoped>\n",
       "    .dataframe tbody tr th:only-of-type {\n",
       "        vertical-align: middle;\n",
       "    }\n",
       "\n",
       "    .dataframe tbody tr th {\n",
       "        vertical-align: top;\n",
       "    }\n",
       "\n",
       "    .dataframe thead th {\n",
       "        text-align: right;\n",
       "    }\n",
       "</style>\n",
       "<table border=\"1\" class=\"dataframe\">\n",
       "  <thead>\n",
       "    <tr style=\"text-align: right;\">\n",
       "      <th></th>\n",
       "      <th>Unnamed: 0</th>\n",
       "      <th>Concurso</th>\n",
       "      <th>Data Sorteio</th>\n",
       "      <th>Dezena1</th>\n",
       "      <th>Dezena2</th>\n",
       "      <th>Dezena3</th>\n",
       "      <th>Dezena4</th>\n",
       "      <th>Dezena5</th>\n",
       "      <th>Dezena6</th>\n",
       "    </tr>\n",
       "  </thead>\n",
       "  <tbody>\n",
       "    <tr>\n",
       "      <th>2519</th>\n",
       "      <td>2519</td>\n",
       "      <td>2520</td>\n",
       "      <td>2022-09-15</td>\n",
       "      <td>2</td>\n",
       "      <td>17</td>\n",
       "      <td>22</td>\n",
       "      <td>41</td>\n",
       "      <td>58</td>\n",
       "      <td>60</td>\n",
       "    </tr>\n",
       "    <tr>\n",
       "      <th>2520</th>\n",
       "      <td>2520</td>\n",
       "      <td>2521</td>\n",
       "      <td>2022-09-17</td>\n",
       "      <td>23</td>\n",
       "      <td>28</td>\n",
       "      <td>33</td>\n",
       "      <td>38</td>\n",
       "      <td>55</td>\n",
       "      <td>59</td>\n",
       "    </tr>\n",
       "    <tr>\n",
       "      <th>2521</th>\n",
       "      <td>2521</td>\n",
       "      <td>2522</td>\n",
       "      <td>2022-09-21</td>\n",
       "      <td>4</td>\n",
       "      <td>5</td>\n",
       "      <td>25</td>\n",
       "      <td>32</td>\n",
       "      <td>39</td>\n",
       "      <td>40</td>\n",
       "    </tr>\n",
       "    <tr>\n",
       "      <th>2522</th>\n",
       "      <td>2522</td>\n",
       "      <td>2523</td>\n",
       "      <td>2022-09-24</td>\n",
       "      <td>1</td>\n",
       "      <td>10</td>\n",
       "      <td>27</td>\n",
       "      <td>36</td>\n",
       "      <td>37</td>\n",
       "      <td>45</td>\n",
       "    </tr>\n",
       "    <tr>\n",
       "      <th>2523</th>\n",
       "      <td>2523</td>\n",
       "      <td>2524</td>\n",
       "      <td>2022-09-28</td>\n",
       "      <td>3</td>\n",
       "      <td>20</td>\n",
       "      <td>22</td>\n",
       "      <td>37</td>\n",
       "      <td>41</td>\n",
       "      <td>43</td>\n",
       "    </tr>\n",
       "  </tbody>\n",
       "</table>\n",
       "</div>"
      ],
      "text/plain": [
       "      Unnamed: 0  Concurso Data Sorteio  Dezena1  Dezena2  Dezena3  Dezena4  \\\n",
       "2519        2519      2520   2022-09-15        2       17       22       41   \n",
       "2520        2520      2521   2022-09-17       23       28       33       38   \n",
       "2521        2521      2522   2022-09-21        4        5       25       32   \n",
       "2522        2522      2523   2022-09-24        1       10       27       36   \n",
       "2523        2523      2524   2022-09-28        3       20       22       37   \n",
       "\n",
       "      Dezena5  Dezena6  \n",
       "2519       58       60  \n",
       "2520       55       59  \n",
       "2521       39       40  \n",
       "2522       37       45  \n",
       "2523       41       43  "
      ]
     },
     "execution_count": 107,
     "metadata": {},
     "output_type": "execute_result"
    }
   ],
   "source": [
    "data.tail()"
   ]
  },
  {
   "cell_type": "markdown",
   "metadata": {},
   "source": [
    "## <span style=\"color:#191970\">2. Existe um jeito mais vantajoso de escolher os números?</span>\n",
    "\n",
    "Quando jogamos na Mega-Sena, existem diversos critérios que podem ser considerados na escolha dos números. Algumas pessoas optam por colocar a data de aniversário dos familiares, outras colocam os números que consideram ser o \"seu número da sorte\", outras simplesmente jogam números aleatórios...Mas existem também indivíduos que preferem desenvolver o seu jogo de uma maneira mais \"matemática\" e para isso criam **cálculos que se baseiam nos sorteios anteriores** para decidir quais números irão jogar. A grande questão que iremos discutir é: Será que esses cálculos podem ser relevantes de alguma forma? \n",
    "\n",
    "E para fazer essa análise, ao longo desse notebook, desenvolveremos um **método próprio** para a escolha de **4 números da Mega-Sena** e depois veremos se ele tem alguma relevância ou não, dependendo do quão eficiente ele teria sido nos jogos anteriores. \n",
    "\n",
    "<span style=\"color:##191970\">**A hipótese do método é:** </span>\n",
    "- <span style=\"color:#CD950C\">**Se existe um número que aparece muitas vezes, mas que está há muito tempo sem aparecer, ele provavelmente irá aparecer em breve.**</span> Então, propomos o seguinte: se montarmos um jogo e nele colocarmos **4 números**que estejam entre os que **mais saíram nos concursos anteriores** e que também estão entre os números que **estão há mais rodadas seguidas sem sair, pelo menos 1 desses 4 números será sorteado**. \n",
    "\n",
    "<span style=\"color:##191970\">**Para saber quais são os quatro números, devemos:**</span> \n",
    "- <span style=\"background-color:##E8E8E8; \">  Primeira Etapa:</span>  Montar uma **tabela com os números foram mais sorteados nos 10 concursos anteriores**, na qual o primeiro elemento é o número que mais saiu.\n",
    "- <span style=\"background-color:##E8E8E8; \">  Segunda Etapa:</span>  Montar uma segunda **tabela com os números que estão a mais tempo sem ser sorteado até aquele concurso**, na qual o primeiro elemento é aquele que está a mais rodadas sem ser sorteado.\n",
    "- <span style=\"background-color:##E8E8E8; \">  Terceira Etapa:</span>  Depois criaremos uma terceira **tabela onde iremos levar em consideração a soma:** <span style=\"color:#CD950C\">**posição do número na primeira tabela + a posição do número na segunda tabela**</span>. Nesta tabela, o primeiro elemento será aquele que a soma deu o menor valor, ou seja, aquele que está numa posição relativamente mais acima na primeira e na segunda tabela.\n",
    "- <span style=\"background-color:##E8E8E8; \">  Quarta Etapa:</span>  Feito isso, os **4 primeiros números** da terceira tabela serão os números escolhidos para serem jogados no concurso em questão.\n",
    "\n",
    "Para entender melhor a lógica proposta vejamos um exemplo meramente ilustrativo:\n",
    "\n",
    "<img width=\"600\" alt=\"tabela1\" src=\"https://drive.google.com/uc?export=view&id=1d-4Gm_DGPwlZxWQFcsAwOOmvBLdrKYMY\">\n",
    "<img width=\"600\" alt=\"tabela1\" src=\"https://drive.google.com/uc?export=view&id=1vDVRE2ghPGTKI1Pb6Udb5xSuRrwhA-xA\">\n",
    "<img width=\"600\" alt=\"tabela1\" src=\"https://drive.google.com/uc?export=view&id=1twxyhMeDkjy7kn2GOePJ2kQCLSJu8KUe\">\n",
    "\n",
    "\n",
    "<span style=\"color:##191970\">**Para verificar a nossa hipótese vamos fazer o seguinte:** </span>\n",
    "- Para cada concurso, após a escolha dos quatro números, veremos **quantas vezes pelo menos 1 dos 4 números foi, de fato, sorteado**, verificando se o método foi eficiente ou não. E então, calcularemos em **quantos porecento do total de concursos** o objetivo de acertar 1 número foi atingido. Assim, será possível visualizar o quão relevante esse processo de fato seria na escolha dos números da Mega-Sena.\n"
   ]
  },
  {
   "cell_type": "markdown",
   "metadata": {},
   "source": [
    "### <span style=\"color:##191970\">2.1. Construindo a lógica de cada etapa</span>"
   ]
  },
  {
   "cell_type": "markdown",
   "metadata": {},
   "source": [
    "#### <span style=\"color:##191970\">a) Montando a Tabela 1</span>"
   ]
  },
  {
   "cell_type": "markdown",
   "metadata": {
    "collapsed": true
   },
   "source": [
    ">```python\n",
    "#criar uma lista para guardar os valores sorteados\n",
    "n_sorteados=[]\n",
    "#criar a variável o que vai armazenar o número do concurso\n",
    "c = concurso_i\n",
    "#atribuir a 'colunas' as colunas que contém os números sorteados em cada concurso\n",
    "colunas = ['Dezena1','Dezena2', 'Dezena3', 'Dezena4' , 'Dezena5', 'Dezena6']\n",
    "#como iremos utilizar apenas os 10 valores anteriores\n",
    "#atribuir para 'a' o número do décimo concurso anterior ao que estamos avaliando\n",
    "a = c-10 \n",
    "if a < 0: #caso a seja menor que 0\n",
    "    a = 0 #o concurso analisado é um dos primeiros, logo devo zerar o valor de a\n",
    "#percorrer concursos anteriores    \n",
    "for i in range(a,c): \n",
    "    for k in colunas: #percorrer cada uma das colunas das dezenas\n",
    "      j = data[k].iloc[i] #descobrir o valor sorteado naquela dezena \n",
    "        n_sorteados.append(j) #adicionar ao n_sorteados o valor descoberto \n",
    "#criar o dicionário para as apariçoes de cada número         \n",
    "aparicoes={}   \n",
    "#para cada valor sorteado\n",
    "for i in set(n_sorteados):\n",
    "    aparicoes[i] = n_sorteados.count(i) #dizer quantas vezes ele aparece    \n",
    "chaves = [] #criar uma lista para receber as chaves\n",
    "valores = [] #criar uma lista para receber os valores\n",
    "#para cada item em aparições\n",
    "for i,j in aparicoes.items():\n",
    "    chaves.append(i) #adicionar os valores da lista chave\n",
    "    valores.append(j) #adivionar os valores da lista value\n",
    "#criar um dicionário B com os valores das chavez e dos valores\n",
    "B = {'Numero':chaves, 'Repeticoes':valores} \n",
    "#criar um dataframe que será a tabela 1 \n",
    "tab1= pd.DataFrame(data = B) \n",
    "#ordenar o DataFrame pelo número de aparições e do maior para o menor\n",
    "tab1 = tab1.sort_values(by=['Repeticoes'], ascending = False)\n",
    "```"
   ]
  },
  {
   "cell_type": "markdown",
   "metadata": {},
   "source": [
    "#### <span style=\"color:##191970\">b) Montando a Tabela 2</span>"
   ]
  },
  {
   "cell_type": "markdown",
   "metadata": {
    "collapsed": true
   },
   "source": [
    ">```python\n",
    "#criar dicionário para armazenar a última aparição do número\n",
    "ultima_aparicao = {} \n",
    "#para cada número\n",
    "for j in set(n_sorteados): \n",
    "    for i in range(c): #do primeiro ao ultimo concurso\n",
    "        for k in colunas: #para cada dezena\n",
    "            if j == data[k].iloc[i]: #se o i for igual a uma das dezenas sorteadas \n",
    "                ultima_aparicao[j] = data['Data Sorteio'].iloc[i] #colocar data do concurso no dicionário\n",
    "#criar uma lista para receber as chaves\n",
    "chaves = [] \n",
    "#criar uma lista para receber os valores\n",
    "valores = [] \n",
    "#para cada item do dicionário\n",
    "for i,j in ultima_aparicao.items():\n",
    "    chaves.append(i) #adicionar as keys na lista chave\n",
    "    valores.append(j) #adivionar os values na lista value \n",
    "#criar um dicionário C com os valores das chavez e dos valores\n",
    "C = {'Numero':chaves, 'Última Aparição':valores} \n",
    "#criar um dataframe que será a tabela 2\n",
    "tab2 = pd.DataFrame(data=C) \n",
    "#ordenar o DataFrame pelo ultima aparição da mais antiga para a mais atual\n",
    "tab2 = tab2.sort_values('Última Aparição') \n",
    "```\n"
   ]
  },
  {
   "cell_type": "markdown",
   "metadata": {},
   "source": [
    "#### <span style=\"color:##191970\">c) Montando a Tabela 3</span>"
   ]
  },
  {
   "cell_type": "markdown",
   "metadata": {
    "collapsed": true
   },
   "source": [
    ">```python\n",
    "soma_posicoes = {} #criar dicionário para armazenar as somas\n",
    "posicao_tab1 = {} #criar dicionário para armazenar as posições da tabela1\n",
    "posicao_tab2 = {} #criar dicionário para armazenar as posições da tabela2\n",
    "#para cada valor sorteado\n",
    "for j in set(n_sorteados):\n",
    "    index_tab1 = pd.Index(tab1.Numero)\n",
    "    posicao_tab1[j] = index_tab1.get_loc(j)#pegar a posição do j na tabela 1    \n",
    "#para cada valor sorteado\n",
    "for j in set(n_sorteados):\n",
    "    index_tab2 = pd.Index(tab2.Numero)\n",
    "    posicao_tab2[j] = index_tab2.get_loc(j)#pegar a posição do j na tabela 2\n",
    "#para cada valor sorteado   \n",
    "for i in set(n_sorteados):    \n",
    "    soma_posicoes[i]= posicao_tab1[i] + posicao_tab2[i] #adicionar a soma da posição nas tabelas \n",
    "#criar uma lista para receber as chaves\n",
    "chaves = [] \n",
    "#criar uma lista para receber os valores\n",
    "valores = [] \n",
    "#para cada item do dicionário\n",
    "for i,j in soma_posicoes.items():\n",
    "    chaves.append(i) #adicionar os valores da lista chave\n",
    "    valores.append(j) #adivionar os valores da lista value    \n",
    "#cria um dicionário D com os valores das chaves e dos valores\n",
    "D = {'Numero':chaves, 'Soma das posições':valores} \n",
    " #criar um dataframe que será a tabela 3\n",
    "tab3 = pd.DataFrame(data=D) \n",
    "#ordenamar o dataframe pelo número de aparições e do menor para o maior\n",
    "tab3 = tab3.sort_values('Soma das posições') \n",
    "```"
   ]
  },
  {
   "cell_type": "markdown",
   "metadata": {},
   "source": [
    "#### <span style=\"color:##191970\">d) Escolhendo os 4 Números</span>"
   ]
  },
  {
   "cell_type": "markdown",
   "metadata": {
    "collapsed": true,
    "scrolled": true
   },
   "source": [
    ">```python\n",
    "#na coluna Numero da tabela 3 , busco os 4 primeiros valores\n",
    "Quatro_numeros= tab3.Numero.iloc[0:4].tolist()\n",
    "```\n",
    "\n",
    "\n"
   ]
  },
  {
   "cell_type": "markdown",
   "metadata": {},
   "source": [
    "#### <span style=\"color:##191970\">e) Verificando se um dos números foi sorteado</span>"
   ]
  },
  {
   "cell_type": "markdown",
   "metadata": {
    "collapsed": true
   },
   "source": [
    ">```python\n",
    "for i in colunas:#para cada dezena\n",
    "    for j in Quatro_numeros: #para cada palpite\n",
    "        if j == data[i].loc[c]: #verificar se naquele concurso o palpite foi certo\n",
    "            data['Acertos Palpite'][c]+=1 #somar na coluna 'Acertos Palpite'\n",
    "```\n"
   ]
  },
  {
   "cell_type": "markdown",
   "metadata": {},
   "source": [
    "### <span style=\"color:##191970\">2.2 Aplicando em todos os concursos</span>\n",
    "\n",
    "Agora que já temos a lógica para a construção de cada uma das etapas iremos junta-las numa única célula para podermos aplicar o método a cada um dos concursos."
   ]
  },
  {
   "cell_type": "code",
   "execution_count": 108,
   "metadata": {},
   "outputs": [
    {
     "data": {
      "text/html": [
       "<div>\n",
       "<style scoped>\n",
       "    .dataframe tbody tr th:only-of-type {\n",
       "        vertical-align: middle;\n",
       "    }\n",
       "\n",
       "    .dataframe tbody tr th {\n",
       "        vertical-align: top;\n",
       "    }\n",
       "\n",
       "    .dataframe thead th {\n",
       "        text-align: right;\n",
       "    }\n",
       "</style>\n",
       "<table border=\"1\" class=\"dataframe\">\n",
       "  <thead>\n",
       "    <tr style=\"text-align: right;\">\n",
       "      <th></th>\n",
       "      <th>Unnamed: 0</th>\n",
       "      <th>Concurso</th>\n",
       "      <th>Data Sorteio</th>\n",
       "      <th>Dezena1</th>\n",
       "      <th>Dezena2</th>\n",
       "      <th>Dezena3</th>\n",
       "      <th>Dezena4</th>\n",
       "      <th>Dezena5</th>\n",
       "      <th>Dezena6</th>\n",
       "      <th>Acertos Palpite</th>\n",
       "    </tr>\n",
       "  </thead>\n",
       "  <tbody>\n",
       "    <tr>\n",
       "      <th>0</th>\n",
       "      <td>0</td>\n",
       "      <td>1</td>\n",
       "      <td>1996-03-11</td>\n",
       "      <td>41</td>\n",
       "      <td>5</td>\n",
       "      <td>4</td>\n",
       "      <td>52</td>\n",
       "      <td>30</td>\n",
       "      <td>33</td>\n",
       "      <td>0</td>\n",
       "    </tr>\n",
       "    <tr>\n",
       "      <th>1</th>\n",
       "      <td>1</td>\n",
       "      <td>2</td>\n",
       "      <td>1996-03-18</td>\n",
       "      <td>9</td>\n",
       "      <td>39</td>\n",
       "      <td>37</td>\n",
       "      <td>49</td>\n",
       "      <td>43</td>\n",
       "      <td>41</td>\n",
       "      <td>0</td>\n",
       "    </tr>\n",
       "    <tr>\n",
       "      <th>2</th>\n",
       "      <td>2</td>\n",
       "      <td>3</td>\n",
       "      <td>1996-03-25</td>\n",
       "      <td>36</td>\n",
       "      <td>30</td>\n",
       "      <td>10</td>\n",
       "      <td>11</td>\n",
       "      <td>29</td>\n",
       "      <td>47</td>\n",
       "      <td>0</td>\n",
       "    </tr>\n",
       "    <tr>\n",
       "      <th>3</th>\n",
       "      <td>3</td>\n",
       "      <td>4</td>\n",
       "      <td>1996-04-01</td>\n",
       "      <td>6</td>\n",
       "      <td>59</td>\n",
       "      <td>42</td>\n",
       "      <td>27</td>\n",
       "      <td>1</td>\n",
       "      <td>5</td>\n",
       "      <td>0</td>\n",
       "    </tr>\n",
       "    <tr>\n",
       "      <th>4</th>\n",
       "      <td>4</td>\n",
       "      <td>5</td>\n",
       "      <td>1996-04-08</td>\n",
       "      <td>1</td>\n",
       "      <td>19</td>\n",
       "      <td>46</td>\n",
       "      <td>6</td>\n",
       "      <td>16</td>\n",
       "      <td>2</td>\n",
       "      <td>0</td>\n",
       "    </tr>\n",
       "  </tbody>\n",
       "</table>\n",
       "</div>"
      ],
      "text/plain": [
       "   Unnamed: 0  Concurso Data Sorteio  Dezena1  Dezena2  Dezena3  Dezena4  \\\n",
       "0           0         1   1996-03-11       41        5        4       52   \n",
       "1           1         2   1996-03-18        9       39       37       49   \n",
       "2           2         3   1996-03-25       36       30       10       11   \n",
       "3           3         4   1996-04-01        6       59       42       27   \n",
       "4           4         5   1996-04-08        1       19       46        6   \n",
       "\n",
       "   Dezena5  Dezena6  Acertos Palpite  \n",
       "0       30       33                0  \n",
       "1       43       41                0  \n",
       "2       29       47                0  \n",
       "3        1        5                0  \n",
       "4       16        2                0  "
      ]
     },
     "execution_count": 108,
     "metadata": {},
     "output_type": "execute_result"
    }
   ],
   "source": [
    "#Adicionar a coluna ao dataset, com todos os valore iguais a 0\n",
    "for i in data:\n",
    "    data['Acertos Palpite']= 0\n",
    "\n",
    "data.head()"
   ]
  },
  {
   "cell_type": "code",
   "execution_count": 109,
   "metadata": {},
   "outputs": [
    {
     "name": "stdout",
     "output_type": "stream",
     "text": [
      "Os números sorteados nos últimos 2080 concursos foi (n_sorteados): [31, 50, 7, 53, 32, 20, 11, 20, 8, 47, 12, 17, 24, 55, 15, 33, 25, 42, 5, 3, 52, 45, 9, 51, 34, 56, 24, 1, 49, 8, 59, 51, 13, 1, 9, 50, 23, 18, 31, 17, 53, 28, 54, 11, 51, 16, 36, 30, 58, 52, 8, 34, 20, 23, 4, 17, 42, 56, 46, 24, 50, 15, 17, 2, 14, 59, 17, 40, 22, 27, 33, 3, 48, 15, 24, 27, 17, 32, 43, 53, 13, 32, 34, 24, 43, 17, 8, 15, 49, 39, 19, 55, 30, 23, 37, 49, 30, 17, 20, 29, 15, 60, 27, 48, 17, 19, 26, 22, 7, 18, 2, 45, 3, 53, 6, 33, 45, 38, 24, 50, 46, 31, 1, 57, 22, 51, 28, 16, 45, 29, 30, 11, 38, 21, 8, 22, 18, 60, 23, 6, 25, 39, 51, 5, 29, 47, 42, 21, 13, 26, 51, 58, 23, 11, 8, 37, 51, 59, 31, 5, 36, 32, 12, 3, 38, 29, 51, 4, 51, 7, 58, 49, 23, 41, 34, 3, 12, 50, 32, 40, 19, 6, 43, 52, 8, 22, 38, 43, 20, 55, 17, 58, 47, 34, 8, 6, 18, 38, 30, 8, 31, 3, 21, 25, 20, 54, 58, 26, 41, 46, 36, 38, 33, 14, 49, 41, 42, 6, 24, 44, 22, 13, 13, 56, 12, 33, 53, 54, 16, 23, 35, 18, 44, 59, 53, 19, 38, 18, 17, 49, 38, 28, 52, 30, 19, 57, 50, 42, 19, 8, 30, 14, 25, 22, 48, 52, 54, 8, 30, 39, 35, 43, 15, 57, 28, 36, 17, 53, 33, 59, 5, 11, 29, 54, 23, 58, 22, 43, 15, 55, 9, 1, 57, 2, 15, 6, 56, 18, 54, 20, 3, 18, 42, 24, 28, 32, 49, 53, 18, 20, 36, 15, 60, 8, 29, 49, 41, 20, 19, 29, 59, 10, 9, 41, 32, 13, 58, 20, 49, 28, 2, 6, 57, 50, 59, 1, 11, 5, 44, 4, 35, 21, 54, 29, 38, 36, 34, 27, 56, 28, 16, 39, 50, 7, 33, 21, 24, 13, 10, 21, 48, 27, 49, 7, 39, 19, 11, 8, 50, 30, 47, 20, 52, 3, 46, 28, 31, 37, 34, 15, 38, 4, 44, 58, 5, 27, 33, 3, 46, 56, 5, 15, 45, 10, 32, 55, 34, 35, 28, 33, 30, 45, 58, 1, 4, 41, 8, 36, 34, 37, 3, 4, 8, 40, 58, 4, 53, 31, 46, 10, 27, 19, 33, 39, 15, 52, 40, 36, 51, 42, 39, 16, 57, 15, 45, 48, 24, 5, 34, 13, 35, 33, 51, 32, 8, 28, 38, 7, 44, 8, 5, 15, 18, 10, 9, 36, 15, 19, 42, 22, 32, 34, 17, 35, 9, 12, 28, 32, 38, 25, 15, 45, 49, 52, 15, 25, 14, 6, 45, 58, 40, 39, 28, 44, 47, 29, 34, 48, 19, 41, 26, 32, 24, 49, 8, 10, 3, 59, 21, 36, 55, 31, 17, 14, 50, 52, 6, 26, 34, 28, 37, 12, 8, 31, 56, 45, 13, 33, 38, 1, 32, 21, 25, 1, 6, 49, 3, 1, 35, 7, 18, 50, 13, 4, 12, 53, 9, 52, 27, 18, 13, 59, 21, 53, 48, 57, 23, 8, 31, 3, 49, 14, 47, 56, 6, 28, 14, 22, 25, 15, 37, 23, 37, 3, 19, 34, 39, 7, 45, 43, 56, 25, 52, 3, 16, 50, 55, 6, 47, 19, 22, 4, 30, 44, 28, 49, 58, 57, 27, 13, 49, 52, 49, 4, 19, 28, 35, 6, 35, 54, 37, 42, 49, 46, 11, 33, 56, 47, 17, 34, 43, 35, 57, 29, 40, 17, 46, 4, 54, 17, 13, 5, 4, 59, 13, 53, 28, 30, 51, 49, 14, 47, 59, 58, 13, 51, 58, 22, 46, 8, 17, 56, 16, 38, 39, 45, 56, 48, 57, 21, 12, 46, 22, 54, 52, 47, 49, 9, 43, 46, 58, 53, 54, 4, 47, 29, 31, 15, 60, 42, 49, 5, 23, 33, 45, 31, 8, 45, 30, 33, 17, 10, 18, 49, 38, 23, 8, 12, 59, 57, 7, 58, 31, 14, 53, 25, 36, 13, 17, 6, 32, 18, 11, 30, 2, 58, 39, 49, 36, 20, 55, 1, 37, 35, 23, 16, 57, 55, 34, 8, 23, 44, 51, 5, 38, 13, 32, 20, 10, 49, 31, 37, 35, 7, 45, 34, 17, 6, 20, 18, 13, 37, 57, 58, 11, 38, 41, 31, 25, 41, 17, 29, 13, 22, 32, 15, 14, 9, 3, 57, 35, 32, 36, 33, 51, 15, 14, 31, 12, 13, 51, 50, 33, 3, 20, 60, 9, 16, 59, 29, 17, 6, 40, 22, 32, 23, 2, 10, 44, 17, 18, 29, 21, 48, 35, 5, 18, 43, 52, 39, 7, 8, 31, 47, 28, 23, 8, 24, 48, 3, 58, 18, 56, 23, 15, 34, 39, 17, 4, 9, 38, 16, 18, 28, 15, 47, 30, 25, 52, 14, 39, 17, 13, 40, 29, 59, 45, 51, 55, 6, 41, 20, 43, 7, 30, 53, 23, 7, 32, 8, 24, 39, 12, 33, 57, 36, 45, 38, 13, 11, 54, 39, 30, 2, 36, 18, 60, 29, 45, 13, 46, 55, 53, 11, 13, 7, 33, 59, 6, 8, 25, 51, 5, 18, 4, 28, 58, 3, 18, 50, 34, 1, 55, 14, 59, 47, 13, 42, 27, 29, 1, 59, 25, 49, 10, 53, 55, 29, 13, 47, 54, 2, 43, 1, 50, 25, 43, 60, 28, 11, 54, 14, 42, 40, 27, 22, 56, 29, 5, 16, 53, 38, 50, 34, 6, 45, 51, 9, 23, 4, 18, 39, 54, 34, 31, 16, 37, 19, 29, 30, 10, 22, 38, 60, 13, 7, 55, 46, 4, 8, 11, 29, 12, 44, 41, 49, 51, 25, 15, 46, 44, 52, 53, 4, 49, 24, 41, 6, 23, 55, 32, 35, 6, 59, 11, 27, 19, 41, 30, 6, 37, 19, 24, 13, 15, 2, 59, 60, 6, 58, 25, 49, 30, 43, 47, 45, 22, 21, 33, 16, 48, 49, 55, 33, 15, 50, 53, 18, 54, 55, 13, 44, 6, 19, 60, 31, 12, 48, 57, 16, 27, 31, 8, 10, 51, 5, 24, 16, 26, 54, 12, 2, 25, 5, 49, 36, 33, 3, 60, 10, 3, 8, 24, 13, 16, 12, 46, 14, 8, 19, 22, 1, 29, 13, 32, 3, 29, 31, 50, 26, 57, 49, 59, 27, 19, 29, 50, 38, 42, 23, 55, 30, 9, 49, 39, 23, 34, 52, 8, 43, 59, 12, 32, 42, 24, 40, 49, 8, 22, 18, 7, 39, 19, 13, 45, 58, 56, 1, 8, 16, 22, 56, 58, 30, 40, 47, 39, 16, 51, 15, 16, 53, 20, 60, 12, 45, 1, 28, 47, 20, 44, 32, 2, 54, 48, 51, 19, 28, 27, 46, 5, 50, 11, 22, 13, 41, 24, 42, 10, 56, 49, 42, 37, 8, 20, 26, 30, 32, 34, 50, 28, 26, 52, 58, 43, 48, 11, 18, 42, 10, 50, 41, 11, 36, 51, 39, 35, 60, 45, 13, 12, 42, 59, 46, 19, 60, 17, 13, 33, 9, 1, 34, 51, 17, 56, 36, 44, 40, 14, 45, 24, 37, 40, 42, 57, 29, 31, 27, 34, 14, 52, 48, 24, 53, 54, 3, 13, 47, 60, 32, 49, 10, 56, 19, 11, 14, 12, 54, 5, 48, 23, 42, 45, 29, 9, 54, 41, 48, 33, 24, 53, 59, 25, 29, 10, 24, 39, 45, 28, 26, 48, 60, 24, 18, 57, 56, 10, 20, 31, 24, 19, 34, 9, 5, 10, 11, 56, 40, 41, 6, 26, 39, 1, 37, 43, 48, 59, 37, 46, 36, 35, 51, 20, 59, 58, 33, 60, 16, 41, 20, 36, 3, 11, 6, 14, 29, 40, 34, 51, 52, 53, 5, 38, 54, 46, 11, 42, 40, 27, 4, 55, 36, 4, 60, 56, 25, 18, 23, 1, 49, 30, 55, 27, 51, 12, 1, 55, 59, 38, 36, 8, 47, 7, 48, 25, 18, 7, 26, 16, 29, 45, 55, 5, 23, 16, 4, 49, 1, 49, 33, 56, 2, 14, 1, 7, 41, 24, 40, 49, 27, 42, 59, 58, 37, 48, 22, 27, 16, 39, 51, 9, 38, 43, 34, 53, 38, 28, 24, 6, 40, 37, 11, 20, 34, 22, 32, 18, 29, 42, 38, 50, 42, 30, 25, 43, 24, 49, 32, 15, 9, 41, 42, 25, 10, 48, 8, 32, 55, 44, 46, 31, 14, 40, 42, 37, 21, 54, 3, 58, 25, 44, 2, 26, 5, 3, 22, 59, 21, 53, 25, 58, 38, 60, 37, 47, 36, 4, 27, 43, 40, 12, 11, 2, 35, 50, 37, 33, 40, 19, 17, 33, 27, 5, 56, 12, 43, 33, 5, 4, 54, 15, 26, 59, 48, 1, 7, 41, 14, 47, 30, 52, 11, 21, 35, 6, 60, 7, 31, 49, 51, 15, 41, 8, 47, 12, 53, 55, 16, 58, 8, 37, 50, 33, 18, 60, 11, 58, 57, 14, 50, 41, 17, 31, 13, 15, 19, 29, 53, 37, 41, 13, 40, 21, 52, 6, 11, 37, 16, 34, 57, 53, 9, 53, 35, 32, 31, 28, 51, 22, 8, 27, 43, 55, 12, 53, 17, 50, 23, 54, 48, 2, 3, 24, 40, 31, 14, 13, 1, 31, 23, 60, 48, 1, 56, 18, 58, 45, 57, 30, 24, 2, 45, 11, 27, 2, 27, 50, 34, 18, 4, 3, 15, 11, 13, 26, 43, 22, 10, 17, 7, 2, 60, 51, 8, 1, 43, 10, 36, 45, 13, 39, 47, 9, 7, 29, 22, 44, 9, 6, 4, 46, 25, 5, 49, 39, 34, 10, 5, 41, 59, 40, 33, 35, 7, 53, 58, 8, 43, 46, 1, 26, 16, 12, 54, 17, 53, 39, 8, 7, 35, 54, 36, 12, 4, 33, 24, 29, 2, 7, 50, 16, 32, 28, 35, 41, 17, 6, 23, 7, 35, 21, 39, 58, 33, 39, 47, 37, 53, 32, 3, 12, 56, 44, 51, 31, 54, 14, 3, 23, 55, 36, 25, 60, 36, 57, 18, 44, 9, 16, 6, 52, 1, 36, 50, 34, 51, 55, 17, 48, 27, 49, 9, 3, 35, 37, 41, 40, 47, 1, 5, 7, 37, 14, 42, 12, 4, 59, 30, 44, 42, 13, 8, 24, 32, 33, 56, 18, 57, 43, 5, 45, 15, 2, 54, 16, 50, 35, 6, 15, 23, 28, 16, 49, 19, 53, 50, 17, 6, 12, 26, 31, 43, 46, 2, 44, 45, 27, 29, 43, 54, 40, 42, 15, 52, 38, 9, 1, 21, 38, 41, 56, 49, 33, 12, 24, 38, 11, 32, 15, 30, 14, 42, 26, 54, 6, 45, 56, 49, 35, 10, 29, 47, 12, 50, 16, 28, 26, 39, 27, 24, 59, 36, 34, 17, 7, 41, 2, 50, 54, 20, 32, 60, 25, 23, 26, 46, 12, 23, 39, 4, 21, 57, 37, 16, 43, 2, 49, 12, 10, 57, 25, 1, 21, 23, 56, 12, 3, 2, 1, 7, 19, 51, 35, 2, 24, 47, 4, 57, 48, 50, 58, 17, 54, 10, 42, 33, 4, 25, 38, 50, 20, 7, 25, 4, 29, 42, 24, 23, 59, 35, 43, 22, 7, 2, 4, 42, 34, 50, 3, 13, 59, 30, 47, 12, 4, 49, 37, 50, 41, 5, 38, 27, 17, 32, 12, 18, 58, 30, 47, 59, 1, 23, 36, 43, 59, 39, 30, 31, 48, 45, 12, 17, 60, 44, 46, 45, 56, 29, 17, 13, 27, 40, 39, 9, 21, 12, 37, 54, 40, 47, 1, 48, 9, 26, 7, 3, 55, 47, 53, 45, 3, 37, 50, 16, 30, 10, 1, 50, 19, 42, 24, 58, 22, 50, 32, 38, 54, 15, 33, 37, 59, 30, 4, 8, 20, 21, 50, 29, 12, 16, 4, 34, 25, 35, 48, 12, 29, 46, 34, 47, 21, 14, 38, 51, 52, 60, 10, 35, 3, 5, 51, 29, 34, 14, 37, 5, 54, 58, 46, 10, 27, 12, 46, 47, 42, 50, 57, 35, 60, 41, 3, 15, 14, 50, 23, 2, 28, 56, 45, 20, 36, 37, 31, 51, 36, 54, 52, 25, 29, 26, 10, 50, 28, 51, 59, 7, 10, 54, 8, 39, 56, 13, 11, 23, 59, 42, 35, 2, 43, 21, 48, 8, 4, 32, 42, 56, 8, 37, 27, 53, 35, 5, 37, 8, 48, 17, 27, 31, 26, 11, 10, 41, 37, 31, 20, 60, 34, 54, 31, 57, 17, 19, 29, 44, 60, 39, 31, 38, 6, 50, 22, 2, 19, 28, 43, 6, 42, 35, 19, 9, 14, 58, 43, 56, 9, 45, 29, 34, 3, 51, 33, 15, 16, 57, 56, 47, 55, 38, 42, 3, 14, 36, 21, 29, 26, 48, 19, 24, 43, 34, 39, 5, 58, 48, 52, 47, 12, 6, 32, 9, 4, 52, 29, 3, 29, 35, 19, 57, 42, 55, 1, 7, 56, 11, 37, 38, 20, 22, 11, 19, 48, 42, 14, 24, 60, 6, 18, 48, 10, 57, 28, 3, 5, 21, 13, 59, 37, 56, 3, 47, 30, 2, 48, 60, 43, 36, 60, 41, 47, 26, 35, 18, 8, 27, 2, 32, 56, 49, 15, 21, 31, 46, 2, 57, 25, 23, 11, 5, 30, 15, 4, 33, 1, 48, 5, 37, 32, 57, 28, 41, 10, 47, 57, 39, 54, 11, 38, 13, 23, 15, 56, 46, 9, 45, 11, 2, 46, 50, 8, 41, 57, 50, 9, 39, 37, 19, 21, 47, 40, 52, 30, 20, 34, 43, 29, 30, 10, 52, 44, 41, 22, 8, 9, 25, 51, 5, 58, 46, 25, 19, 17, 45, 32, 21, 10, 46, 4, 29, 38, 36, 33, 42, 4, 17, 41, 10, 27, 52, 15, 26, 59, 1, 54, 51, 33, 48, 6, 7, 20, 9, 28, 21, 40, 10, 41, 47, 45, 6, 8, 7, 53, 27, 24, 56, 30, 51, 42, 18, 23, 50, 53, 42, 28, 38, 32, 50, 14, 47, 10, 56, 53, 51, 2, 41, 13, 49, 3, 50, 48, 42, 32, 33, 17, 49, 15, 33, 39, 23, 53, 58, 57, 16, 46, 13, 44, 10, 17, 16, 51, 34, 58, 31, 57, 49, 33, 18, 28, 22, 38, 17, 52, 59, 16, 5, 24, 34, 6, 60, 9, 30, 47, 38, 23, 44, 11, 18, 8, 7, 37, 43, 43, 29, 35, 59, 31, 17, 36, 51, 32, 22, 38, 7, 51, 44, 60, 9, 7, 30, 34, 48, 1, 16, 45, 36, 54, 24, 44, 57, 34, 16, 40, 48, 19, 20, 14, 52, 47, 54, 2, 50, 3, 44, 42, 14, 44, 27, 15, 48, 56, 34, 17, 32, 47, 27, 8, 39, 9, 58, 44, 49, 60, 22, 59, 25, 44, 7, 16, 32, 35, 58, 19, 3, 14, 38, 6, 23, 44, 34, 51, 30, 59, 46, 38, 56, 17, 3, 24, 27, 44, 25, 42, 3, 24, 53, 43, 31, 11, 40, 41, 47, 15, 42, 17, 59, 49, 2, 3, 50, 31, 37, 54, 23, 4, 18, 46, 47, 12, 57, 34, 9, 22, 8, 17, 42, 44, 2, 42, 40, 60, 59, 47, 39, 19, 35, 12, 2, 11, 8, 32, 53, 50, 57, 15, 24, 31, 11, 33, 42, 57, 8, 27, 23, 41, 51, 26, 53, 36, 48, 27, 40, 5, 46, 54, 26, 28, 19, 44, 10, 57, 51, 21, 22, 25, 40, 29, 42, 50, 51, 49, 27, 52, 8, 43, 34, 40, 21, 17, 5, 58, 1, 47, 10, 18, 55, 58, 43, 31, 5, 57, 59, 4, 34, 19, 30, 59, 20, 52, 42, 44, 10, 53, 18, 36, 58, 24, 20, 4, 12, 41, 45, 60, 8, 13, 15, 20, 31, 28, 36, 37, 12, 43, 38, 11, 54, 29, 10, 46, 35, 42, 28, 51, 30, 49, 25, 37, 46, 43, 24, 4, 51, 18, 56, 42, 45, 44, 60, 41, 17, 21, 37, 60, 32, 52, 53, 22, 11, 2, 14, 39, 12, 13, 4, 31, 33, 47, 51, 50, 55, 37, 33, 59, 17, 44, 12, 32, 21, 1, 34, 50, 24, 40, 54, 52, 60, 34, 54, 20, 39, 60, 24, 9, 21, 22, 7, 17, 54, 15, 22, 19, 35, 34, 16, 1, 49, 52, 42, 19, 44, 56, 53, 51, 26, 18, 3, 37, 24, 44, 28, 20, 41, 2, 55, 41, 43, 57, 58, 31, 11, 41, 35, 22, 5, 21, 57, 46, 22, 7, 43, 4, 8, 3, 54, 45, 30, 58, 18, 54, 36, 53, 20, 4, 21, 59, 18, 38, 34, 32, 34, 16, 13, 56, 33, 52, 55, 23, 50, 58, 18, 17, 5, 32, 55, 20, 41, 32, 44, 59, 53, 48, 51, 4, 15, 57, 55, 2, 16, 35, 39, 29, 24, 7, 14, 9, 41, 53, 37, 36, 51, 19, 1, 9, 25, 50, 52, 42, 17, 26, 38, 28, 22, 53, 29, 36, 3, 15, 27, 49, 46, 1, 29, 6, 28, 26, 21, 54, 4, 19, 29, 30, 14, 59, 36, 46, 38, 33, 51, 9, 23, 45, 12, 20, 28, 49, 26, 17, 48, 33, 37, 5, 38, 28, 36, 23, 59, 25, 47, 46, 30, 38, 44, 8, 4, 12, 52, 43, 25, 41, 60, 31, 3, 17, 57, 55, 24, 52, 5, 35, 41, 1, 57, 9, 48, 41, 49, 45, 19, 13, 12, 53, 39, 2, 50, 57, 15, 51, 27, 60, 21, 20, 2, 52, 37, 46, 8, 22, 36, 40, 41, 34, 33, 21, 59, 36, 26, 31, 23, 19, 33, 32, 10, 49, 60, 4, 33, 16, 49, 35, 39, 57, 27, 46, 20, 55, 37, 28, 49, 17, 34, 7, 36, 39, 19, 2, 21, 42, 53, 36, 17, 25, 39, 45, 51, 8, 14, 25, 48, 44, 3, 21, 1, 7, 45, 18, 13, 29, 31, 5, 33, 14, 29, 44, 22, 22, 41, 2, 30, 21, 52, 35, 15, 27, 57, 50, 59, 6, 23, 19, 50, 37, 49, 25, 33, 51, 31, 5, 37, 11, 15, 10, 27, 60, 53, 5, 52, 18, 8, 59, 42, 47, 41, 58, 3, 23, 12, 16, 58, 43, 37, 52, 59, 44, 8, 59, 54, 4, 27, 59, 1, 47, 5, 52, 12, 33, 11, 3, 58, 14, 5, 22, 44, 41, 46, 52, 54, 44, 1, 51, 52, 41, 23, 48, 59, 49, 41, 42, 23, 49, 24, 39, 34, 55, 14, 54, 11, 27, 18, 2, 30, 55, 48, 1, 39, 16, 42, 8, 5, 24, 18, 57, 33, 35, 5, 32, 21, 33, 12, 46, 51, 47, 59, 54, 57, 50, 32, 25, 34, 57, 24, 13, 22, 7, 33, 51, 48, 57, 3, 5, 11, 33, 39, 34, 6, 33, 18, 53, 19, 16, 53, 2, 4, 21, 36, 2, 48, 49, 40, 55, 11, 37, 17, 15, 50, 48, 59, 42, 13, 33, 20, 8, 26, 36, 39, 57, 58, 5, 30, 1, 58, 26, 28, 4, 41, 18, 14, 57, 30, 13, 5, 30, 4, 13, 60, 51, 1, 56, 35, 50, 13, 41, 25, 57, 34, 5, 54, 28, 21, 4, 14, 33, 44, 11, 45, 33, 18, 15, 56, 31, 34, 53, 36, 8, 30, 1, 47, 45, 20, 38, 31, 16, 12, 33, 9, 37, 40, 41, 30, 28, 53, 38, 23, 14, 25, 17, 3, 9, 32, 7, 5, 42, 58, 12, 18, 16, 27, 28, 3, 39, 51, 31, 15, 35, 17, 59, 15, 36, 29, 8, 41, 53, 1, 58, 34, 12, 24, 8, 40, 43, 49, 38, 45, 40, 16, 32, 22, 46, 20, 4, 43, 47, 10, 4, 56, 18, 59, 46, 16, 32, 6, 31, 24, 15, 19, 47, 27, 13, 31, 34, 58, 48, 17, 46, 56, 60, 8, 38, 21, 27, 2, 29, 32, 29, 18, 2, 15, 10, 39, 8, 38, 60, 41, 15, 9, 6, 8, 4, 1, 25, 28, 26, 25, 42, 60, 5, 24, 44, 40, 58, 29, 3, 20, 4, 54, 55, 36, 16, 31, 21, 23, 20, 7, 29, 15, 18, 53, 55, 32, 9, 17, 28, 21, 4, 32, 3, 22, 44, 36, 55, 58, 18, 24, 49, 58, 53, 39, 38, 29, 15, 37, 27, 12, 60, 51, 3, 31, 7, 25, 40, 58, 10, 27, 23, 5, 16, 26, 45, 47, 29, 40, 44, 43, 6, 41, 4, 37, 12, 42, 48, 17, 4, 33, 55, 2, 49, 27, 4, 36, 52, 37, 7, 15, 42, 48, 34, 13, 34, 12, 1, 6, 58, 29, 2, 46, 3, 37, 13, 54, 30, 2, 52, 21, 11, 35, 47, 19, 58, 14, 40, 55, 7, 9, 20, 41, 12, 19, 60, 57, 9, 25, 8, 41, 49, 8, 28, 3, 26, 17, 11, 9, 25, 5, 60, 20, 31, 51, 19, 6, 56, 34, 55, 51, 58, 9, 44, 24, 29, 47, 4, 13, 46, 23, 19, 32, 52, 1, 2, 39, 42, 55, 51, 43, 2, 33, 31, 21, 40, 39, 56, 5, 45, 40, 2, 7, 18, 8, 28, 53, 18, 39, 22, 29, 52, 40, 29, 27, 28, 10, 10, 33, 51, 53, 6, 17, 20, 18, 47, 44, 60, 33, 54, 26, 34, 51, 20, 52, 17, 5, 16, 24, 20, 32, 57, 8, 54, 1, 23, 37, 49, 33, 24, 40, 46, 43, 57, 43, 15, 29, 26, 16, 39, 6, 5, 33, 54, 17, 20, 42, 1, 3, 49, 18, 51, 60, 1, 11, 59, 26, 27, 39, 36, 10, 41, 52, 56, 36, 4, 44, 46, 53, 51, 7, 6, 28, 35, 43, 52, 2, 20, 27, 36, 24, 44, 1, 28, 55, 6, 39, 12, 10, 36, 54, 44, 57, 25, 46, 51, 18, 13, 30, 25, 14, 51, 48, 60, 21, 58, 10, 39, 11, 13, 35, 31, 6, 5, 17, 50, 1, 57, 40, 28, 42, 54, 55, 1, 2, 10, 48, 14, 8, 57, 3, 38, 21, 28, 16, 34, 17, 52, 5, 2, 29, 60, 14, 45, 24, 33, 26, 57, 11, 7, 43, 10, 13, 8, 11, 16, 15, 57, 52, 15, 42, 27, 53, 34, 49, 41, 27, 13, 60, 14, 18, 27, 32, 15, 12, 20, 16, 38, 8, 50, 53, 59, 6, 15, 49, 59, 4, 3, 2, 20, 51, 57, 45, 24, 18, 37, 1, 14, 45, 12, 16, 1, 41, 3, 18, 16, 42, 9, 41, 56, 23, 21, 30, 55, 8, 2, 37, 23, 33, 49, 1, 22, 47, 44, 50, 28, 4, 19, 16, 49, 29, 7, 57, 19, 43, 39, 30, 10, 43, 49, 32, 25, 6, 14, 10, 56, 25, 4, 28, 44, 48, 25, 57, 27, 47, 28, 17, 49, 53, 45, 9, 41, 53, 8, 23, 5, 16, 5, 37, 43, 7, 53, 54, 19, 18, 54, 47, 43, 9, 44, 36, 32, 8, 34, 25, 3, 47, 10, 50, 29, 23, 53, 39, 16, 21, 10, 12, 32, 33, 10, 19, 42, 4, 11, 6, 18, 5, 37, 9, 3, 6, 45, 34, 41, 43, 36, 12, 37, 24, 5, 28, 56, 11, 20, 41, 34, 18, 9, 56, 29, 52, 16, 24, 4, 40, 50, 17, 55, 38, 20, 28, 42, 23, 10, 43, 20, 5, 29, 59, 40, 33, 39, 50, 21, 12, 40, 55, 45, 4, 6, 23, 10, 2, 36, 46, 28, 32, 3, 20, 24, 42, 35, 31, 6, 57, 37, 48, 32, 2, 18, 20, 24, 9, 40, 20, 36, 42, 27, 56, 17, 24, 49, 23, 40, 30, 1, 9, 33, 34, 27, 49, 38, 23, 41, 19, 10, 9, 48, 36, 41, 21, 27, 23, 36, 10, 21, 16, 3, 41, 52, 14, 13, 16, 21, 48, 33, 1, 56, 17, 30, 20, 21, 11, 50, 52, 55, 44, 38, 35, 14, 31, 41, 33, 17, 18, 7, 42, 7, 12, 57, 6, 24, 10, 46, 23, 9, 35, 11, 51, 41, 19, 10, 28, 55, 56, 3, 35, 58, 49, 2, 6, 43, 1, 50, 28, 57, 15, 4, 15, 50, 60, 43, 47, 36, 20, 54, 9, 3, 53, 60, 44, 7, 39, 43, 9, 11, 52, 14, 6, 29, 8, 26, 45, 6, 28, 42, 14, 4, 43, 25, 9, 33, 32, 4, 34, 52, 32, 58, 43, 47, 36, 29, 59, 3, 6, 16, 3, 22, 54, 25, 15, 44, 41, 18, 50, 37, 30, 17, 20, 4, 47, 9, 13, 27, 35, 40, 1, 6, 17, 55, 44, 8, 20, 43, 21, 44, 54, 41, 45, 34, 10, 50, 55, 7, 35, 44, 40, 18, 4, 59, 54, 56, 17, 49, 44, 56, 26, 46, 55, 19, 4, 39, 14, 45, 60, 49, 11, 7, 18, 16, 33, 7, 42, 56, 29, 33, 3, 59, 31, 57, 4, 52, 42, 24, 8, 14, 5, 29, 30, 60, 8, 39, 52, 24, 16, 47, 19, 17, 12, 32, 55, 23, 49, 32, 54, 18, 5, 49, 34, 36, 1, 16, 8, 52, 30, 27, 12, 55, 33, 16, 5, 58, 39, 10, 21, 29, 36, 56, 22, 9, 51, 5, 4, 19, 39, 6, 23, 7, 31, 32, 37, 43, 34, 21, 28, 19, 25, 50, 43, 4, 25, 18, 15, 36, 2, 36, 42, 37, 9, 28, 31, 49, 58, 40, 46, 10, 27, 40, 9, 37, 58, 50, 60, 28, 31, 15, 58, 3, 26, 35, 47, 60, 44, 30, 3, 19, 10, 49, 18, 1, 44, 19, 3, 60, 33, 24, 16, 10, 34, 53, 33, 28, 6, 23, 39, 52, 31, 6, 33, 48, 32, 29, 55, 27, 28, 46, 54, 8, 36, 7, 23, 28, 17, 35, 52, 31, 15, 1, 25, 4, 14, 21, 51, 47, 36, 44, 29, 20, 14, 55, 46, 34, 17, 19, 6, 4, 14, 21, 26, 12, 28, 28, 58, 41, 40, 51, 20, 31, 49, 44, 24, 9, 48, 46, 9, 43, 41, 49, 29, 23, 31, 60, 55, 30, 54, 53, 46, 5, 6, 34, 55, 40, 5, 3, 48, 1, 18, 48, 47, 7, 4, 42, 51, 31, 25, 18, 41, 22, 30, 5, 51, 31, 53, 47, 17, 17, 6, 14, 40, 49, 26, 20, 52, 60, 42, 54, 40, 35, 28, 54, 30, 22, 31, 43, 28, 56, 20, 52, 51, 47, 20, 4, 56, 53, 5, 14, 1, 11, 23, 42, 48, 46, 11, 27, 34, 49, 13, 41, 3, 10, 30, 57, 13, 28, 52, 6, 43, 12, 56, 7, 25, 24, 36, 5, 47, 7, 52, 6, 51, 47, 39, 2, 3, 12, 37, 47, 16, 21, 11, 49, 14, 33, 30, 33, 52, 55, 47, 38, 50, 1, 53, 22, 50, 45, 30, 59, 28, 47, 60, 22, 5, 60, 12, 34, 30, 44, 57, 44, 18, 45, 31, 26, 20, 52, 29, 56, 60, 2, 4, 12, 5, 10, 20, 29, 37, 4, 23, 27, 28, 9, 30, 54, 10, 2, 43, 21, 35, 41, 12, 15, 7, 13, 8, 8, 49, 43, 17, 40, 19, 60, 52, 59, 9, 44, 20, 50, 21, 14, 35, 31, 27, 11, 53, 56, 37, 10, 19, 25, 22, 11, 16, 33, 3, 49, 17, 20, 59, 57, 52, 12, 54, 2, 32, 14, 9, 24, 53, 41, 6, 13, 50, 27, 17, 57, 26, 55, 20, 60, 3, 20, 19, 58, 6, 39, 54, 36, 37, 60, 49, 29, 22, 36, 58, 41, 48, 58, 28, 23, 39, 16, 19, 10, 3, 39, 54, 56, 11, 36, 32, 55, 49, 60, 28, 9, 60, 11, 53, 48, 8, 55, 30, 33, 9, 7, 38, 10, 25, 5, 39, 52, 43, 14, 4, 26, 35, 29, 13, 2, 11, 37, 36, 48, 6, 32, 35, 22, 9, 56, 11, 45, 12, 1, 26, 54, 20, 30, 17, 38, 14, 5, 35, 3, 7, 9, 10, 31, 34, 36, 54, 3, 31, 15, 48, 35, 50, 2, 23, 33, 40, 3, 53, 45, 11, 34, 26, 5, 41, 29, 36, 30, 48, 47, 51, 10, 50, 30, 25, 7, 25, 4, 58, 13, 27, 5, 43, 28, 15, 11, 50, 33, 23, 29, 46, 10, 31, 34, 37, 41, 53, 2, 33, 48, 55, 52, 43, 5, 15, 46, 5, 58, 37, 14, 43, 26, 19, 48, 57, 5, 8, 17, 15, 48, 42, 35, 47, 41, 19, 57, 53, 21, 27, 32, 55, 34, 31, 50, 40, 31, 55, 56, 50, 40, 10, 35, 31, 4, 30, 54, 28, 36, 10, 60, 52, 50, 23, 12, 49, 60, 32, 30, 40, 37, 35, 12, 22, 19, 9, 20, 27, 49, 5, 23, 39, 12, 18, 15, 8, 11, 22, 49, 22, 59, 29, 32, 54, 3, 5, 24, 19, 30, 35, 16, 49, 55, 20, 10, 26, 17, 20, 38, 8, 53, 3, 26, 21, 39, 5, 18, 59, 40, 45, 24, 14, 13, 39, 15, 1, 48, 37, 39, 52, 22, 42, 49, 8, 12, 9, 13, 26, 25, 10, 28, 45, 54, 45, 51, 11, 34, 48, 32, 19, 23, 57, 9, 29, 45, 8, 34, 15, 2, 25, 34, 10, 37, 50, 43, 2, 59, 10, 37, 57, 40, 43, 9, 11, 24, 3, 51, 36, 20, 33, 58, 34, 57, 60, 3, 40, 8, 53, 51, 36, 59, 1, 2, 40, 51, 24, 48, 27, 34, 52, 46, 5, 35, 2, 51, 14, 49, 39, 2, 51, 17, 44, 43, 23, 9, 29, 18, 7, 14, 39, 23, 5, 54, 39, 38, 51, 26, 38, 33, 35, 53, 43, 27, 15, 30, 52, 26, 2, 47, 26, 11, 57, 59, 55, 39, 54, 58, 46, 4, 6, 19, 23, 31, 53, 29, 41, 10, 41, 14, 22, 53, 42, 11, 39, 9, 5, 8, 7, 41, 53, 18, 4, 36, 26, 56, 17, 37, 51, 4, 36, 13, 50, 46, 24, 60, 19, 39, 6, 42, 10, 60, 33, 47, 58, 4, 41, 20, 30, 17, 53, 60, 44, 16, 3, 51, 5, 27, 4, 15, 17, 31, 33, 24, 5, 42, 9, 2, 52, 39, 59, 48, 1, 28, 27, 13, 35, 26, 52, 60, 26, 19, 58, 13, 40, 13, 59, 21, 17, 40, 39, 58, 55, 14, 2, 60, 48, 9, 40, 5, 22, 36, 11, 50, 59, 18, 31, 60, 12, 4, 16, 24, 56, 25, 30, 8, 29, 36, 35, 14, 40, 29, 6, 54, 10, 20, 16, 36, 14, 30, 38, 11, 8, 4, 39, 56, 23, 52, 55, 59, 8, 60, 44, 40, 30, 26, 21, 20, 36, 31, 29, 33, 10, 15, 38, 31, 28, 5, 52, 2, 33, 51, 28, 33, 42, 12, 31, 11, 52, 42, 32, 56, 40, 30, 17, 13, 8, 27, 1, 3, 52, 14, 50, 3, 23, 2, 34, 18, 57, 58, 40, 47, 54, 30, 31, 23, 9, 54, 11, 24, 50, 1, 44, 13, 40, 6, 50, 4, 48, 29, 51, 20, 2, 43, 15, 5, 57, 49, 43, 14, 10, 53, 46, 2, 56, 11, 5, 59, 13, 60, 14, 53, 30, 15, 55, 56, 32, 8, 22, 43, 53, 46, 43, 59, 54, 44, 53, 16, 25, 3, 51, 23, 56, 44, 15, 56, 2, 10, 57, 19, 51, 54, 8, 52, 46, 35, 23, 15, 7, 20, 14, 44, 11, 5, 46, 36, 3, 45, 6, 19, 34, 43, 22, 10, 47, 54, 7, 43, 32, 24, 33, 7, 30, 47, 8, 7, 12, 25, 26, 32, 39, 14, 8, 53, 9, 59, 32, 54, 7, 19, 12, 45, 9, 28, 30, 29, 22, 20, 5, 39, 26, 49, 1, 4, 43, 42, 44, 52, 58, 60, 38, 27, 29, 1, 50, 52, 38, 48, 34, 25, 42, 13, 8, 35, 29, 37, 13, 6, 30, 34, 46, 14, 28, 11, 16, 16, 4, 18, 27, 5, 51, 38, 17, 55, 41, 24, 25, 51, 59, 47, 10, 60, 53, 55, 43, 21, 10, 47, 53, 25, 37, 15, 6, 48, 55, 29, 44, 51, 31, 18, 57, 35, 2, 20, 43, 5, 16, 30, 19, 10, 18, 50, 11, 41, 35, 36, 16, 52, 54, 43, 27, 59, 53, 23, 10, 43, 50, 8, 7, 39, 11, 48, 8, 21, 18, 49, 30, 24, 46, 39, 57, 26, 9, 5, 13, 3, 24, 35, 59, 25, 51, 26, 42, 28, 33, 8, 25, 27, 6, 10, 1, 49, 3, 51, 20, 22, 14, 51, 54, 32, 1, 38, 47, 38, 2, 45, 35, 20, 51, 19, 33, 18, 43, 60, 1, 59, 10, 16, 14, 7, 54, 36, 21, 13, 59, 60, 30, 11, 40, 37, 20, 1, 52, 5, 60, 46, 42, 50, 7, 51, 31, 42, 20, 56, 19, 19, 42, 8, 36, 21, 59, 50, 40, 26, 7, 19, 17, 59, 47, 32, 48, 40, 12, 19, 45, 54, 56, 46, 9, 38, 45, 39, 7, 12, 56, 9, 19, 20, 50, 60, 51, 4, 36, 29, 55, 45, 3, 13, 50, 41, 36, 56, 33, 35, 59, 36, 9, 18, 24, 47, 11, 3, 27, 32, 13, 2, 42, 8, 49, 48, 38, 39, 49, 11, 24, 17, 46, 21, 46, 6, 22, 13, 31, 55, 52, 26, 19, 1, 24, 16, 15, 37, 3, 35, 47, 12, 17, 28, 53, 6, 10, 50, 25, 17, 16, 54, 2, 37, 27, 44, 30, 38, 23, 58, 19, 12, 22, 2, 36, 52, 25, 42, 45, 35, 57, 20, 13, 40, 10, 53, 44, 50, 35, 32, 26, 2, 24, 59, 44, 54, 37, 27, 12, 38, 29, 43, 13, 7, 2, 10, 26, 29, 38, 32, 21, 32, 24, 16, 38, 5, 46, 2, 27, 59, 49, 4, 5, 47, 11, 8, 49, 3, 4, 46, 60, 58, 36, 40, 3, 52, 39, 7, 27, 55, 57, 21, 33, 28, 31, 43, 6, 25, 28, 53, 45, 14, 58, 53, 49, 21, 11, 54, 9, 25, 5, 13, 12, 35, 2, 18, 17, 59, 2, 54, 5, 45, 5, 36, 12, 50, 58, 52, 14, 3, 60, 57, 55, 44, 30, 27, 11, 40, 57, 17, 27, 55, 13, 5, 16, 9, 55, 23, 44, 7, 46, 56, 18, 31, 2, 30, 45, 42, 37, 35, 27, 59, 36, 39, 56, 28, 12, 51, 38, 43, 27, 18, 52, 50, 32, 54, 31, 50, 43, 29, 22, 1, 44, 39, 16, 57, 28, 29, 27, 19, 4, 28, 31, 19, 7, 12, 34, 53, 40, 43, 8, 2, 28, 33, 12, 44, 28, 18, 24, 4, 39, 11, 35, 16, 46, 24, 50, 5, 44, 11, 19, 17, 48, 52, 48, 54, 58, 55, 29, 15, 56, 3, 27, 4, 7, 42, 51, 14, 40, 32, 33, 39, 43, 60, 57, 34, 56, 34, 26, 9, 43, 54, 53, 12, 11, 54, 33, 48, 25, 38, 10, 27, 2, 21, 9, 16, 39, 13, 26, 42, 20, 7, 32, 31, 51, 27, 8, 14, 17, 32, 37, 39, 3, 7, 10, 38, 17, 24, 57, 53, 42, 31, 43, 29, 18, 43, 39, 20, 19, 24, 4, 50, 6, 47, 58, 26, 19, 54, 29, 18, 42, 40, 50, 32, 44, 12, 8, 48, 46, 6, 8, 37, 24, 45, 41, 54, 33, 13, 55, 45, 15, 44, 49, 57, 37, 21, 46, 51, 49, 46, 40, 36, 26, 49, 3, 19, 35, 22, 24, 12, 56, 5, 52, 45, 59, 7, 8, 10, 27, 12, 56, 52, 21, 48, 58, 30, 17, 45, 16, 18, 11, 36, 2, 31, 39, 59, 19, 53, 44, 17, 44, 2, 5, 13, 39, 43, 8, 21, 27, 3, 25, 60, 38, 29, 3, 7, 15, 7, 29, 50, 16, 38, 36, 24, 44, 6, 15, 18, 30, 47, 44, 53, 56, 8, 39, 15, 55, 37, 34, 19, 7, 9, 22, 60, 48, 12, 39, 19, 2, 30, 46, 22, 52, 33, 54, 40, 5, 9, 13, 16, 24, 25, 45, 59, 42, 14, 46, 40, 13, 4, 52, 3, 34, 58, 22, 18, 55, 45, 47, 50, 52, 15, 4, 1, 23, 13, 30, 24, 57, 48, 37, 26, 22, 38, 23, 49, 7, 33, 31, 36, 14, 35, 55, 2, 43, 34, 42, 6, 28, 56, 2, 36, 51, 56, 29, 53, 36, 38, 17, 12, 20, 13, 49, 34, 30, 52, 32, 12, 54, 20, 48, 2, 5, 55, 28, 27, 48, 41, 32, 19, 58, 5, 49, 13, 32, 6, 51, 40, 24, 1, 41, 28, 33, 39, 19, 25, 29, 36, 1, 56, 60, 2, 18, 30, 56, 52, 6, 27, 45, 44, 26, 38, 31, 57, 10, 33, 2, 11, 52, 50, 57, 58, 28, 2, 14, 47, 32, 25, 57, 6, 13, 27, 52, 41, 29, 4, 48, 33, 14, 52, 36, 32, 41, 36, 6, 40, 14, 8, 26, 34, 16, 46, 15, 42, 59, 2, 16, 4, 44, 33, 51, 2, 6, 35, 30, 52, 34, 50, 52, 14, 4, 27, 38, 44, 31, 49, 54, 36, 47, 5, 9, 25, 40, 38, 27, 40, 22, 13, 29, 48, 28, 59, 2, 54, 32, 24, 50, 11, 6, 53, 44, 16, 26, 4, 13, 51, 37, 6, 34, 41, 53, 26, 23, 52, 24, 2, 20, 37, 19, 1, 10, 4, 56, 54, 13, 35, 58, 2, 34, 51, 36, 38, 55, 58, 33, 36, 40, 25, 10, 12, 23, 25, 18, 45, 50, 60, 12, 57, 58, 33, 2, 2, 43, 11, 1, 3, 28, 13, 12, 51, 37, 48, 44, 26, 10, 4, 37, 47, 57, 50, 59, 56, 46, 3, 4, 10, 40, 27, 47, 55, 37, 57, 21, 54, 48, 50, 60, 9, 14, 26, 36, 52, 21, 40, 27, 55, 17, 28, 44, 11, 9, 6, 34, 41, 53, 55, 53, 1, 35, 56, 39, 49, 29, 17, 53, 20, 24, 30, 59, 27, 36, 4, 54, 10, 1, 34, 54, 6, 40, 4, 17, 23, 28, 9, 53, 4, 51, 45, 22, 38, 25, 48, 15, 24, 28, 1, 26, 31, 32, 43, 3, 52, 1, 56, 6, 45, 60, 26, 50, 48, 44, 46, 4, 18, 9, 30, 24, 12, 49, 7, 27, 50, 28, 35, 24, 2, 14, 13, 49, 4, 44, 14, 57, 28, 18, 41, 54, 14, 47, 58, 7, 27, 45, 4, 5, 11, 46, 27, 49, 6, 40, 26, 37, 8, 22, 54, 33, 57, 43, 18, 59, 10, 31, 13, 37, 54, 7, 29, 1, 6, 43, 22, 52, 57, 51, 36, 22, 42, 3, 16, 4, 41, 2, 42, 30, 12, 10, 32, 1, 6, 9, 16, 2, 49, 34, 42, 18, 3, 14, 46, 24, 51, 50, 56, 52, 58, 39, 18, 17, 35, 30, 27, 51, 1, 46, 59, 6, 1, 8, 44, 17, 46, 53, 8, 29, 31, 4, 17, 45, 35, 11, 28, 46, 42, 58, 31, 57, 17, 56, 28, 58, 23, 16, 17, 59, 42, 60, 59, 49, 13, 18, 4, 14, 34, 60, 18, 45, 4, 20, 45, 38, 52, 17, 7, 56, 28, 8, 55, 41, 48, 9, 6, 23, 56, 15, 5, 59, 36, 46, 48, 31, 7, 35, 18, 30, 14, 11, 33, 39, 33, 5, 23, 32, 8, 56, 25, 39, 44, 41, 31, 22, 40, 53, 12, 46, 2, 52, 30, 46, 35, 54, 26, 2, 51, 47, 28, 10, 59, 16, 32, 44, 42, 48, 16, 36, 4, 13, 58, 36, 19, 15, 35, 17, 15, 34, 49, 11, 53, 10, 28, 16, 48, 33, 24, 41, 12, 42, 44, 13, 42, 2, 11, 23, 31, 44, 29, 21, 47, 57, 13, 34, 28, 12, 34, 29, 1, 48, 55, 25, 9, 8, 54, 41, 18, 32, 29, 13, 50, 58, 6, 56, 33, 50, 51, 10, 35, 52, 27, 53, 57, 23, 10, 49, 8, 58, 20, 26, 54, 47, 27, 17, 3, 32, 37, 5, 24, 44, 49, 58, 7, 12, 57, 11, 30, 39, 30, 7, 23, 20, 15, 41, 30, 50, 45, 2, 35, 21, 6, 48, 11, 45, 4, 24, 38, 44, 17, 60, 4, 53, 28, 21, 9, 10, 2, 18, 44, 41, 42, 54, 47, 19, 32, 53, 16, 20, 12, 10, 21, 56, 36, 9, 13, 27, 2, 23, 38, 15, 21, 19, 7, 18, 26, 46, 39, 24, 29, 21, 20, 46, 22, 60, 30, 52, 50, 49, 53, 32, 5, 52, 59, 2, 33, 23, 7, 52, 11, 10, 1, 4, 46, 18, 16, 45, 31, 4, 31, 42, 15, 7, 17, 54, 37, 58, 12, 29, 8, 16, 30, 47, 53, 38, 20, 36, 28, 26, 54, 55, 23, 60, 12, 10, 51, 37, 23, 47, 43, 36, 1, 20, 13, 6, 54, 44, 38, 25, 46, 53, 43, 41, 37, 51, 18, 39, 11, 32, 60, 5, 6, 36, 53, 38, 30, 2, 15, 48, 28, 58, 19, 24, 42, 25, 42, 15, 18, 31, 5, 53, 18, 46, 42, 15, 56, 24, 46, 60, 55, 32, 3, 29, 46, 42, 27, 45, 20, 47, 7, 16, 36, 35, 38, 21, 6, 28, 33, 48, 46, 27, 1, 5, 4, 45, 14, 56, 26, 30, 21, 15, 13, 46, 25, 32, 11, 59, 51, 14, 6, 53, 56, 30, 37, 3, 34, 25, 40, 51, 60, 49, 1, 6, 14, 17, 33, 36, 31, 34, 15, 14, 25, 30, 4, 17, 1, 48, 13, 38, 18, 2, 9, 47, 17, 45, 27, 54, 28, 50, 22, 3, 55, 47, 43, 48, 49, 2, 47, 58, 8, 43, 39, 46, 8, 21, 19, 30, 52, 56, 36, 29, 23, 49, 32, 45, 11, 41, 51, 5, 19, 4, 40, 7, 44, 55, 34, 20, 4, 23, 55, 10, 38, 33, 41, 49, 36, 42, 31, 38, 4, 17, 38, 9, 18, 21, 53, 43, 23, 6, 7, 8, 59, 5, 42, 8, 46, 2, 5, 12, 1, 7, 45, 10, 16, 52, 5, 44, 10, 50, 36, 47, 42, 29, 53, 31, 35, 10, 15, 58, 36, 3, 9, 46, 23, 32, 35, 57, 60, 24, 56, 45, 10, 8, 8, 44, 40, 35, 22, 12, 13, 53, 20, 31, 60, 27, 21, 40, 51, 27, 24, 2, 42, 30, 9, 19, 31, 21, 54, 1, 15, 37, 46, 42, 32, 41, 51, 7, 31, 52, 6, 43, 17, 5, 54, 59, 2, 26, 6, 13, 53, 60, 36, 53, 35, 9, 1, 4, 24, 51, 50, 28, 58, 47, 17, 51, 36, 6, 42, 13, 31, 18, 4, 46, 44, 49, 49, 27, 43, 17, 14, 21, 26, 20, 5, 44, 33, 31, 46, 40, 58, 31, 28, 42, 23, 31, 47, 54, 3, 26, 9, 51, 20, 24, 52, 43, 46, 17, 5, 42, 47, 8, 57, 23, 38, 13, 34, 27, 24, 22, 38, 49, 10, 39, 21, 7, 5, 53, 45, 4, 33, 56, 59, 43, 50, 49, 32, 2, 27, 47, 58, 41, 45, 11, 22, 52, 36, 40, 3, 52, 5, 43, 35, 14, 26, 57, 20, 32, 45, 41, 38, 26, 60, 34, 29, 50, 47, 20, 35, 4, 59, 24, 30, 43, 7, 44, 1, 54, 47, 48, 44, 60, 4, 29, 18, 56, 27, 6, 24, 59, 2, 11, 49, 13, 36, 1, 44, 9, 33, 10, 23, 51, 30, 32, 51, 8, 28, 23, 33, 19, 52, 51, 35, 26, 5, 56, 24, 55, 1, 47, 38, 2, 42, 58, 41, 1, 35, 51, 34, 49, 16, 29, 6, 18, 46, 23, 31, 2, 51, 30, 29, 33, 46, 23, 47, 3, 43, 42, 60, 23, 19, 20, 16, 60, 28, 37, 10, 16, 34, 13, 60, 22, 31, 37, 21, 38, 8, 18, 34, 23, 41, 19, 40, 58, 38, 54, 23, 12, 17, 53, 48, 18, 15, 22, 20, 16, 54, 33, 24, 44, 38, 42, 23, 57, 29, 17, 60, 38, 27, 44, 8, 35, 38, 41, 44, 28, 24, 57, 7, 26, 45, 22, 27, 21, 1, 32, 50, 33, 42, 7, 58, 16, 56, 46, 7, 24, 28, 53, 6, 4, 43, 54, 56, 11, 10, 54, 37, 45, 14, 7, 7, 40, 19, 49, 11, 23, 20, 33, 37, 49, 4, 10, 17, 38, 42, 51, 34, 8, 16, 48, 43, 27, 58, 13, 57, 10, 25, 14, 33, 29, 20, 27, 49, 40, 55, 18, 48, 8, 21, 36, 23, 29, 20, 11, 16, 1, 56, 5, 51, 27, 1, 23, 45, 2, 51, 24, 56, 7, 12, 44, 47, 40, 55, 57, 52, 5, 29, 28, 31, 48, 45, 49, 1, 33, 30, 17, 47, 19, 21, 31, 56, 55, 45, 27, 20, 10, 1, 5, 42, 3, 35, 10, 47, 5, 24, 23, 42, 59, 30, 58, 50, 22, 36, 3, 35, 56, 18, 34, 2, 1, 37, 51, 48, 11, 52, 33, 15, 28, 51, 10, 35, 52, 17, 19, 9, 11, 28, 2, 1, 46, 27, 47, 37, 46, 47, 51, 23, 38, 1, 33, 8, 11, 6, 50, 13, 39, 51, 37, 35, 7, 48, 4, 12, 34, 32, 33, 9, 12, 31, 50, 18, 39, 39, 46, 18, 51, 31, 3, 44, 37, 9, 55, 14, 46, 15, 58, 24, 37, 46, 49, 18, 23, 42, 56, 32, 30, 41, 2, 53, 5, 13, 27, 24, 45, 53, 35, 26, 21, 39, 45, 58, 10, 1, 24, 44, 56, 13, 14, 27, 11, 19, 18, 38, 5, 21, 15, 34, 29, 20, 37, 57, 45, 36, 43, 38, 24, 58, 44, 12, 1, 31, 37, 17, 46, 8, 30, 23, 51, 53, 58, 24, 44, 28, 13, 45, 11, 1, 10, 30, 33, 38, 6, 58, 41, 48, 50, 15, 18, 9, 3, 18, 40, 32, 56, 39, 52, 17, 35, 19, 33, 49, 3, 35, 39, 23, 26, 11, 7, 59, 51, 32, 1, 50, 37, 51, 27, 29, 25, 12, 31, 34, 48, 36, 56, 36, 27, 20, 7, 16, 52, 38, 50, 29, 45, 17, 32, 30, 7, 47, 35, 19, 42, 59, 56, 7, 28, 21, 58, 38, 22, 50, 45, 26, 39, 50, 19, 59, 2, 29, 12, 3, 29, 10, 16, 23, 27, 51, 2, 24, 52, 36, 8, 20, 16, 35, 40, 60, 53, 25, 36, 2, 53, 42, 41, 9, 58, 16, 44, 2, 37, 30, 53, 4, 31, 47, 32, 44, 22, 31, 54, 34, 1, 49, 39, 18, 31, 57, 23, 12, 33, 4, 38, 36, 19, 41, 39, 9, 49, 23, 58, 27, 60, 30, 14, 46, 52, 27, 39, 37, 58, 60, 33, 26, 31, 30, 18, 16, 34, 42, 54, 57, 3, 49, 10, 4, 6, 41, 40, 19, 20, 28, 39, 8, 59, 42, 3, 53, 14, 44, 7, 23, 43, 1, 24, 10, 17, 42, 51, 59, 49, 43, 5, 27, 18, 25, 60, 34, 53, 45, 38, 5, 9, 41, 14, 3, 46, 52, 29, 17, 41, 12, 25, 46, 16, 33, 45, 34, 6, 13, 32, 12, 41, 24, 29, 59, 5, 51, 42, 50, 8, 53, 46, 28, 48, 37, 12, 34, 17, 9, 46, 10, 32, 38, 15, 47, 25, 10, 53, 49, 18, 20, 32, 15, 48, 23, 27, 21, 19, 52, 11, 34, 31, 29, 4, 10, 35, 12, 9, 56, 29, 14, 42, 13, 47, 60, 18, 52, 9, 37, 40, 6, 58, 41, 18, 53, 34, 59, 33, 48, 6, 2, 53, 13, 49, 10, 41, 33, 13, 14, 3, 43, 29, 17, 41, 48, 15, 20, 31, 42, 22, 51, 23, 57, 15, 36, 53, 55, 37, 60, 9, 54, 8, 45, 29, 35, 15, 20, 31, 40, 30, 27, 53, 48, 5, 30, 18, 8, 2, 28, 13, 6, 14, 45, 35, 43, 13, 28, 56, 37, 25, 6, 23, 16, 11, 42, 36, 2, 14, 21, 60, 22, 51, 25, 10, 24, 47, 48, 36, 53, 36, 10, 9, 50, 55, 45, 59, 42, 55, 32, 26, 21, 9, 15, 36, 12, 31, 6, 7, 41, 39, 29, 55, 1, 28, 56, 37, 6, 58, 60, 23, 22, 46, 53, 41, 44, 26, 39, 35, 16, 45, 35, 11, 7, 50, 34, 5, 32, 44, 54, 60, 47, 37, 34, 30, 41, 11, 27, 26, 38, 2, 27, 28, 32, 20, 27, 39, 19, 41, 12, 45, 45, 41, 39, 30, 15, 59, 1, 52, 30, 60, 20, 12, 31, 2, 51, 42, 18, 56, 39, 11, 48, 14, 19, 10, 55, 4, 44, 38, 19, 52, 4, 38, 48, 10, 45, 40, 25, 56, 30, 12, 39, 57, 20, 6, 33, 22, 31, 34, 22, 8, 52, 1, 53, 49, 34, 57, 47, 18, 6, 52, 38, 16, 21, 4, 18, 6, 30, 15, 54, 55, 26, 4, 27, 5, 42, 54, 41, 11, 34, 8, 2, 21, 25, 6, 1, 29, 13, 25, 5, 26, 42, 45, 56, 13, 3, 59, 57, 59, 6, 25, 43, 58, 28, 13, 11, 26, 50, 27, 55, 12, 50, 18, 53, 46, 47, 41, 18, 17, 2, 16, 56, 13, 22, 54, 14, 58, 1, 5, 37, 60, 34, 40, 55, 50, 42, 58, 47, 30, 54, 22, 48, 34, 23, 53, 2, 57, 35, 13, 54, 14, 9, 28, 45, 2, 23, 53, 53, 1, 3, 4, 51, 39, 31, 56, 16, 6, 11, 19, 19, 45, 43, 6, 54, 34, 6, 14, 2, 17, 44, 13, 4, 29, 8, 49, 38, 50, 20, 50, 48, 59, 28, 21, 17, 49, 27, 22, 57, 31, 11, 42, 55, 58, 35, 20, 43, 15, 22, 1, 16, 25, 20, 25, 45, 2, 41, 14, 23, 12, 54, 46, 9, 24, 56, 10, 43, 50, 1, 25, 32, 37, 5, 35, 17, 57, 45, 34, 23, 20, 37, 32, 51, 9, 13, 15, 19, 11, 53, 51, 27, 11, 46, 9, 60, 8, 25, 39, 41, 11, 12, 10, 46, 28, 22, 5, 47, 1, 26, 55, 39, 4, 10, 53, 15, 2, 6, 56, 37, 26, 18, 30, 33, 17, 27, 19, 23, 3, 45, 40, 53, 31, 19, 52, 36, 22, 22, 53, 26, 1, 43, 50, 54, 34, 59, 21, 9, 4, 19, 30, 60, 12, 6, 5, 21, 54, 10, 50, 51, 11, 43, 48, 32, 19, 17, 51, 43, 33, 53, 26, 54, 42, 40, 32, 11, 6, 59, 48, 53, 32, 30, 7, 24, 13, 29, 3, 54, 7, 37, 60, 55, 15, 48, 32, 28, 27, 34, 47, 57, 56, 14, 46, 2, 42, 3, 27, 16, 7, 2, 22, 51, 24, 48, 17, 50, 36, 8, 28, 47, 58, 59, 18, 45, 60, 8, 15, 41, 48, 57, 50, 44, 54, 59, 24, 30, 8, 57, 5, 28, 32, 22, 56, 58, 7, 33, 41, 48, 15, 17, 47, 6, 51, 13, 38, 49, 3, 18, 43, 22, 24, 16, 34, 28, 26, 33, 41, 8, 54, 4, 3, 37, 39, 48, 50, 9, 3, 29, 13, 30, 51, 49, 26, 30, 34, 24, 6, 45, 1, 57, 49, 50, 6, 58, 41, 50, 40, 9, 55, 35, 27, 3, 11, 44, 5, 24, 32, 23, 40, 41, 38, 35, 22, 8, 37, 21, 18, 29, 13, 49, 50, 45, 17, 2, 41, 39, 1, 34, 45, 59, 30, 43, 31, 34, 25, 6, 38, 24, 39, 15, 10, 14, 9, 2, 32, 22, 37, 53, 35, 52, 25, 23, 13, 55, 30, 28, 59, 33, 22, 13, 26, 1, 21, 14, 51, 10, 40, 30, 44, 36, 60, 45, 9, 60, 2, 35, 4, 8, 49, 35, 42, 56, 2, 23, 45, 16, 58, 59, 56, 5, 4, 37, 40, 60, 14, 42, 5, 32, 37, 1, 31, 14, 36, 60, 38, 17, 44, 3, 43, 21, 17, 22, 10, 25, 5, 31, 1, 28, 23, 11, 26, 24, 52, 40, 23, 30, 40, 33, 18, 20, 32, 17, 58, 33, 52, 11, 3, 39, 11, 56, 46, 13, 25, 25, 5, 53, 28, 41, 54, 43, 28, 10, 37, 47, 44, 53, 45, 47, 1, 52, 55, 7, 18, 51, 41, 44, 39, 35, 13, 32, 16, 24, 23, 56, 26, 40, 16, 57, 12, 20, 58, 10, 59, 57, 5, 19, 51, 56, 16, 5, 37, 30, 10, 53, 44, 3, 56, 41, 35, 37, 10, 19, 9, 28, 59, 16, 47, 27, 60, 38, 1, 32, 4, 23, 59, 59, 7, 18, 23, 32, 14, 7, 40, 54, 15, 3, 45, 23, 56, 41, 46, 34, 11, 48, 1, 18, 45, 17, 10, 30, 25, 23, 44, 28, 16, 5, 24, 51, 22, 11, 53, 47, 1, 3, 19, 23, 58, 50, 22, 6, 37, 30, 17, 17, 58, 45, 19, 28, 16, 31, 35, 57, 54, 21, 53, 3, 5, 2, 34, 10, 15, 25, 6, 14, 21, 3, 15, 52, 9, 58, 47, 22, 25, 53, 12, 58, 55, 34, 45, 48, 35, 44, 23, 36, 20, 46, 11, 8, 43, 28, 27, 30, 53, 26, 11, 37, 12, 25, 18, 2, 21, 9, 7, 9, 43, 10, 15, 45, 28, 21, 18, 56, 15, 51, 12, 43, 54, 29, 57, 35, 56, 27, 40, 33, 6, 39, 60, 3, 48, 44, 35, 25, 38, 10, 27, 57, 13, 23, 4, 47, 43, 45, 40, 57, 11, 9, 6, 39, 15, 22, 48, 32, 16, 33, 23, 18, 30, 42, 10, 33, 36, 13, 35, 14, 56, 52, 17, 4, 43, 39, 33, 29, 16, 44, 42, 57, 21, 2, 33, 20, 48, 3, 50, 18, 23, 9, 52, 4, 36, 25, 21, 46, 33, 22, 17, 50, 38, 20, 16, 60, 28, 54, 37, 45, 11, 39, 45, 31, 25, 43, 33, 19, 10, 16, 15, 28, 35, 20, 41, 22, 36, 43, 38, 46, 34, 59, 45, 9, 42, 16, 52, 53, 58, 30, 12, 47, 43, 38, 1, 17, 45, 46, 3, 2, 30, 14, 20, 11, 5, 30, 31, 13, 19, 28, 51, 59, 26, 53, 10, 10, 52, 23, 36, 3, 43, 17, 56, 37, 52, 18, 4, 34, 8, 2, 15, 9, 22, 55, 21, 16, 44, 29, 10, 15, 19, 35, 59, 14, 2, 56, 39, 35, 8, 23, 59, 24, 17, 10, 1, 3, 23, 51, 40, 52, 24, 12, 3, 10, 29, 24, 43, 6, 55, 10, 54, 42, 16, 40, 32, 39, 29, 24, 52, 7, 45, 36, 16, 9, 47, 13, 17, 38, 1, 9, 48, 49, 24, 48, 20, 43, 18, 6, 24, 43, 11, 39, 9, 30, 12, 8, 57, 47, 39, 9, 59, 8, 54, 21, 10, 45, 4, 6, 39, 4, 44, 52, 60, 52, 59, 55, 40, 8, 33, 28, 33, 20, 24, 57, 12, 30, 1, 14, 56, 22, 6, 32, 21, 10, 48, 34, 57, 55, 14, 16, 21, 33, 19, 9, 21, 53, 36, 52, 38, 45, 29, 42, 9, 43, 26, 40, 9, 49, 25, 35, 33, 15, 41, 45, 33, 36, 27, 20, 40, 28, 5, 8, 45, 23, 47, 29, 2, 14, 22, 55, 34, 22, 20, 24, 15, 56, 43, 21, 8, 27, 35, 43, 39, 18, 25, 37, 1, 50, 30, 25, 17, 32, 26, 39, 5, 6, 53, 15, 25, 34, 60, 5, 4, 7, 42, 32, 27, 48, 36, 2, 50, 28, 26, 55, 38, 48, 35, 19, 10, 32, 60, 13, 40, 32, 39, 13, 54, 30, 46, 35, 48, 44, 39, 36, 52, 30, 59, 20, 32, 8, 48, 10, 18, 24, 5, 39, 52, 54, 10, 52, 41, 44, 4, 20, 9, 59, 54, 16, 57, 17, 16, 60, 12, 52, 1, 19, 57, 38, 54, 4, 27, 8, 24, 47, 26, 11, 57, 52, 14, 19, 12, 59, 25, 28, 3, 32, 34, 37, 16, 6, 2, 57, 22, 55, 44, 38, 23, 45, 32, 29, 22, 18, 16, 12, 34, 37, 17, 15, 6, 39, 19, 37, 53, 46, 24, 20, 4, 50, 14, 14, 22, 6, 5, 10, 36, 43, 32, 21, 50, 35, 29, 9, 36, 29, 28, 34, 55, 55, 23, 44, 43, 36, 56, 10, 58, 14, 45, 31, 34, 5, 39, 10, 54, 46, 42, 40, 58, 30, 32, 15, 22, 37, 26, 11, 24, 59, 34, 19, 34, 44, 36, 20, 28, 21, 11, 13, 53, 54, 5, 50, 57, 48, 17, 6, 33, 44, 5, 32, 2, 12, 40, 14, 37, 39, 26, 35, 29, 56, 21, 20, 7, 40, 24, 14, 7, 35, 1, 31, 46, 57, 21, 24, 52, 25, 8, 42, 38, 49, 15, 50, 37, 6, 37, 34, 10, 3, 17, 22, 20, 52, 60, 42, 36, 59, 46, 28, 38, 4, 30, 40, 50, 43, 28, 51, 34, 45, 35, 1, 23, 5, 14, 22, 19, 33, 11, 53, 34, 20, 9, 1, 14, 54, 25, 41, 14, 54, 4, 39, 58, 27, 22, 58, 33, 59, 42, 1, 48, 50, 44, 37, 46, 18, 56, 8, 34, 39, 10, 28, 35, 58, 54, 2, 32, 11, 51, 36, 8, 35, 27, 6, 36, 53, 30, 56, 23, 46, 32, 16, 56, 40, 53, 18, 58, 32, 39, 27, 17, 11, 17, 48, 18, 4, 21, 56, 10, 11, 2, 38, 24, 55, 11, 27, 22, 25, 59, 41, 46, 54, 59, 23, 52, 2, 46, 57, 60, 48, 36, 32, 37, 40, 60, 7, 14, 28, 60, 52, 45, 4, 48, 23, 56, 8, 7, 1, 6, 29, 16, 20, 35, 47, 23, 52, 56, 4, 24, 46, 55, 10, 23, 31, 33, 51, 52, 11, 15, 29, 37, 39, 44, 7, 11, 24, 36, 42, 58, 6, 15, 18, 33, 37, 40, 4, 27, 38, 40, 58, 59, 18, 23, 37, 39, 50, 55, 6, 14, 19, 20, 39, 53, 10, 18, 33, 38, 40, 43, 6, 7, 13, 17, 22, 56, 30, 35, 36, 38, 49, 52, 7, 8, 19, 23, 27, 58, 14, 16, 23, 30, 45, 60, 6, 25, 26, 35, 38, 40, 6, 12, 22, 28, 31, 44, 6, 9, 41, 54, 56, 58, 10, 12, 22, 25, 42, 54, 14, 22, 29, 32, 33, 35, 21, 38, 53, 56, 57, 58, 7, 14, 47, 54, 56, 60, 15, 25, 27, 45, 46, 50, 3, 6, 11, 27, 28, 46, 1, 18, 19, 29, 44, 54, 10, 19, 26, 35, 38, 39, 10, 19, 27, 31, 51, 53, 8, 31, 32, 33, 38, 50, 1, 5, 6, 37, 44, 53, 50, 51, 56, 57, 58, 59, 12, 22, 27, 37, 40, 55, 4, 7, 12, 22, 26, 39, 6, 25, 35, 43, 46, 53, 18, 22, 29, 34, 36, 47, 10, 13, 20, 37, 38, 54, 4, 19, 23, 29, 56, 59, 4, 5, 36, 40, 44, 56, 8, 9, 11, 25, 39, 41, 33, 36, 40, 44, 45, 54, 8, 10, 15, 23, 25, 34, 6, 10, 19, 24, 25, 29, 10, 14, 36, 53, 55, 60, 4, 11, 20, 30, 37, 43, 6, 25, 27, 35, 45, 55, 2, 11, 13, 26, 32, 59, 3, 5, 9, 40, 42, 47, 3, 17, 34, 35, 40, 48, 5, 26, 27, 34, 42, 48, 24, 33, 34, 35, 46, 60, 10, 12, 13, 20, 22, 54, 12, 15, 18, 30, 52, 55, 8, 18, 23, 37, 42, 58, 7, 9, 23, 33, 57, 59, 5, 6, 12, 15, 22, 43, 13, 16, 26, 35, 37, 39, 2, 11, 15, 30, 36, 39, 1, 2, 14, 37, 55, 58, 10, 22, 40, 46, 55, 58, 13, 18, 35, 40, 41, 42, 6, 25, 33, 42, 48, 49, 1, 18, 19, 33, 56, 60, 7, 20, 26, 37, 38, 39, 12, 21, 25, 37, 38, 49, 4, 35, 43, 46, 47, 53, 2, 18, 19, 23, 34, 53, 3, 14, 24, 27, 38, 56, 5, 10, 32, 38, 48, 49, 8, 11, 18, 37, 40, 51, 10, 11, 12, 37, 38, 59, 11, 13, 15, 17, 22, 27, 8, 14, 27, 34, 52, 54, 4, 16, 19, 31, 33, 44, 16, 29, 35, 43, 49, 56, 6, 11, 13, 19, 24, 51, 9, 24, 28, 45, 49, 51, 2, 8, 18, 27, 38, 60, 5, 15, 20, 27, 30, 58, 1, 10, 11, 13, 35, 49, 2, 8, 18, 37, 56, 58, 4, 6, 17, 34, 51, 57, 3, 13, 40, 44, 46, 50, 2, 10, 12, 27, 45, 56, 11, 13, 16, 24, 31, 46, 3, 27, 36, 39, 40, 43, 8, 38, 44, 50, 56, 60, 19, 22, 29, 41, 44, 59, 4, 12, 16, 34, 44, 49, 5, 10, 12, 18, 25, 33, 1, 41, 44, 46, 54, 58, 17, 39, 43, 46, 52, 53, 11, 14, 21, 25, 46, 50, 17, 25, 30, 35, 42, 57, 4, 19, 27, 35, 40, 44, 1, 9, 19, 21, 34, 54, 4, 28, 29, 30, 43, 52, 11, 12, 20, 40, 41, 46, 19, 21, 26, 31, 42, 49, 13, 20, 24, 25, 38, 41, 8, 10, 17, 29, 37, 40, 3, 11, 15, 21, 27, 49, 14, 15, 47, 50, 56, 59, 2, 11, 20, 31, 43, 47, 1, 31, 44, 46, 53, 58, 7, 12, 24, 27, 39, 58, 1, 7, 28, 30, 44, 46, 11, 16, 24, 46, 54, 55, 6, 12, 31, 32, 46, 60, 13, 16, 36, 53, 54, 55, 2, 3, 6, 18, 20, 28, 5, 18, 30, 35, 39, 60, 19, 20, 26, 51, 52, 57, 6, 21, 34, 46, 54, 59, 9, 23, 28, 40, 48, 59, 1, 8, 11, 22, 30, 35, 1, 2, 11, 12, 34, 49, 4, 13, 14, 21, 30, 34, 14, 23, 29, 41, 57, 58, 17, 20, 26, 36, 42, 54, 10, 11, 17, 19, 37, 41, 7, 40, 44, 50, 52, 57, 2, 12, 35, 51, 57, 58, 7, 16, 21, 33, 55, 60, 6, 8, 28, 51, 53, 59, 16, 18, 31, 39, 42, 44, 17, 19, 37, 41, 42, 49, 8, 15, 32, 33, 58, 59, 21, 23, 37, 44, 46, 48, 23, 24, 26, 38, 42, 49, 2, 14, 18, 29, 36, 38, 26, 29, 36, 49, 50, 59, 8, 13, 28, 31, 32, 33, 7, 25, 41, 47, 50, 53, 2, 6, 27, 37, 44, 47, 1, 6, 23, 26, 39, 49, 31, 33, 34, 35, 39, 48, 9, 27, 35, 45, 46, 59, 14, 26, 35, 38, 45, 53, 1, 19, 46, 47, 49, 53, 8, 9, 10, 24, 42, 44, 11, 16, 22, 30, 34, 42, 8, 18, 20, 24, 36, 45, 16, 17, 25, 47, 48, 58, 5, 37, 43, 49, 54, 56, 3, 19, 34, 44, 56, 58, 27, 37, 38, 43, 45, 54, 1, 4, 25, 27, 29, 37, 7, 34, 45, 51, 54, 59, 10, 21, 24, 36, 38, 51, 12, 13, 19, 36, 44, 55, 9, 24, 28, 37, 43, 57, 2, 9, 42, 44, 48, 50, 10, 15, 34, 36, 56, 60, 7, 25, 32, 43, 53, 55, 8, 23, 25, 39, 43, 44, 9, 11, 14, 31, 48, 51, 2, 16, 21, 42, 50, 56, 2, 13, 24, 35, 50, 54, 10, 12, 16, 21, 28, 38, 1, 8, 19, 33, 36, 48, 19, 22, 39, 46, 47, 59, 13, 26, 30, 34, 43, 51, 15, 36, 45, 51, 52, 59, 9, 18, 19, 22, 42, 47, 12, 18, 19, 27, 41, 46, 10, 11, 16, 21, 46, 50, 2, 17, 21, 28, 51, 60, 4, 11, 16, 22, 29, 33, 5, 9, 20, 25, 35, 53, 4, 8, 26, 33, 46, 53, 7, 16, 37, 53, 57, 59, 7, 8, 22, 27, 29, 42, 8, 16, 20, 21, 31, 34, 14, 24, 32, 38, 46, 53, 1, 25, 27, 28, 41, 56, 3, 11, 29, 35, 44, 57, 1, 11, 34, 36, 44, 56, 15, 23, 30, 35, 38, 44, 11, 15, 28, 36, 43, 55, 3, 13, 23, 41, 49, 53, 11, 29, 37, 38, 43, 60, 17, 34, 46, 49, 50, 57, 1, 28, 29, 32, 35, 56, 12, 21, 28, 37, 42, 57, 6, 27, 38, 42, 45, 57, 6, 10, 11, 43, 53, 55, 16, 25, 30, 40, 45, 49, 22, 25, 28, 32, 33, 47, 11, 17, 24, 25, 33, 34, 27, 36, 40, 41, 44, 54, 23, 26, 51, 52, 53, 58, 5, 7, 10, 32, 46, 60, 4, 10, 18, 30, 34, 47, 1, 19, 21, 23, 33, 43, 10, 24, 42, 43, 48, 49, 10, 14, 16, 30, 32, 36, 6, 16, 22, 38, 48, 52, 8, 28, 36, 45, 57, 59, 3, 35, 38, 40, 57, 58, 5, 23, 34, 45, 56, 57, 13, 14, 29, 30, 48, 59, 2, 26, 40, 42, 49, 56, 16, 23, 32, 50, 52, 58, 1, 32, 37, 44, 46, 47, 2, 4, 7, 16, 30, 38, 6, 9, 12, 27, 32, 57, 9, 19, 23, 32, 39, 45, 6, 11, 29, 40, 41, 58, 7, 17, 26, 39, 56, 60, 4, 13, 25, 40, 53, 57, 7, 8, 31, 34, 38, 47, 4, 6, 32, 35, 41, 45, 4, 21, 27, 29, 42, 47, 14, 18, 30, 35, 55, 57, 7, 20, 38, 43, 45, 53, 11, 20, 27, 28, 53, 60, 11, 36, 45, 55, 57, 58, 7, 27, 31, 39, 45, 46, 7, 9, 10, 19, 25, 58, 1, 13, 18, 26, 40, 56, 5, 9, 18, 24, 25, 42, 14, 18, 28, 35, 38, 54, 3, 5, 11, 34, 37, 42, 11, 14, 15, 18, 33, 34, 5, 9, 24, 27, 33, 46, 1, 42, 44, 47, 48, 53, 9, 15, 20, 29, 30, 42, 4, 9, 31, 47, 49, 53, 27, 33, 39, 52, 57, 58, 5, 15, 22, 26, 54, 58, 1, 17, 30, 37, 46, 50, 31, 32, 33, 39, 52, 55, 4, 9, 24, 44, 47, 56, 15, 20, 39, 41, 49, 57, 9, 10, 30, 37, 47, 54, 18, 21, 30, 31, 34, 51, 1, 5, 7, 14, 23, 26, 20, 27, 41, 54, 56, 58, 12, 14, 34, 35, 37, 47, 7, 23, 26, 27, 29, 51, 7, 8, 14, 23, 30, 46, 9, 24, 33, 43, 49, 57, 2, 3, 8, 19, 29, 37, 14, 20, 23, 39, 46, 50, 10, 23, 31, 37, 58, 59, 20, 32, 33, 48, 49, 53, 4, 13, 23, 28, 30, 52, 1, 11, 14, 23, 29, 55, 14, 16, 38, 39, 41, 48, 6, 10, 27, 28, 41, 52, 2, 5, 11, 24, 41, 49, 15, 16, 20, 38, 40, 58, 8, 11, 17, 33, 40, 55, 2, 4, 25, 36, 50, 53, 5, 15, 18, 27, 49, 57, 10, 22, 23, 37, 53, 60, 8, 17, 34, 37, 43, 45, 5, 12, 14, 20, 27, 28, 28, 29, 31, 50, 58, 59, 14, 27, 35, 40, 50, 55, 12, 27, 30, 36, 45, 52, 4, 24, 37, 43, 59, 60, 4, 10, 12, 14, 36, 46, 1, 7, 10, 12, 33, 42, 9, 21, 30, 41, 42, 43, 2, 4, 6, 29, 41, 56, 2, 26, 35, 39, 40, 56, 6, 9, 34, 37, 38, 45, 5, 18, 36, 44, 57, 60, 12, 26, 31, 36, 37, 49, 6, 16, 18, 33, 42, 57, 1, 2, 10, 37, 42, 48, 9, 15, 20, 33, 41, 43, 6, 13, 26, 28, 35, 41, 1, 6, 21, 29, 36, 59, 20, 22, 35, 40, 41, 59, 13, 17, 21, 31, 41, 49, 2, 3, 19, 40, 44, 60, 9, 21, 37, 39, 43, 54, 17, 18, 35, 36, 47, 52, 18, 22, 25, 27, 43, 44, 3, 7, 17, 20, 48, 50, 12, 21, 29, 54, 56, 57, 7, 16, 22, 38, 55, 57, 3, 19, 28, 33, 57, 58, 16, 33, 38, 46, 53, 55, 9, 13, 26, 38, 58, 60, 9, 11, 29, 30, 33, 60, 13, 17, 28, 29, 42, 53, 3, 5, 9, 35, 43, 60, 3, 27, 39, 46, 47, 60, 3, 20, 26, 45, 49, 58, 6, 7, 28, 42, 45, 49, 1, 10, 17, 26, 30, 53, 2, 11, 43, 49, 52, 56, 3, 8, 30, 33, 35, 48, 28, 44, 52, 54, 58, 60, 6, 17, 25, 35, 40, 49, 6, 30, 35, 39, 42, 48, 14, 25, 28, 41, 43, 46, 2, 5, 10, 29, 34, 41, 20, 27, 35, 39, 50, 59, 2, 16, 19, 31, 43, 60, 33, 34, 37, 46, 52, 60, 10, 16, 27, 34, 36, 57, 30, 37, 45, 54, 57, 58, 8, 11, 14, 39, 48, 53, 12, 14, 28, 42, 45, 55, 17, 20, 22, 35, 41, 42, 11, 13, 16, 36, 53, 57, 12, 33, 35, 36, 44, 52, 9, 16, 31, 41, 53, 55, 4, 13, 20, 22, 25, 60, 9, 18, 23, 42, 47, 49, 8, 10, 20, 27, 28, 50, 2, 9, 34, 49, 51, 55, 8, 21, 23, 34, 42, 47, 4, 18, 29, 47, 48, 59, 16, 21, 28, 41, 49, 51, 4, 9, 31, 32, 42, 46, 17, 20, 24, 27, 40, 60, 4, 31, 42, 45, 49, 56, 11, 17, 25, 38, 52, 57, 7, 16, 19, 22, 28, 55, 3, 4, 11, 40, 42, 58, 8, 9, 17, 30, 58, 60, 2, 3, 7, 48, 51, 54, 5, 10, 25, 32, 49, 54, 25, 28, 29, 34, 41, 45, 19, 22, 35, 41, 47, 49, 9, 17, 38, 41, 49, 55, 3, 19, 34, 41, 48, 53, 6, 18, 25, 30, 42, 54, 7, 30, 31, 41, 50, 56, 3, 10, 25, 36, 51, 58, 19, 28, 30, 34, 40, 51, 5, 9, 11, 16, 43, 57, 31, 32, 39, 42, 43, 51, 10, 15, 21, 24, 29, 45, 14, 21, 22, 29, 35, 46, 3, 20, 22, 32, 35, 50, 6, 14, 24, 34, 39, 58, 20, 33, 42, 44, 51, 56, 1, 17, 28, 37, 44, 50, 4, 27, 33, 35, 38, 41, 5, 23, 29, 34, 53, 60, 4, 7, 13, 25, 36, 58, 4, 9, 17, 19, 37, 60, 7, 31, 37, 42, 44, 56, 4, 15, 30, 36, 39, 48, 3, 19, 25, 44, 46, 57, 23, 24, 26, 44, 49, 60, 12, 13, 25, 37, 39, 41, 2, 6, 44, 46, 53, 58, 12, 14, 17, 18, 19, 22, 5, 18, 29, 35, 43, 44, 11, 37, 38, 41, 49, 54, 2, 8, 26, 32, 46, 56, 11, 16, 20, 24, 39, 53, 7, 23, 32, 41, 42, 47, 6, 9, 19, 38, 53, 55, 13, 15, 16, 20, 40, 41, 9, 13, 22, 25, 26, 31, 12, 24, 32, 37, 43, 60, 11, 13, 16, 35, 49, 50, 8, 26, 30, 31, 38, 48, 8, 30, 33, 37, 45, 48, 16, 30, 37, 39, 40, 51, 9, 13, 20, 22, 32, 56, 5, 8, 13, 27, 36, 50, 11, 15, 23, 25, 34, 53, 26, 27, 28, 32, 38, 51, 5, 16, 25, 36, 42, 44, 4, 11, 12, 44, 45, 57, 2, 3, 25, 39, 42, 49, 6, 14, 20, 39, 46, 48, 8, 17, 30, 36, 54, 59, 27, 35, 42, 44, 51, 52, 9, 21, 25, 26, 36, 53, 8, 11, 13, 33, 38, 48, 6, 22, 25, 29, 30, 60, 10, 12, 14, 32, 33, 34, 1, 19, 35, 40, 47, 54, 21, 38, 48, 49, 53, 59, 8, 12, 29, 43, 54, 60, 13, 17, 31, 43, 54, 55, 4, 29, 30, 38, 43, 57, 2, 29, 39, 49, 52, 58, 7, 10, 27, 35, 43, 59, 7, 26, 29, 34, 43, 44, 9, 16, 34, 36, 49, 60, 3, 22, 37, 40, 41, 48, 4, 5, 6, 14, 29, 38, 10, 12, 26, 29, 35, 60, 6, 7, 11, 26, 37, 57, 3, 7, 10, 11, 27, 46, 2, 11, 19, 27, 57, 60, 10, 35, 43, 48, 50, 53, 5, 8, 29, 39, 44, 60, 2, 3, 32, 35, 48, 57, 2, 7, 10, 20, 30, 46, 16, 18, 38, 48, 51, 60, 3, 16, 17, 37, 38, 53, 10, 31, 38, 46, 49, 54, 5, 11, 24, 27, 32, 57, 3, 19, 25, 37, 44, 56, 3, 9, 25, 28, 29, 39, 11, 37, 53, 55, 56, 60, 19, 26, 39, 45, 46, 56, 8, 11, 22, 25, 26, 36, 7, 29, 38, 40, 44, 52, 8, 9, 32, 52, 53, 57, 1, 2, 14, 28, 40, 51, 5, 22, 30, 32, 33, 36, 5, 15, 28, 32, 38, 54, 1, 19, 41, 46, 48, 55, 4, 11, 19, 25, 37, 55, 2, 8, 34, 38, 47, 51, 12, 15, 23, 32, 33, 46, 9, 41, 42, 46, 47, 54, 2, 7, 9, 25, 41, 49, 1, 5, 12, 13, 17, 31, 15, 17, 20, 35, 37, 43, 11, 25, 32, 37, 47, 56, 1, 13, 27, 41, 51, 58, 13, 19, 29, 42, 49, 52, 18, 30, 32, 35, 40, 48, 14, 20, 21, 31, 49, 52, 2, 6, 11, 15, 17, 39, 13, 26, 31, 46, 51, 60, 8, 10, 51, 56, 57, 58, 10, 14, 15, 24, 34, 44, 9, 14, 22, 24, 44, 47, 21, 38, 50, 53, 56, 59, 28, 34, 40, 41, 52, 55, 10, 19, 46, 47, 49, 50, 15, 40, 44, 45, 47, 51, 15, 24, 33, 49, 53, 59, 16, 17, 18, 28, 35, 47, 8, 11, 16, 21, 32, 37, 3, 16, 23, 41, 45, 57, 11, 16, 31, 37, 42, 51, 2, 7, 24, 43, 52, 56, 3, 8, 23, 29, 53, 54, 2, 3, 13, 20, 53, 54, 1, 10, 19, 34, 35, 45, 22, 35, 41, 42, 53, 57, 5, 28, 30, 38, 52, 55, 8, 33, 40, 42, 48, 51, 8, 23, 29, 30, 36, 55, 5, 13, 18, 23, 35, 36, 15, 18, 28, 42, 55, 60, 22, 30, 38, 39, 49, 56, 1, 40, 44, 45, 58, 60, 2, 7, 32, 46, 49, 55, 20, 33, 37, 38, 49, 50, 2, 17, 23, 28, 39, 46, 10, 15, 17, 20, 21, 35, 4, 6, 9, 31, 50, 56, 1, 8, 21, 27, 36, 37, 1, 32, 35, 44, 45, 57, 20, 34, 38, 40, 49, 54, 11, 14, 36, 41, 54, 59, 5, 12, 32, 38, 47, 60, 8, 9, 17, 19, 33, 56, 23, 36, 42, 48, 54, 58, 17, 31, 34, 40, 56, 57, 3, 10, 13, 25, 41, 42, 11, 16, 17, 41, 46, 59, 22, 29, 38, 43, 48, 53, 10, 30, 31, 33, 42, 52, 4, 9, 37, 43, 44, 56, 1, 4, 10, 22, 53, 54, 8, 12, 14, 30, 33, 41, 7, 26, 31, 38, 46, 58, 5, 14, 23, 46, 48, 52, 9, 12, 26, 29, 46, 47, 11, 19, 38, 47, 56, 59, 5, 16, 25, 32, 39, 55, 11, 27, 32, 40, 58, 59, 16, 20, 21, 39, 44, 55, 3, 14, 16, 38, 43, 45, 14, 33, 41, 42, 44, 55, 3, 5, 19, 26, 43, 51, 21, 22, 29, 34, 40, 44, 4, 6, 12, 34, 35, 53, 41, 45, 48, 51, 53, 58, 8, 37, 39, 50, 59, 60, 8, 13, 25, 32, 44, 57, 4, 10, 15, 39, 41, 49, 7, 10, 34, 47, 49, 52, 13, 19, 21, 35, 46, 50, 5, 15, 24, 34, 45, 52, 3, 12, 19, 41, 45, 54, 8, 17, 49, 51, 52, 53, 1, 5, 6, 16, 22, 39, 3, 22, 23, 44, 53, 60, 3, 8, 20, 36, 38, 57, 2, 17, 22, 41, 58, 60, 23, 28, 33, 38, 55, 59, 4, 5, 25, 32, 39, 40, 1, 10, 27, 36, 37, 45, 3, 20, 22, 37, 41, 43]\n",
      "Quantidade total de números : 12480\n",
      "Concursos analisados: 444 a 2524\n",
      "    Numero  Repeticoes\n",
      "9       10         244\n",
      "52      53         237\n",
      "7        8         231\n",
      "41      42         225\n",
      "10      11         224\n",
      "33      34         224\n",
      "36      37         224\n",
      "48      49         223\n",
      "26      27         222\n",
      "3        4         221\n",
      "32      33         221\n",
      "34      35         220\n",
      "4        5         220\n",
      "1        2         220\n",
      "16      17         220\n",
      "35      36         219\n",
      "29      30         219\n",
      "43      44         218\n",
      "28      29         217\n",
      "27      28         217\n",
      "40      41         216\n",
      "38      39         215\n",
      "50      51         214\n",
      "22      23         214\n",
      "37      38         213\n",
      "53      54         213\n",
      "5        6         212\n",
      "45      46         211\n",
      "17      18         211\n",
      "31      32         211\n",
      "55      56         210\n",
      "42      43         208\n",
      "51      52         206\n",
      "8        9         206\n",
      "15      16         205\n",
      "12      13         205\n",
      "18      19         204\n",
      "44      45         203\n",
      "49      50         203\n",
      "23      24         203\n",
      "19      20         203\n",
      "2        3         202\n",
      "57      58         201\n",
      "0        1         201\n",
      "56      57         200\n",
      "59      60         197\n",
      "47      48         196\n",
      "39      40         196\n",
      "13      14         196\n",
      "58      59         195\n",
      "11      12         194\n",
      "30      31         194\n",
      "24      25         193\n",
      "46      47         191\n",
      "6        7         188\n",
      "14      15         186\n",
      "21      22         182\n",
      "20      21         174\n",
      "54      55         174\n",
      "25      26         168\n"
     ]
    }
   ],
   "source": [
    "numero_ultimo_concurso = 2524\n",
    "\n",
    "# lista para armazenar os números sorteados\n",
    "n_sorteados=[]\n",
    "\n",
    "# lista para armazenar o número do concurso\n",
    "#c = consurso_i\n",
    "\n",
    "# número de valores anteriores a pesquisar:\n",
    "quantidade_valores_anteriores = 52*2*20\n",
    "\n",
    "#percorrer todas as colunas    \n",
    "for x in range(numero_ultimo_concurso + 1):\n",
    "    c = x\n",
    "    a = c - quantidade_valores_anteriores \n",
    "    if a <0:\n",
    "        a=0\n",
    "    #print(f\"Concursos analisados: {a} a {c}\")\n",
    "\n",
    "\n",
    "#percorrer concursos anteriores \n",
    "#código para descobrir a tabela 1\n",
    "colunas = ['Dezena1','Dezena2', 'Dezena3', 'Dezena4' , 'Dezena5', 'Dezena6']   \n",
    "for i in range(a,c): \n",
    "    for k in colunas: #percorrer cada uma das colunas das dezenas\n",
    "        j = data[k].iloc[i] #descobrir o valor sorteado naquela dezena \n",
    "        n_sorteados.append(j) #adicionar ao n_sorteados o valor descoberto \n",
    "#criar o dicionário para as apariçoes de cada número      \n",
    "\n",
    "print(f\"Os números sorteados nos últimos {quantidade_valores_anteriores} concursos foi (n_sorteados): {n_sorteados}\")\n",
    "print(f\"Quantidade total de números : {len(n_sorteados)}\")\n",
    "\n",
    "aparicoes={}   \n",
    "#para cada valor sorteado\n",
    "for i in set(n_sorteados):\n",
    "    aparicoes[i] = n_sorteados.count(i) #dizer quantas vezes ele aparece    \n",
    "chaves = [] #criar uma lista para receber as chaves\n",
    "valores = [] #criar uma lista para receber os valores\n",
    "#para cada item em aparições\n",
    "for i,j in aparicoes.items():\n",
    "    chaves.append(i) #adicionar os valores da lista chave\n",
    "    valores.append(j) #adivionar os valores da lista value\n",
    "#criar um dicionário B com os valores das chavez e dos valores\n",
    "B = {'Numero':chaves, 'Repeticoes':valores} \n",
    "#criar um dataframe que será a tabela 1 \n",
    "tab1= pd.DataFrame(data = B) \n",
    "#ordenar o DataFrame pelo número de aparições e do maior para o menor\n",
    "tab1 = tab1.sort_values(by=['Repeticoes'], ascending = False)\n",
    "\n",
    "print(f\"Concursos analisados: {a} a {c}\")\n",
    "print(tab1)"
   ]
  },
  {
   "cell_type": "code",
   "execution_count": 110,
   "metadata": {},
   "outputs": [
    {
     "name": "stdout",
     "output_type": "stream",
     "text": [
      "    Numero Última Aparição\n",
      "17      18      2022-04-20\n",
      "29      30      2022-06-28\n",
      "30      31      2022-06-30\n",
      "8        9      2022-07-06\n",
      "55      56      2022-07-09\n",
      "10      11      2022-07-16\n",
      "41      42      2022-07-27\n",
      "13      14      2022-07-27\n",
      "25      26      2022-07-30\n",
      "28      29      2022-08-02\n",
      "47      48      2022-08-06\n",
      "6        7      2022-08-20\n",
      "46      47      2022-08-20\n",
      "45      46      2022-08-24\n",
      "12      13      2022-08-24\n",
      "49      50      2022-08-24\n",
      "34      35      2022-08-24\n",
      "20      21      2022-08-24\n",
      "23      24      2022-08-27\n",
      "33      34      2022-08-27\n",
      "14      15      2022-08-27\n",
      "18      19      2022-08-31\n",
      "11      12      2022-08-31\n",
      "53      54      2022-08-31\n",
      "48      49      2022-09-03\n",
      "50      51      2022-09-03\n",
      "51      52      2022-09-03\n",
      "15      16      2022-09-08\n",
      "5        6      2022-09-08\n",
      "52      53      2022-09-10\n",
      "43      44      2022-09-10\n",
      "7        8      2022-09-13\n",
      "56      57      2022-09-13\n",
      "57      58      2022-09-15\n",
      "59      60      2022-09-15\n",
      "1        2      2022-09-15\n",
      "16      17      2022-09-15\n",
      "37      38      2022-09-17\n",
      "54      55      2022-09-17\n",
      "58      59      2022-09-17\n",
      "27      28      2022-09-17\n",
      "32      33      2022-09-17\n",
      "22      23      2022-09-17\n",
      "24      25      2022-09-21\n",
      "38      39      2022-09-21\n",
      "39      40      2022-09-21\n",
      "3        4      2022-09-21\n",
      "31      32      2022-09-21\n",
      "4        5      2022-09-21\n",
      "9       10      2022-09-24\n",
      "35      36      2022-09-24\n",
      "26      27      2022-09-24\n",
      "44      45      2022-09-24\n",
      "0        1      2022-09-24\n",
      "21      22      2022-09-28\n",
      "42      43      2022-09-28\n",
      "40      41      2022-09-28\n",
      "2        3      2022-09-28\n",
      "36      37      2022-09-28\n",
      "19      20      2022-09-28\n"
     ]
    }
   ],
   "source": [
    "#criar dicionário para armazenar a última aparição do número\n",
    "ultima_aparicao = {} \n",
    "#para cada número\n",
    "for j in set(n_sorteados): \n",
    "    for i in range(c): #do primeiro ao ultimo concurso\n",
    "        for k in colunas: #para cada dezena\n",
    "            if j == data[k].iloc[i]: #se o i for igual a uma das dezenas sorteadas \n",
    "                ultima_aparicao[j] = data['Data Sorteio'].iloc[i] #colocar data do concurso no dicionário\n",
    "#criar uma lista para receber as chaves\n",
    "chaves = [] \n",
    "#criar uma lista para receber os valores\n",
    "valores = [] \n",
    "#para cada item do dicionário\n",
    "for i,j in ultima_aparicao.items():\n",
    "    chaves.append(i) #adicionar as keys na lista chave\n",
    "    valores.append(j) #adivionar os values na lista value \n",
    "#criar um dicionário C com os valores das chavez e dos valores\n",
    "C = {'Numero':chaves, 'Última Aparição':valores} \n",
    "#criar um dataframe que será a tabela 2\n",
    "tab2 = pd.DataFrame(data=C) \n",
    "#ordenar o DataFrame pelo ultima aparição da mais antiga para a mais atual\n",
    "tab2 = tab2.sort_values('Última Aparição')\n",
    "\n",
    "print(tab2)"
   ]
  },
  {
   "cell_type": "code",
   "execution_count": 111,
   "metadata": {},
   "outputs": [
    {
     "name": "stdout",
     "output_type": "stream",
     "text": [
      "    Numero  Soma das posições\n",
      "41      42                  9\n",
      "10      11                  9\n",
      "29      30                 17\n",
      "33      34                 24\n",
      "34      35                 27\n",
      "28      29                 27\n",
      "17      18                 28\n",
      "52      53                 30\n",
      "48      49                 31\n",
      "7        8                 33\n",
      "55      56                 34\n",
      "8        9                 36\n",
      "45      46                 40\n",
      "43      44                 47\n",
      "50      51                 47\n",
      "53      54                 48\n",
      "1        2                 48\n",
      "9       10                 49\n",
      "12      13                 49\n",
      "16      17                 50\n",
      "32      33                 51\n",
      "49      50                 53\n",
      "30      31                 53\n",
      "5        6                 54\n",
      "13      14                 55\n",
      "3        4                 55\n",
      "47      48                 56\n",
      "18      19                 57\n",
      "23      24                 57\n",
      "51      52                 58\n",
      "26      27                 59\n",
      "27      28                 59\n",
      "4        5                 60\n",
      "37      38                 61\n",
      "15      16                 61\n",
      "36      37                 64\n",
      "35      36                 65\n",
      "38      39                 65\n",
      "22      23                 65\n",
      "46      47                 65\n",
      "6        7                 65\n",
      "25      26                 67\n",
      "11      12                 72\n",
      "20      21                 74\n",
      "57      58                 75\n",
      "14      15                 75\n",
      "40      41                 76\n",
      "56      57                 76\n",
      "31      32                 76\n",
      "59      60                 79\n",
      "42      43                 86\n",
      "58      59                 88\n",
      "44      45                 89\n",
      "39      40                 92\n",
      "24      25                 95\n",
      "54      55                 96\n",
      "0        1                 96\n",
      "2        3                 98\n",
      "19      20                 99\n",
      "21      22                110\n"
     ]
    }
   ],
   "source": [
    "# Montando a tabela 3:\n",
    "soma_posicoes = {} #criar dicionário para armazenar as somas\n",
    "posicao_tab1 = {} #criar dicionário para armazenar as posições da tabela1\n",
    "posicao_tab2 = {} #criar dicionário para armazenar as posições da tabela2\n",
    "#para cada valor sorteado\n",
    "for j in set(n_sorteados):\n",
    "    index_tab1 = pd.Index(tab1.Numero)\n",
    "    posicao_tab1[j] = index_tab1.get_loc(j)#pegar a posição do j na tabela 1    \n",
    "#para cada valor sorteado\n",
    "for j in set(n_sorteados):\n",
    "    index_tab2 = pd.Index(tab2.Numero)\n",
    "    posicao_tab2[j] = index_tab2.get_loc(j)#pegar a posição do j na tabela 2\n",
    "#para cada valor sorteado   \n",
    "for i in set(n_sorteados):    \n",
    "    soma_posicoes[i]= posicao_tab1[i] + posicao_tab2[i] #adicionar a soma da posição nas tabelas \n",
    "#criar uma lista para receber as chaves\n",
    "chaves = [] \n",
    "#criar uma lista para receber os valores\n",
    "valores = [] \n",
    "#para cada item do dicionário\n",
    "for i,j in soma_posicoes.items():\n",
    "    chaves.append(i) #adicionar os valores da lista chave\n",
    "    valores.append(j) #adivionar os valores da lista value    \n",
    "#cria um dicionário D com os valores das chaves e dos valores\n",
    "D = {'Numero':chaves, 'Soma das posições':valores} \n",
    " #criar um dataframe que será a tabela 3\n",
    "tab3 = pd.DataFrame(data=D) \n",
    "#ordenamar o dataframe pelo número de aparições e do menor para o maior\n",
    "tab3 = tab3.sort_values('Soma das posições')\n",
    "\n",
    "print(tab3)"
   ]
  },
  {
   "cell_type": "code",
   "execution_count": 112,
   "metadata": {},
   "outputs": [
    {
     "name": "stdout",
     "output_type": "stream",
     "text": [
      "[42, 11, 30, 34, 35, 29, 18]\n"
     ]
    }
   ],
   "source": [
    "#Escolhendo os 4 Números\n",
    "#na coluna Numero da tabela 3 , busco os 4 primeiros valores\n",
    "quantidade_numeros_escolher = 7\n",
    "numeros_escolhidos = tab3.Numero.iloc[0:quantidade_numeros_escolher].tolist()\n",
    "\n",
    "print(numeros_escolhidos)"
   ]
  },
  {
   "cell_type": "code",
   "execution_count": 113,
   "metadata": {},
   "outputs": [
    {
     "ename": "KeyError",
     "evalue": "2524",
     "output_type": "error",
     "traceback": [
      "\u001b[1;31m---------------------------------------------------------------------------\u001b[0m",
      "\u001b[1;31mValueError\u001b[0m                                Traceback (most recent call last)",
      "File \u001b[1;32mc:\\Users\\blbit\\AppData\\Local\\Programs\\Python\\Python310\\lib\\site-packages\\pandas\\core\\indexes\\range.py:385\u001b[0m, in \u001b[0;36mRangeIndex.get_loc\u001b[1;34m(self, key, method, tolerance)\u001b[0m\n\u001b[0;32m    384\u001b[0m \u001b[39mtry\u001b[39;00m:\n\u001b[1;32m--> 385\u001b[0m     \u001b[39mreturn\u001b[39;00m \u001b[39mself\u001b[39;49m\u001b[39m.\u001b[39;49m_range\u001b[39m.\u001b[39;49mindex(new_key)\n\u001b[0;32m    386\u001b[0m \u001b[39mexcept\u001b[39;00m \u001b[39mValueError\u001b[39;00m \u001b[39mas\u001b[39;00m err:\n",
      "\u001b[1;31mValueError\u001b[0m: 2524 is not in range",
      "\nThe above exception was the direct cause of the following exception:\n",
      "\u001b[1;31mKeyError\u001b[0m                                  Traceback (most recent call last)",
      "Cell \u001b[1;32mIn [113], line 4\u001b[0m\n\u001b[0;32m      2\u001b[0m \u001b[38;5;28;01mfor\u001b[39;00m i \u001b[38;5;129;01min\u001b[39;00m colunas: \u001b[38;5;66;03m#para cada dezena\u001b[39;00m\n\u001b[0;32m      3\u001b[0m     \u001b[38;5;28;01mfor\u001b[39;00m j \u001b[38;5;129;01min\u001b[39;00m numeros_escolhidos: \u001b[38;5;66;03m#para cada palpite\u001b[39;00m\n\u001b[1;32m----> 4\u001b[0m         \u001b[38;5;28;01mif\u001b[39;00m j \u001b[38;5;241m==\u001b[39m data[i]\u001b[38;5;241m.\u001b[39mloc[c]: \u001b[38;5;66;03m#verificar se naquele concurso o palpite foi certo\u001b[39;00m\n\u001b[0;32m      5\u001b[0m             data[\u001b[38;5;124m'\u001b[39m\u001b[38;5;124mAcertos Palpite\u001b[39m\u001b[38;5;124m'\u001b[39m][c] \u001b[38;5;241m+\u001b[39m\u001b[38;5;241m=\u001b[39m \u001b[38;5;241m1\u001b[39m\n",
      "File \u001b[1;32mc:\\Users\\blbit\\AppData\\Local\\Programs\\Python\\Python310\\lib\\site-packages\\pandas\\core\\indexing.py:967\u001b[0m, in \u001b[0;36m_LocationIndexer.__getitem__\u001b[1;34m(self, key)\u001b[0m\n\u001b[0;32m    964\u001b[0m axis \u001b[39m=\u001b[39m \u001b[39mself\u001b[39m\u001b[39m.\u001b[39maxis \u001b[39mor\u001b[39;00m \u001b[39m0\u001b[39m\n\u001b[0;32m    966\u001b[0m maybe_callable \u001b[39m=\u001b[39m com\u001b[39m.\u001b[39mapply_if_callable(key, \u001b[39mself\u001b[39m\u001b[39m.\u001b[39mobj)\n\u001b[1;32m--> 967\u001b[0m \u001b[39mreturn\u001b[39;00m \u001b[39mself\u001b[39;49m\u001b[39m.\u001b[39;49m_getitem_axis(maybe_callable, axis\u001b[39m=\u001b[39;49maxis)\n",
      "File \u001b[1;32mc:\\Users\\blbit\\AppData\\Local\\Programs\\Python\\Python310\\lib\\site-packages\\pandas\\core\\indexing.py:1202\u001b[0m, in \u001b[0;36m_LocIndexer._getitem_axis\u001b[1;34m(self, key, axis)\u001b[0m\n\u001b[0;32m   1200\u001b[0m \u001b[39m# fall thru to straight lookup\u001b[39;00m\n\u001b[0;32m   1201\u001b[0m \u001b[39mself\u001b[39m\u001b[39m.\u001b[39m_validate_key(key, axis)\n\u001b[1;32m-> 1202\u001b[0m \u001b[39mreturn\u001b[39;00m \u001b[39mself\u001b[39;49m\u001b[39m.\u001b[39;49m_get_label(key, axis\u001b[39m=\u001b[39;49maxis)\n",
      "File \u001b[1;32mc:\\Users\\blbit\\AppData\\Local\\Programs\\Python\\Python310\\lib\\site-packages\\pandas\\core\\indexing.py:1153\u001b[0m, in \u001b[0;36m_LocIndexer._get_label\u001b[1;34m(self, label, axis)\u001b[0m\n\u001b[0;32m   1151\u001b[0m \u001b[39mdef\u001b[39;00m \u001b[39m_get_label\u001b[39m(\u001b[39mself\u001b[39m, label, axis: \u001b[39mint\u001b[39m):\n\u001b[0;32m   1152\u001b[0m     \u001b[39m# GH#5667 this will fail if the label is not present in the axis.\u001b[39;00m\n\u001b[1;32m-> 1153\u001b[0m     \u001b[39mreturn\u001b[39;00m \u001b[39mself\u001b[39;49m\u001b[39m.\u001b[39;49mobj\u001b[39m.\u001b[39;49mxs(label, axis\u001b[39m=\u001b[39;49maxis)\n",
      "File \u001b[1;32mc:\\Users\\blbit\\AppData\\Local\\Programs\\Python\\Python310\\lib\\site-packages\\pandas\\core\\generic.py:3864\u001b[0m, in \u001b[0;36mNDFrame.xs\u001b[1;34m(self, key, axis, level, drop_level)\u001b[0m\n\u001b[0;32m   3862\u001b[0m             new_index \u001b[39m=\u001b[39m index[loc]\n\u001b[0;32m   3863\u001b[0m \u001b[39melse\u001b[39;00m:\n\u001b[1;32m-> 3864\u001b[0m     loc \u001b[39m=\u001b[39m index\u001b[39m.\u001b[39;49mget_loc(key)\n\u001b[0;32m   3866\u001b[0m     \u001b[39mif\u001b[39;00m \u001b[39misinstance\u001b[39m(loc, np\u001b[39m.\u001b[39mndarray):\n\u001b[0;32m   3867\u001b[0m         \u001b[39mif\u001b[39;00m loc\u001b[39m.\u001b[39mdtype \u001b[39m==\u001b[39m np\u001b[39m.\u001b[39mbool_:\n",
      "File \u001b[1;32mc:\\Users\\blbit\\AppData\\Local\\Programs\\Python\\Python310\\lib\\site-packages\\pandas\\core\\indexes\\range.py:387\u001b[0m, in \u001b[0;36mRangeIndex.get_loc\u001b[1;34m(self, key, method, tolerance)\u001b[0m\n\u001b[0;32m    385\u001b[0m         \u001b[39mreturn\u001b[39;00m \u001b[39mself\u001b[39m\u001b[39m.\u001b[39m_range\u001b[39m.\u001b[39mindex(new_key)\n\u001b[0;32m    386\u001b[0m     \u001b[39mexcept\u001b[39;00m \u001b[39mValueError\u001b[39;00m \u001b[39mas\u001b[39;00m err:\n\u001b[1;32m--> 387\u001b[0m         \u001b[39mraise\u001b[39;00m \u001b[39mKeyError\u001b[39;00m(key) \u001b[39mfrom\u001b[39;00m \u001b[39merr\u001b[39;00m\n\u001b[0;32m    388\u001b[0m \u001b[39mself\u001b[39m\u001b[39m.\u001b[39m_check_indexing_error(key)\n\u001b[0;32m    389\u001b[0m \u001b[39mraise\u001b[39;00m \u001b[39mKeyError\u001b[39;00m(key)\n",
      "\u001b[1;31mKeyError\u001b[0m: 2524"
     ]
    }
   ],
   "source": [
    "#Verificando se um dos números foi sorteado\n",
    "for i in colunas: #para cada dezena\n",
    "    for j in numeros_escolhidos: #para cada palpite\n",
    "        if j == data[i].loc[c]: #verificar se naquele concurso o palpite foi certo\n",
    "            data['Acertos Palpite'][c] += 1 #somar na coluna 'Acertos Palpite'"
   ]
  },
  {
   "cell_type": "markdown",
   "metadata": {},
   "source": [
    "### <span style=\"color:##191970\">2.3 Vendo a Eficiência do Método</span>"
   ]
  },
  {
   "cell_type": "markdown",
   "metadata": {},
   "source": [
    "#### <span style=\"color:##191970\">a) Criando uma nova tabela</span>"
   ]
  },
  {
   "cell_type": "code",
   "execution_count": null,
   "metadata": {
    "scrolled": true
   },
   "outputs": [],
   "source": [
    "#calcular em quantos porcento do total o método acertou 0, 1, 2 ou 3 números\n",
    "tab_eficiencia = data.pivot_table(index=\"Acertos Palpite\", #atribuir o index a Acertos Palpite\n",
    "                 values = \"Concurso\", #Atribuir os valores a concurso\n",
    "                 aggfunc=lambda x: 100*(len(x)/len(data))) #calcular a porcentagem\n",
    "\n",
    "#alterar o nome da coluna Concurso para Porcentagem\n",
    "tab_eficiencia.rename(columns={'Concurso':'Porcentagem'}, inplace=True)\n",
    "tab_eficiencia"
   ]
  },
  {
   "cell_type": "markdown",
   "metadata": {},
   "source": [
    "- Diante da tabela acima,percebemos que o algorítimo na verdade é bem interessante, pois ele teria nos ajudado a acertar pelo menos 1 número em aproximadamente 35% dos concursos. "
   ]
  },
  {
   "cell_type": "markdown",
   "metadata": {},
   "source": [
    "#### <span style=\"color:##191970\">b) Gerando um gráfico</span>"
   ]
  },
  {
   "cell_type": "code",
   "execution_count": null,
   "metadata": {},
   "outputs": [],
   "source": [
    "#gerar um subplot\n",
    "fig, ax = plt.subplots() \n",
    "\n",
    "#utilizar arrange para definir o número de barras\n",
    "from numpy import arange\n",
    "bar_posicoes = arange(2) + 1  \n",
    "\n",
    "#atribuir a linhas, as labels que iremos utilizar\n",
    "linhas=['','Nenhum', 'Pelo menos 1', '']\n",
    "\n",
    "#atribir a bar_altura, a porcentagem de 0 e aporcentagem de 1 a 3 acertos\n",
    "bar_altura = [tab_eficiencia['Porcentagem'][0],tab_eficiencia['Porcentagem'][1:3].sum()]#Trazendo o valor da porcentagem\n",
    "\n",
    "#definir quantas posições terá o plot\n",
    "ticks_posicao= range(0,4)\n",
    "\n",
    "#configurar posição, a altura e o espaçamento das barras\n",
    "ax.bar(bar_posicoes, bar_altura, 0.7) \n",
    "\n",
    "#atribuir as labels e as suas posiçoes\n",
    "ax.set_xticklabels(linhas) \n",
    "ax.set_xticks(ticks_posicao) \n",
    "\n",
    "#definir a altura do eixo y\n",
    "ax.set_ylim(0, 100) \n",
    "\n",
    "#Alterar o título e informaçoes do plot\n",
    "plt.title('Eficiência do Método')\n",
    "plt.xlabel('Número de acertos')\n",
    "plt.ylabel('Porcentagem do Total')\n",
    "\n"
   ]
  },
  {
   "cell_type": "markdown",
   "metadata": {},
   "source": [
    "- O gráfico acima reforça de uma maneira mais visual o que já foi apresentado no item anterior:**a diferença entre a porcentagem de nenhum acerto e a porcentagem de pelo menos 1 acerto na aposta do número não é tão grande assim**. E assim verificamos que a aplicação do método, teve, sim, uma certa relevância, pois em uma parcela expressiva dos concursos ele teria nos ajudado a acertar pelo menos  1 dos números."
   ]
  },
  {
   "cell_type": "markdown",
   "metadata": {},
   "source": [
    "## <span style=\"color:##191970\">3. Conclusão</span>\n",
    "\n",
    "Como a Mega-Sena se trata de um jogo de azar, infelizmente, afirmar que existe um método de escolha que **é** mais vantajoso ou afirmar que podemos **prever** os números que serão sorteados não é algo que podemos fazer. No entanto, diante das análises que foram apresentadas ao longo desse notebook, somos capazes de dizer que para os jogos anteriores o método proposto **foi**, de certa forma, vantajoso e que muitos dos números que **prevemos**, de fato foram sorteados. Sendo assim, podemos concluir que a aplicação de uma lógica na escolha dos números da Mega-sena nem sempre será algo inútil ou irrelevante como muitos pensam que é, e que pode ser bem interessante desenvolver um raciocínio para o jogo quando se tem tantos dados disponíveis para serem estudados. \n"
   ]
  }
 ],
 "metadata": {
  "kernelspec": {
   "display_name": "Python 3 (ipykernel)",
   "language": "python",
   "name": "python3"
  },
  "language_info": {
   "codemirror_mode": {
    "name": "ipython",
    "version": 3
   },
   "file_extension": ".py",
   "mimetype": "text/x-python",
   "name": "python",
   "nbconvert_exporter": "python",
   "pygments_lexer": "ipython3",
   "version": "3.10.5"
  },
  "vscode": {
   "interpreter": {
    "hash": "01ce8455095db73eee80700edb2bcf563a8a28a457d3591eb6b69f1a2de6436a"
   }
  }
 },
 "nbformat": 4,
 "nbformat_minor": 2
}
